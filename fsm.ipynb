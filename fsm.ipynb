{
 "metadata": {
  "name": ""
 },
 "nbformat": 3,
 "nbformat_minor": 0,
 "worksheets": [
  {
   "cells": [
    {
     "cell_type": "code",
     "collapsed": false,
     "input": [
      " from fysom import Fysom"
     ],
     "language": "python",
     "metadata": {},
     "outputs": [],
     "prompt_number": 2
    },
    {
     "cell_type": "heading",
     "level": 3,
     "metadata": {},
     "source": [
      "Tile"
     ]
    },
    {
     "cell_type": "code",
     "collapsed": false,
     "input": [
      "# belongs to a board\n",
      "# once placed also belongs to a ship"
     ],
     "language": "python",
     "metadata": {},
     "outputs": [],
     "prompt_number": 203
    },
    {
     "cell_type": "code",
     "collapsed": false,
     "input": [
      "def place(e):\n",
      "    if not e.too_close:\n",
      "        print('placing a deck and starting a loop')\n",
      "        print('assigning tile to a ship and setting a reference back')\n",
      "    else:\n",
      "        print('not gonna place this ship there, buddy')\n",
      "        return False"
     ],
     "language": "python",
     "metadata": {},
     "outputs": [],
     "prompt_number": 204
    },
    {
     "cell_type": "code",
     "collapsed": false,
     "input": [
      "def clear(e):\n",
      "    if not e.game_on:\n",
      "        print('clearing tile')\n",
      "    else:\n",
      "        print('tile cannot be cleared once the game is started')\n",
      "        return False"
     ],
     "language": "python",
     "metadata": {},
     "outputs": [],
     "prompt_number": 205
    },
    {
     "cell_type": "code",
     "collapsed": false,
     "input": [
      "tile = Fysom(dict(initial='empty',\n",
      "                  final='shot',\n",
      "                  events=(dict(name='place', src='empty', dst='deck'),\n",
      "                          dict(name='clear', src='deck',  dst='empty'),\n",
      "                          dict(name='shoot', src='deck',  dst='shot')),\n",
      "                  callbacks={'onbeforeclear': clear,\n",
      "                             'onleaveempty':  place,}))"
     ],
     "language": "python",
     "metadata": {},
     "outputs": [],
     "prompt_number": 206
    },
    {
     "cell_type": "code",
     "collapsed": false,
     "input": [
      "tile.current"
     ],
     "language": "python",
     "metadata": {},
     "outputs": [
      {
       "metadata": {},
       "output_type": "pyout",
       "prompt_number": 207,
       "text": [
        "'empty'"
       ]
      }
     ],
     "prompt_number": 207
    },
    {
     "cell_type": "code",
     "collapsed": false,
     "input": [
      "tile.place(too_close=False)"
     ],
     "language": "python",
     "metadata": {},
     "outputs": [
      {
       "output_type": "stream",
       "stream": "stdout",
       "text": [
        "placing a deck and starting a loop\n",
        "assigning tile to a ship and setting a reference back\n"
       ]
      }
     ],
     "prompt_number": 208
    },
    {
     "cell_type": "code",
     "collapsed": false,
     "input": [
      "tile.current"
     ],
     "language": "python",
     "metadata": {},
     "outputs": [
      {
       "metadata": {},
       "output_type": "pyout",
       "prompt_number": 209,
       "text": [
        "'deck'"
       ]
      }
     ],
     "prompt_number": 209
    },
    {
     "cell_type": "code",
     "collapsed": false,
     "input": [
      "tile.clear(game_on=True)"
     ],
     "language": "python",
     "metadata": {},
     "outputs": [
      {
       "output_type": "stream",
       "stream": "stdout",
       "text": [
        "tile cannot be cleared once the game is started\n"
       ]
      }
     ],
     "prompt_number": 210
    },
    {
     "cell_type": "code",
     "collapsed": false,
     "input": [
      "tile.current"
     ],
     "language": "python",
     "metadata": {},
     "outputs": [
      {
       "metadata": {},
       "output_type": "pyout",
       "prompt_number": 211,
       "text": [
        "'deck'"
       ]
      }
     ],
     "prompt_number": 211
    },
    {
     "cell_type": "code",
     "collapsed": false,
     "input": [
      "tile.shoot()\n",
      "tile.current"
     ],
     "language": "python",
     "metadata": {},
     "outputs": [
      {
       "metadata": {},
       "output_type": "pyout",
       "prompt_number": 212,
       "text": [
        "'shot'"
       ]
      }
     ],
     "prompt_number": 212
    },
    {
     "cell_type": "code",
     "collapsed": false,
     "input": [
      "tile.is_finished()"
     ],
     "language": "python",
     "metadata": {},
     "outputs": [
      {
       "metadata": {},
       "output_type": "pyout",
       "prompt_number": 213,
       "text": [
        "True"
       ]
      }
     ],
     "prompt_number": 213
    },
    {
     "cell_type": "heading",
     "level": 3,
     "metadata": {},
     "source": [
      "ship"
     ]
    },
    {
     "cell_type": "code",
     "collapsed": false,
     "input": [
      "class Ship(Fysom):\n",
      "    \"\"\"collection of tiles | specify number of decks\"\"\"\n",
      "    \n",
      "    def __init__(self, number_of_decks):\n",
      "        self.n = number_of_decks\n",
      "        self.decks = set()\n",
      "        super().__init__(dict(initial='build',\n",
      "                              final='sunken',\n",
      "                              events=(dict(name='add',    src='build',   dst='afloat'),\n",
      "                                      dict(name='fire',   src='afloat',  dst='damaged'),\n",
      "                                      dict(name='sink',   src='damaged', dst='sunken')),\n",
      "                              callbacks={'onbeforeadd': self._add_deck}))\n",
      "        \n",
      "    def _add_deck(self, e):\n",
      "        if e.tile in self.decks:\n",
      "            print('warn: ship already on this tile')\n",
      "        self.decks.add(e.tile)\n",
      "        if not len(self.decks) == self.n:\n",
      "            return False"
     ],
     "language": "python",
     "metadata": {},
     "outputs": [],
     "prompt_number": 124
    },
    {
     "cell_type": "code",
     "collapsed": false,
     "input": [
      "ship = Ship(3)"
     ],
     "language": "python",
     "metadata": {},
     "outputs": [],
     "prompt_number": 125
    },
    {
     "cell_type": "code",
     "collapsed": false,
     "input": [
      "ship.current"
     ],
     "language": "python",
     "metadata": {},
     "outputs": [
      {
       "metadata": {},
       "output_type": "pyout",
       "prompt_number": 126,
       "text": [
        "'build'"
       ]
      }
     ],
     "prompt_number": 126
    },
    {
     "cell_type": "code",
     "collapsed": false,
     "input": [
      "ship.add(tile=(4,3))\n",
      "ship.current"
     ],
     "language": "python",
     "metadata": {},
     "outputs": [
      {
       "metadata": {},
       "output_type": "pyout",
       "prompt_number": 127,
       "text": [
        "'build'"
       ]
      }
     ],
     "prompt_number": 127
    },
    {
     "cell_type": "code",
     "collapsed": false,
     "input": [
      "ship.add(tile=(4,4))\n",
      "ship.current"
     ],
     "language": "python",
     "metadata": {},
     "outputs": [
      {
       "metadata": {},
       "output_type": "pyout",
       "prompt_number": 128,
       "text": [
        "'build'"
       ]
      }
     ],
     "prompt_number": 128
    },
    {
     "cell_type": "code",
     "collapsed": false,
     "input": [
      "ship.add(tile=(4,5))\n",
      "ship.current"
     ],
     "language": "python",
     "metadata": {},
     "outputs": [
      {
       "metadata": {},
       "output_type": "pyout",
       "prompt_number": 129,
       "text": [
        "'afloat'"
       ]
      }
     ],
     "prompt_number": 129
    },
    {
     "cell_type": "code",
     "collapsed": false,
     "input": [
      "ship.decks"
     ],
     "language": "python",
     "metadata": {},
     "outputs": [
      {
       "metadata": {},
       "output_type": "pyout",
       "prompt_number": 138,
       "text": [
        "{(4, 3), (4, 4), (4, 5)}"
       ]
      }
     ],
     "prompt_number": 138
    },
    {
     "cell_type": "heading",
     "level": 3,
     "metadata": {},
     "source": [
      "board"
     ]
    },
    {
     "cell_type": "code",
     "collapsed": false,
     "input": [
      "def idx_a2m(i, n=5):\n",
      "    return (i // n, i % n)"
     ],
     "language": "python",
     "metadata": {},
     "outputs": [],
     "prompt_number": 222
    },
    {
     "cell_type": "code",
     "collapsed": false,
     "input": [
      "idx_a2m(24)"
     ],
     "language": "python",
     "metadata": {},
     "outputs": [
      {
       "metadata": {},
       "output_type": "pyout",
       "prompt_number": 223,
       "text": [
        "(4, 4)"
       ]
      }
     ],
     "prompt_number": 223
    },
    {
     "cell_type": "code",
     "collapsed": false,
     "input": [
      "def idx_m2a(i, j, n=5):\n",
      "    return i * n + j"
     ],
     "language": "python",
     "metadata": {},
     "outputs": [],
     "prompt_number": 224
    },
    {
     "cell_type": "code",
     "collapsed": false,
     "input": [
      "idx_m2a(4,4)"
     ],
     "language": "python",
     "metadata": {},
     "outputs": [
      {
       "metadata": {},
       "output_type": "pyout",
       "prompt_number": 226,
       "text": [
        "24"
       ]
      }
     ],
     "prompt_number": 226
    },
    {
     "cell_type": "heading",
     "level": 3,
     "metadata": {},
     "source": [
      "game"
     ]
    },
    {
     "cell_type": "code",
     "collapsed": false,
     "input": [
      "def start(e):\n",
      "    if e.game_boards_valid:\n",
      "        print('game on')\n",
      "    else:\n",
      "        print('fix ships')\n",
      "        return False"
     ],
     "language": "python",
     "metadata": {},
     "outputs": [],
     "prompt_number": 165
    },
    {
     "cell_type": "code",
     "collapsed": false,
     "input": [
      "game = Fysom(dict(initial='setup',\n",
      "                  final='over',\n",
      "                  events=(dict(name='start', src='setup', dst='on'),\n",
      "                          dict(name='turn',  src='on',    dst='on'),\n",
      "                          dict(name='stop',  src='on',    dst='over')),\n",
      "                  callbacks={'onleavesetup': start}))"
     ],
     "language": "python",
     "metadata": {},
     "outputs": [],
     "prompt_number": 193
    },
    {
     "cell_type": "code",
     "collapsed": false,
     "input": [
      "game.current"
     ],
     "language": "python",
     "metadata": {},
     "outputs": [
      {
       "metadata": {},
       "output_type": "pyout",
       "prompt_number": 187,
       "text": [
        "'setup'"
       ]
      }
     ],
     "prompt_number": 187
    },
    {
     "cell_type": "code",
     "collapsed": false,
     "input": [
      "game.start(game_boards_valid=True)"
     ],
     "language": "python",
     "metadata": {},
     "outputs": [
      {
       "output_type": "stream",
       "stream": "stdout",
       "text": [
        "game on\n"
       ]
      }
     ],
     "prompt_number": 188
    },
    {
     "cell_type": "code",
     "collapsed": false,
     "input": [
      "game.turn()\n",
      "game.current"
     ],
     "language": "python",
     "metadata": {},
     "outputs": [
      {
       "metadata": {},
       "output_type": "pyout",
       "prompt_number": 189,
       "text": [
        "'on'"
       ]
      }
     ],
     "prompt_number": 189
    },
    {
     "cell_type": "code",
     "collapsed": false,
     "input": [
      "game.stop()"
     ],
     "language": "python",
     "metadata": {},
     "outputs": [],
     "prompt_number": 190
    },
    {
     "cell_type": "code",
     "collapsed": false,
     "input": [
      "game.current"
     ],
     "language": "python",
     "metadata": {},
     "outputs": [
      {
       "metadata": {},
       "output_type": "pyout",
       "prompt_number": 191,
       "text": [
        "'over'"
       ]
      }
     ],
     "prompt_number": 191
    },
    {
     "cell_type": "code",
     "collapsed": false,
     "input": [
      "game.is_finished()"
     ],
     "language": "python",
     "metadata": {},
     "outputs": [
      {
       "metadata": {},
       "output_type": "pyout",
       "prompt_number": 192,
       "text": [
        "True"
       ]
      }
     ],
     "prompt_number": 192
    },
    {
     "cell_type": "heading",
     "level": 3,
     "metadata": {},
     "source": [
      "game manager"
     ]
    },
    {
     "cell_type": "code",
     "collapsed": false,
     "input": [],
     "language": "python",
     "metadata": {},
     "outputs": []
    }
   ],
   "metadata": {}
  }
 ]
}