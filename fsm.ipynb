{
 "metadata": {
  "name": ""
 },
 "nbformat": 3,
 "nbformat_minor": 0,
 "worksheets": [
  {
   "cells": [
    {
     "cell_type": "code",
     "collapsed": false,
     "input": [
      "from fysom import Fysom, FysomError"
     ],
     "language": "python",
     "metadata": {},
     "outputs": [],
     "prompt_number": 1
    },
    {
     "cell_type": "heading",
     "level": 3,
     "metadata": {},
     "source": [
      "tile"
     ]
    },
    {
     "cell_type": "code",
     "collapsed": false,
     "input": [
      "class Tile(Fysom):\n",
      "    \"\"\"Belongs to a board and a ship\"\"\"\n",
      "    \n",
      "    symbols = dict(sea='~', deck='#', miss='o', hit='x')\n",
      "    \n",
      "    def __init__(self, i, j):\n",
      "        self.i, self.j = i, j\n",
      "        super().__init__(dict(initial='sea',\n",
      "                              events=(dict(name='set',   src='sea',  dst='deck'),\n",
      "                                      dict(name='reset', src='deck', dst='sea'),\n",
      "                                      dict(name='fire',  src='sea',  dst='miss'),\n",
      "                                      dict(name='fire',  src='deck', dst='hit')),\n",
      "                              callbacks={'onbeforeset':   self._set,\n",
      "                                         'onbeforereset': self._reset,}))\n",
      "\n",
      "    def _set(self, e):\n",
      "        assert not e.too_close, 'invalid placement'\n",
      "\n",
      "    def _reset(self, e):\n",
      "        assert not e.game_on, 'cannot reset during game'\n",
      "            \n",
      "    def __repr__(self):\n",
      "        return self.symbols[self.current]"
     ],
     "language": "python",
     "metadata": {},
     "outputs": [],
     "prompt_number": 2
    },
    {
     "cell_type": "code",
     "collapsed": false,
     "input": [
      "tile = Tile(0, 0)\n",
      "assert tile.current == 'sea'"
     ],
     "language": "python",
     "metadata": {},
     "outputs": [],
     "prompt_number": 3
    },
    {
     "cell_type": "code",
     "collapsed": false,
     "input": [
      "tile.fire()\n",
      "assert tile.current == 'miss'"
     ],
     "language": "python",
     "metadata": {},
     "outputs": [],
     "prompt_number": 4
    },
    {
     "cell_type": "code",
     "collapsed": false,
     "input": [
      "tile = Tile(0, 0)\n",
      "tile.set(too_close=False)\n",
      "assert tile.current == 'deck'"
     ],
     "language": "python",
     "metadata": {},
     "outputs": [],
     "prompt_number": 5
    },
    {
     "cell_type": "code",
     "collapsed": false,
     "input": [
      "try:\n",
      "    tile.reset(game_on=True)\n",
      "except: pass\n",
      "assert tile.current == 'deck'"
     ],
     "language": "python",
     "metadata": {},
     "outputs": [],
     "prompt_number": 6
    },
    {
     "cell_type": "code",
     "collapsed": false,
     "input": [
      "tile.reset(game_on=False)\n",
      "assert tile.current == 'sea'"
     ],
     "language": "python",
     "metadata": {},
     "outputs": [],
     "prompt_number": 7
    },
    {
     "cell_type": "code",
     "collapsed": false,
     "input": [
      "tile.set(too_close=False)\n",
      "assert tile.current == 'deck'"
     ],
     "language": "python",
     "metadata": {},
     "outputs": [],
     "prompt_number": 8
    },
    {
     "cell_type": "code",
     "collapsed": false,
     "input": [
      "tile.fire()\n",
      "assert tile.current == 'hit'"
     ],
     "language": "python",
     "metadata": {},
     "outputs": [],
     "prompt_number": 9
    },
    {
     "cell_type": "heading",
     "level": 3,
     "metadata": {},
     "source": [
      "ship"
     ]
    },
    {
     "cell_type": "code",
     "collapsed": false,
     "input": [
      "class Ship(Fysom):\n",
      "    \"\"\"collection of tiles | specify number of decks\"\"\"\n",
      "    \n",
      "    def __init__(self, number_of_decks):\n",
      "        self.n = number_of_decks\n",
      "        self.tiles = set()\n",
      "        super().__init__(dict(initial='shipyard', final='sunken',\n",
      "                              events=(dict(name='add',    src='shipyard', dst='afloat'),\n",
      "                                      dict(name='fire',   src='afloat',   dst='damaged'),\n",
      "                                      dict(name='fire',   src='damaged',  dst='sunken')),\n",
      "                              callbacks={'onbeforeadd':    self._add_tile,\n",
      "                                         'onbeforefire':   self._has_hits,\n",
      "                                         'onleavedamaged': self._is_kaput,\n",
      "                                         'onentersunken':  self._sunken_fx}))\n",
      "        \n",
      "    def _add_tile(self, e):\n",
      "        assert e.tile not in self.tiles, 'ship already on this tile'\n",
      "        if not e.tile.current == 'deck':\n",
      "            e.tile.set(too_close=False)\n",
      "        self.tiles.add(e.tile)\n",
      "        e.tile.ship = self\n",
      "        if not len(self.tiles) == self.n:\n",
      "            return False\n",
      "    \n",
      "    def _has_hits(self, e):\n",
      "        if not any((tile.current == 'hit' for tile in self.tiles)):\n",
      "            return False\n",
      "    \n",
      "    def _is_kaput(self, e):\n",
      "        if not all((tile.current == 'hit' for tile in self.tiles)):\n",
      "            return False\n",
      "        \n",
      "    def _sunken_fx(self, e):\n",
      "        pass\n",
      "    \n",
      "    def __repr__(self):\n",
      "        return 'D{}'.format(self.n)"
     ],
     "language": "python",
     "metadata": {},
     "outputs": [],
     "prompt_number": 42
    },
    {
     "cell_type": "code",
     "collapsed": false,
     "input": [
      "ship = Ship(2)\n",
      "assert ship.current == 'shipyard'"
     ],
     "language": "python",
     "metadata": {},
     "outputs": [],
     "prompt_number": 43
    },
    {
     "cell_type": "code",
     "collapsed": false,
     "input": [
      "tile1 = Tile(0,0)\n",
      "tile1.set(too_close=False)\n",
      "ship.add(tile=tile1)\n",
      "assert ship.current == 'shipyard'"
     ],
     "language": "python",
     "metadata": {},
     "outputs": [],
     "prompt_number": 44
    },
    {
     "cell_type": "code",
     "collapsed": false,
     "input": [
      "tile2 = Tile(0,1)\n",
      "tile2.set(too_close=False)\n",
      "ship.add(tile=tile2)\n",
      "assert ship.current == 'afloat'\n",
      "ship.tiles"
     ],
     "language": "python",
     "metadata": {},
     "outputs": [
      {
       "metadata": {},
       "output_type": "pyout",
       "prompt_number": 45,
       "text": [
        "{#, #}"
       ]
      }
     ],
     "prompt_number": 45
    },
    {
     "cell_type": "code",
     "collapsed": false,
     "input": [
      "tile1.fire()\n",
      "ship.fire()\n",
      "assert ship.current == 'damaged'\n",
      "ship.tiles"
     ],
     "language": "python",
     "metadata": {},
     "outputs": [
      {
       "metadata": {},
       "output_type": "pyout",
       "prompt_number": 46,
       "text": [
        "{x, #}"
       ]
      }
     ],
     "prompt_number": 46
    },
    {
     "cell_type": "code",
     "collapsed": false,
     "input": [
      "tile2.fire()\n",
      "ship.fire()\n",
      "assert ship.current == 'sunken'\n",
      "ship.tiles"
     ],
     "language": "python",
     "metadata": {},
     "outputs": [
      {
       "metadata": {},
       "output_type": "pyout",
       "prompt_number": 47,
       "text": [
        "{x, x}"
       ]
      }
     ],
     "prompt_number": 47
    },
    {
     "cell_type": "heading",
     "level": 3,
     "metadata": {},
     "source": [
      "board"
     ]
    },
    {
     "cell_type": "code",
     "collapsed": false,
     "input": [
      "from itertools import chain"
     ],
     "language": "python",
     "metadata": {},
     "outputs": [],
     "prompt_number": 48
    },
    {
     "cell_type": "code",
     "collapsed": false,
     "input": [
      "class Board:\n",
      "    \"\"\"keeps track of tiles\"\"\"\n",
      "    \n",
      "    def __init__(self, n, ships):\n",
      "        self.n = n\n",
      "        # tile matrix\n",
      "        self.tiles = tuple(\n",
      "            tuple(Tile(i, j) for j in range(n)) for i in range(n))\n",
      "        # ships  TODO rewrite into a frozenset comprehension\n",
      "        self.ships = []\n",
      "        for n_decks, qty in ships:\n",
      "            self.ships.extend(Ship(n_decks) for _ in range(qty))\n",
      "            \n",
      "    def tile_1d(self, i):\n",
      "        # TODO error proof\n",
      "        return self.tiles[i // self.n][i % self.n]\n",
      "\n",
      "    def __str__(self):\n",
      "        edge = '|{}|'.format('-' * (self.n * 2 + 1))\n",
      "        rows = '\\n'.join('| {} |'.format(' '.join(map(str, row))) for row in self.tiles)\n",
      "        return '{edge}\\n{rows}\\n{edge}'.format(**locals())\n",
      "    \n",
      "    def __repr__(self):\n",
      "        return str(self.tiles)\n",
      "    \n",
      "    def idx_m2a(self, i, j):\n",
      "        return i * self.n + j"
     ],
     "language": "python",
     "metadata": {},
     "outputs": [],
     "prompt_number": 104
    },
    {
     "cell_type": "code",
     "collapsed": false,
     "input": [
      "board = Board(n=5, ships=[(1,2), (2,1), (3,1), (4,1)])\n",
      "print(board.ships)\n",
      "print(board)"
     ],
     "language": "python",
     "metadata": {},
     "outputs": [
      {
       "output_type": "stream",
       "stream": "stdout",
       "text": [
        "[D1, D1, D2, D3, D4]\n",
        "|-----------|\n",
        "| ~ ~ ~ ~ ~ |\n",
        "| ~ ~ ~ ~ ~ |\n",
        "| ~ ~ ~ ~ ~ |\n",
        "| ~ ~ ~ ~ ~ |\n",
        "| ~ ~ ~ ~ ~ |\n",
        "|-----------|\n"
       ]
      }
     ],
     "prompt_number": 105
    },
    {
     "cell_type": "code",
     "collapsed": false,
     "input": [
      "board.tile_1d(0).fire()\n",
      "print(board)"
     ],
     "language": "python",
     "metadata": {},
     "outputs": [
      {
       "output_type": "stream",
       "stream": "stdout",
       "text": [
        "|-----------|\n",
        "| o ~ ~ ~ ~ |\n",
        "| ~ ~ ~ ~ ~ |\n",
        "| ~ ~ ~ ~ ~ |\n",
        "| ~ ~ ~ ~ ~ |\n",
        "| ~ ~ ~ ~ ~ |\n",
        "|-----------|\n"
       ]
      }
     ],
     "prompt_number": 90
    },
    {
     "cell_type": "code",
     "collapsed": false,
     "input": [
      "board.tile_1d(24).set(too_close=False)\n",
      "board.tile_1d(24).fire()\n",
      "print(board)"
     ],
     "language": "python",
     "metadata": {},
     "outputs": [
      {
       "output_type": "stream",
       "stream": "stdout",
       "text": [
        "|-----------|\n",
        "| o ~ ~ ~ ~ |\n",
        "| ~ ~ ~ ~ ~ |\n",
        "| ~ ~ ~ ~ ~ |\n",
        "| ~ ~ ~ ~ ~ |\n",
        "| ~ ~ ~ ~ x |\n",
        "|-----------|\n"
       ]
      }
     ],
     "prompt_number": 91
    },
    {
     "cell_type": "heading",
     "level": 3,
     "metadata": {},
     "source": [
      "game"
     ]
    },
    {
     "cell_type": "code",
     "collapsed": false,
     "input": [
      "def start(e):\n",
      "    if e.game_boards_valid:\n",
      "        print('game on')\n",
      "    else:\n",
      "        print('fix ships')\n",
      "        return False"
     ],
     "language": "python",
     "metadata": {},
     "outputs": [],
     "prompt_number": 165
    },
    {
     "cell_type": "code",
     "collapsed": false,
     "input": [
      "game = Fysom(dict(initial='setup',\n",
      "                  final='over',\n",
      "                  events=(dict(name='start', src='setup', dst='on'),\n",
      "                          dict(name='turn',  src='on',    dst='on'),\n",
      "                          dict(name='stop',  src='on',    dst='over')),\n",
      "                  callbacks={'onleavesetup': start}))"
     ],
     "language": "python",
     "metadata": {},
     "outputs": [],
     "prompt_number": 193
    },
    {
     "cell_type": "code",
     "collapsed": false,
     "input": [
      "game.current"
     ],
     "language": "python",
     "metadata": {},
     "outputs": [
      {
       "metadata": {},
       "output_type": "pyout",
       "prompt_number": 187,
       "text": [
        "'setup'"
       ]
      }
     ],
     "prompt_number": 187
    },
    {
     "cell_type": "code",
     "collapsed": false,
     "input": [
      "game.start(game_boards_valid=True)"
     ],
     "language": "python",
     "metadata": {},
     "outputs": [
      {
       "output_type": "stream",
       "stream": "stdout",
       "text": [
        "game on\n"
       ]
      }
     ],
     "prompt_number": 188
    },
    {
     "cell_type": "code",
     "collapsed": false,
     "input": [
      "game.turn()\n",
      "game.current"
     ],
     "language": "python",
     "metadata": {},
     "outputs": [
      {
       "metadata": {},
       "output_type": "pyout",
       "prompt_number": 189,
       "text": [
        "'on'"
       ]
      }
     ],
     "prompt_number": 189
    },
    {
     "cell_type": "code",
     "collapsed": false,
     "input": [
      "game.stop()"
     ],
     "language": "python",
     "metadata": {},
     "outputs": [],
     "prompt_number": 190
    },
    {
     "cell_type": "code",
     "collapsed": false,
     "input": [
      "game.current"
     ],
     "language": "python",
     "metadata": {},
     "outputs": [
      {
       "metadata": {},
       "output_type": "pyout",
       "prompt_number": 191,
       "text": [
        "'over'"
       ]
      }
     ],
     "prompt_number": 191
    },
    {
     "cell_type": "code",
     "collapsed": false,
     "input": [
      "game.is_finished()"
     ],
     "language": "python",
     "metadata": {},
     "outputs": [
      {
       "metadata": {},
       "output_type": "pyout",
       "prompt_number": 192,
       "text": [
        "True"
       ]
      }
     ],
     "prompt_number": 192
    },
    {
     "cell_type": "heading",
     "level": 3,
     "metadata": {},
     "source": [
      "game manager"
     ]
    },
    {
     "cell_type": "code",
     "collapsed": false,
     "input": [
      "''.join(('|','-' * 10, '|'))"
     ],
     "language": "python",
     "metadata": {},
     "outputs": [
      {
       "metadata": {},
       "output_type": "pyout",
       "prompt_number": 173,
       "text": [
        "'|----------|'"
       ]
      }
     ],
     "prompt_number": 173
    },
    {
     "cell_type": "code",
     "collapsed": false,
     "input": [],
     "language": "python",
     "metadata": {},
     "outputs": []
    }
   ],
   "metadata": {}
  }
 ]
}