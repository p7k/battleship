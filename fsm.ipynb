{
 "metadata": {
  "name": ""
 },
 "nbformat": 3,
 "nbformat_minor": 0,
 "worksheets": [
  {
   "cells": [
    {
     "cell_type": "heading",
     "level": 3,
     "metadata": {},
     "source": [
      "midi"
     ]
    },
    {
     "cell_type": "code",
     "collapsed": false,
     "input": [
      "import rtmidi2 as midi"
     ],
     "language": "python",
     "metadata": {},
     "outputs": [],
     "prompt_number": 1
    },
    {
     "cell_type": "code",
     "collapsed": false,
     "input": [
      "# midi setup\n",
      "midi_out = midi.MidiOut()\n",
      "index = midi_out.ports_matching(b'IAC Driver Battleship')[0]\n",
      "midi_out.open_port(index)"
     ],
     "language": "python",
     "metadata": {},
     "outputs": [
      {
       "metadata": {},
       "output_type": "pyout",
       "prompt_number": 2,
       "text": [
        "<rtmidi2.MidiOut at 0x10c71c5a8>"
       ]
      }
     ],
     "prompt_number": 2
    },
    {
     "cell_type": "code",
     "collapsed": false,
     "input": [
      "def midi_start(pitch):\n",
      "    midi_out.send_noteon(0, pitch, 127)\n",
      "    \n",
      "def midi_stop(pitch):\n",
      "    midi_out.send_noteon(2, pitch, 127)\n",
      "    \n",
      "def midi_crush(pitch):\n",
      "    midi_out.send_noteon(4, pitch, 127)"
     ],
     "language": "python",
     "metadata": {},
     "outputs": [],
     "prompt_number": 3
    },
    {
     "cell_type": "heading",
     "level": 3,
     "metadata": {},
     "source": [
      "fsm"
     ]
    },
    {
     "cell_type": "code",
     "collapsed": false,
     "input": [
      "from fysom import Fysom, FysomError"
     ],
     "language": "python",
     "metadata": {},
     "outputs": [],
     "prompt_number": 4
    },
    {
     "cell_type": "heading",
     "level": 3,
     "metadata": {},
     "source": [
      "tile"
     ]
    },
    {
     "cell_type": "code",
     "collapsed": false,
     "input": [
      "class Tile(Fysom):\n",
      "    \"\"\"Belongs to a board and a ship\"\"\"\n",
      "    symbols = dict(sea='~', deck='#', miss='o', hit='x')\n",
      "\n",
      "    def __init__(self, i, j, board=None, ship=None):\n",
      "        self.i, self.j = i, j\n",
      "        self.board = board\n",
      "        self.ship = ship\n",
      "        super().__init__(dict(initial='sea',\n",
      "                              events=(dict(name='set',   src=('sea', 'deck'), dst='deck'),\n",
      "                                      dict(name='reset', src=('deck', 'sea'), dst='sea'),\n",
      "                                      dict(name='fire',  src='sea',  dst='miss'),\n",
      "                                      dict(name='fire',  src='deck', dst='hit')),\n",
      "                              callbacks={'onbeforeset': self._on_before_set,\n",
      "                                         'onset': self._on_set,\n",
      "                                         'onbeforereset': self._on_before_reset,\n",
      "                                         'ondeck': self._on_deck,\n",
      "                                         'onsea': self._on_sea,\n",
      "                                         'onhit': self._on_hit}))\n",
      "\n",
      "    def _on_before_set(self, e):\n",
      "        \"\"\"checks to see if the board is complete\"\"\"\n",
      "        if e.src == e.dst:\n",
      "            return False\n",
      "        if self.board:\n",
      "            if self.board.isstate('complete'):\n",
      "                return False\n",
      "            \n",
      "    def _on_set(self, e):\n",
      "        \"\"\"actually adds to board decks\"\"\"\n",
      "        if self.board:\n",
      "            self.board.add(tile=self)\n",
      "            \n",
      "    def _on_before_reset(self, e):\n",
      "        \"\"\"removes from board decks\"\"\"\n",
      "        if e.src == e.dst:\n",
      "            return False\n",
      "        if self.board and self in self.board.decks:\n",
      "            self.board.decks.remove(self)\n",
      "            self.board.remove()\n",
      "                \n",
      "    def _on_deck(self, e):\n",
      "        \"\"\"start sfx\"\"\"\n",
      "        print('added a deck, start playing a loop')\n",
      "        if self.board:\n",
      "            midi_start(self.board.idx(self) + 36)\n",
      "\n",
      "    def _on_sea(self, e):\n",
      "        \"\"\"stop sfx\"\"\"\n",
      "        if self.board:\n",
      "            midi_stop(self.board.idx(self) + 36)\n",
      "\n",
      "    def _on_hit(self, e):\n",
      "        \"\"\"notifies the ship\"\"\"\n",
      "        print('got hit, crushing the loop')\n",
      "        if self.ship:\n",
      "            self.ship.fire()\n",
      "        if self.board:\n",
      "            self.board.hit_decks.add(self)\n",
      "            self.board.player.game.stop()\n",
      "            midi_crush(self.board.idx(self) + 36)\n",
      "            \n",
      "    def __str__(self):\n",
      "        return 'Tile({0},{1})'.format(self.i, self.j)\n",
      "                \n",
      "    def __repr__(self):\n",
      "        return self.symbols[self.current]"
     ],
     "language": "python",
     "metadata": {},
     "outputs": [],
     "prompt_number": 5
    },
    {
     "cell_type": "code",
     "collapsed": false,
     "input": [
      "tile = Tile(0, 0)\n",
      "assert tile.isstate('sea')"
     ],
     "language": "python",
     "metadata": {},
     "outputs": [],
     "prompt_number": 6
    },
    {
     "cell_type": "code",
     "collapsed": false,
     "input": [
      "tile.fire()\n",
      "assert tile.isstate('miss')"
     ],
     "language": "python",
     "metadata": {},
     "outputs": [],
     "prompt_number": 7
    },
    {
     "cell_type": "code",
     "collapsed": false,
     "input": [
      "tile = Tile(0, 0)\n",
      "tile.set()\n",
      "assert tile.isstate('deck')"
     ],
     "language": "python",
     "metadata": {},
     "outputs": [
      {
       "output_type": "stream",
       "stream": "stdout",
       "text": [
        "added a deck, start playing a loop\n"
       ]
      }
     ],
     "prompt_number": 8
    },
    {
     "cell_type": "code",
     "collapsed": false,
     "input": [
      "tile.set()\n",
      "assert tile.isstate('deck')"
     ],
     "language": "python",
     "metadata": {},
     "outputs": [],
     "prompt_number": 9
    },
    {
     "cell_type": "code",
     "collapsed": false,
     "input": [
      "tile.reset()\n",
      "assert tile.isstate('sea')"
     ],
     "language": "python",
     "metadata": {},
     "outputs": [],
     "prompt_number": 10
    },
    {
     "cell_type": "code",
     "collapsed": false,
     "input": [
      "tile.reset()\n",
      "assert tile.isstate('sea')"
     ],
     "language": "python",
     "metadata": {},
     "outputs": [],
     "prompt_number": 11
    },
    {
     "cell_type": "code",
     "collapsed": false,
     "input": [
      "tile.set()\n",
      "assert tile.isstate('deck')"
     ],
     "language": "python",
     "metadata": {},
     "outputs": [
      {
       "output_type": "stream",
       "stream": "stdout",
       "text": [
        "added a deck, start playing a loop\n"
       ]
      }
     ],
     "prompt_number": 12
    },
    {
     "cell_type": "code",
     "collapsed": false,
     "input": [
      "tile.fire()\n",
      "assert tile.isstate('hit')"
     ],
     "language": "python",
     "metadata": {},
     "outputs": [
      {
       "output_type": "stream",
       "stream": "stdout",
       "text": [
        "got hit, crushing the loop\n"
       ]
      }
     ],
     "prompt_number": 13
    },
    {
     "cell_type": "heading",
     "level": 3,
     "metadata": {},
     "source": [
      "ship"
     ]
    },
    {
     "cell_type": "code",
     "collapsed": false,
     "input": [
      "class Ship(Fysom):\n",
      "    \"\"\"collection of tiles | specify number of decks\"\"\"\n",
      "    \n",
      "    def __init__(self, tiles):\n",
      "        for tile in tiles:\n",
      "            assert tile.isstate('deck'), (str(tile), tile.current)\n",
      "            tile.ship = self\n",
      "        self.tiles = set(tiles)\n",
      "        super().__init__(dict(initial='ok', final='sunken',\n",
      "                              events=(dict(name='fire',   src='ok'     , dst='damaged'),\n",
      "                                      dict(name='fire',   src='damaged', dst='sunken')),\n",
      "                              callbacks={'onleavedamaged': self._is_kaput,\n",
      "                                         'onentersunken':  self._sunken_fx}))\n",
      "\n",
      "    def _is_kaput(self, e):\n",
      "        if not all(t.isstate('hit') for t in self.tiles):\n",
      "            return False\n",
      "        \n",
      "    def _sunken_fx(self, e):\n",
      "        print('ship sunk, stop the noise')\n",
      "    \n",
      "    def __repr__(self):\n",
      "        return 'D{}'.format(self.n)"
     ],
     "language": "python",
     "metadata": {},
     "outputs": [],
     "prompt_number": 14
    },
    {
     "cell_type": "code",
     "collapsed": false,
     "input": [
      "tile1 = Tile(0,0)\n",
      "tile2 = Tile(0,1)\n",
      "tile1.set()\n",
      "tile2.set()\n",
      "ship = Ship((tile1, tile2))\n",
      "assert ship.isstate('ok')"
     ],
     "language": "python",
     "metadata": {},
     "outputs": [
      {
       "output_type": "stream",
       "stream": "stdout",
       "text": [
        "added a deck, start playing a loop\n",
        "added a deck, start playing a loop\n"
       ]
      }
     ],
     "prompt_number": 15
    },
    {
     "cell_type": "code",
     "collapsed": false,
     "input": [
      "tile1.fire()\n",
      "assert ship.isstate('damaged')"
     ],
     "language": "python",
     "metadata": {},
     "outputs": [
      {
       "output_type": "stream",
       "stream": "stdout",
       "text": [
        "got hit, crushing the loop\n"
       ]
      }
     ],
     "prompt_number": 16
    },
    {
     "cell_type": "code",
     "collapsed": false,
     "input": [
      "tile2.fire()\n",
      "assert ship.isstate('sunken')"
     ],
     "language": "python",
     "metadata": {},
     "outputs": [
      {
       "output_type": "stream",
       "stream": "stdout",
       "text": [
        "got hit, crushing the loop\n",
        "ship sunk, stop the noise\n"
       ]
      }
     ],
     "prompt_number": 17
    },
    {
     "cell_type": "heading",
     "level": 3,
     "metadata": {},
     "source": [
      "board"
     ]
    },
    {
     "cell_type": "code",
     "collapsed": false,
     "input": [
      "import networkx as nx\n",
      "from itertools import chain"
     ],
     "language": "python",
     "metadata": {},
     "outputs": [],
     "prompt_number": 18
    },
    {
     "cell_type": "code",
     "collapsed": false,
     "input": [
      "class BoardFullException(Exception):\n",
      "    pass"
     ],
     "language": "python",
     "metadata": {},
     "outputs": [],
     "prompt_number": 19
    },
    {
     "cell_type": "code",
     "collapsed": false,
     "input": [
      "class Board(Fysom):\n",
      "    \"\"\"keeps track of tiles\"\"\"\n",
      "    \n",
      "    def __init__(self, n, ship_cfg, player=None):\n",
      "        self.n = n\n",
      "        self.tiles = tuple(\n",
      "            tuple(Tile(i, j, board=self) for j in range(n)) for i in range(n))\n",
      "        self.total_decks = 0;\n",
      "        self.decks = set()\n",
      "        self.hit_decks = set()\n",
      "        self.ship_cfg = ship_cfg\n",
      "        for n_decks, qty in self.ship_cfg:\n",
      "            self.total_decks += n_decks * qty            \n",
      "        self.player = player\n",
      "        super().__init__(dict(initial='partial', final='valid',\n",
      "                              events=(dict(name='add',    src='partial',  dst='complete'),\n",
      "                                      dict(name='remove', src=('partial', 'complete'), dst='partial')),\n",
      "                              callbacks={'onbeforeadd': self._on_before_add,\n",
      "                                         'oncomplete': self._on_complete,\n",
      "                                         'onpartial': self._on_partial}))\n",
      "        \n",
      "        \n",
      "    def _on_before_add(self, e):\n",
      "        if not len(self.decks) < self.total_decks:\n",
      "            raise BoardFullException\n",
      "        self.decks.add(e.tile)\n",
      "        if len(self.decks) < self.total_decks:\n",
      "            return False\n",
      "            \n",
      "    def _on_complete(self, e):\n",
      "        ships_to_pack = self._detect_ships()\n",
      "        # validate\n",
      "        freq = dict()\n",
      "        for ship_to_pack in ships_to_pack:\n",
      "            freq.setdefault(len(ship_to_pack), []).append(0)\n",
      "        if ships_to_pack and all((k, len(freq[k])) in self.ship_cfg for k in freq):\n",
      "            print('board complete and valid')\n",
      "            if self.player:\n",
      "                self.player.valid()\n",
      "        \n",
      "    def _on_partial(self, e):\n",
      "        if self.player:\n",
      "            self.player.invalid()\n",
      "        \n",
      "    def tile_1d(self, i):\n",
      "        return self.tiles[i // self.n][i % self.n]\n",
      "\n",
      "    def idx(self, tile):\n",
      "        return tile.i * self.n + tile.j\n",
      "    \n",
      "    def _detect_ships(self):\n",
      "        graph = nx.Graph()\n",
      "        # all decks are nodes\n",
      "        graph.add_nodes_from(self.decks)\n",
      "        # edges exist between proper neighbors\n",
      "        for deck in self.decks:\n",
      "            k = self.tiles[max(deck.i - 1, 0)][deck.j]\n",
      "            j = self.tiles[min(deck.i + 1, board.n - 1)][deck.j]\n",
      "            h = self.tiles[deck.i][max(deck.j - 1, 0)]\n",
      "            l = self.tiles[deck.i][min(deck.j + 1, board.n - 1)]\n",
      "            # if has both hor and ver neigbors - wrong\n",
      "            # TODO rewrite\n",
      "            hor_edges = False\n",
      "            for adj in (h, l):\n",
      "                if not adj == deck and adj.isstate('deck'):\n",
      "                    hor_edges = True\n",
      "                    graph.add_edge(deck, adj)\n",
      "            for adj in (j, k):\n",
      "                if not adj == deck and adj.isstate('deck'):\n",
      "                    if hor_edges:\n",
      "                        return []\n",
      "                    graph.add_edge(deck, adj)\n",
      "            \n",
      "        return nx.connected_components(graph)\n",
      "        \n",
      "    def __str__(self):\n",
      "        edge = '|{}|'.format('-' * (self.n * 2 + 1))\n",
      "        rows = '\\n'.join('| {} |'.format(' '.join(map(repr, row))) for row in self.tiles)\n",
      "        return '{edge}\\n{rows}\\n{edge}'.format(**locals())"
     ],
     "language": "python",
     "metadata": {},
     "outputs": [],
     "prompt_number": 20
    },
    {
     "cell_type": "code",
     "collapsed": false,
     "input": [
      "board = Board(n=5, ship_cfg=((1,2), (2,1), (3,1), (4,1)))"
     ],
     "language": "python",
     "metadata": {},
     "outputs": [],
     "prompt_number": 21
    },
    {
     "cell_type": "code",
     "collapsed": false,
     "input": [
      "board.tile_1d(1).fire()\n",
      "assert board.tile_1d(1).i == 0 and board.tile_1d(1).j == 1\n",
      "assert board.idx(board.tile_1d(1)) == 1\n",
      "board.tile_1d(24).set()\n",
      "board.tile_1d(24).fire()\n",
      "print(board)"
     ],
     "language": "python",
     "metadata": {},
     "outputs": [
      {
       "ename": "AttributeError",
       "evalue": "'NoneType' object has no attribute 'game'",
       "output_type": "pyerr",
       "traceback": [
        "\u001b[0;31m---------------------------------------------------------------------------\u001b[0m\n\u001b[0;31mAttributeError\u001b[0m                            Traceback (most recent call last)",
        "\u001b[0;32m<ipython-input-131-b2a50b926f82>\u001b[0m in \u001b[0;36m<module>\u001b[0;34m()\u001b[0m\n\u001b[1;32m      3\u001b[0m \u001b[0;32massert\u001b[0m \u001b[0mboard\u001b[0m\u001b[0;34m.\u001b[0m\u001b[0midx\u001b[0m\u001b[0;34m(\u001b[0m\u001b[0mboard\u001b[0m\u001b[0;34m.\u001b[0m\u001b[0mtile_1d\u001b[0m\u001b[0;34m(\u001b[0m\u001b[0;36m1\u001b[0m\u001b[0;34m)\u001b[0m\u001b[0;34m)\u001b[0m \u001b[0;34m==\u001b[0m \u001b[0;36m1\u001b[0m\u001b[0;34m\u001b[0m\u001b[0m\n\u001b[1;32m      4\u001b[0m \u001b[0mboard\u001b[0m\u001b[0;34m.\u001b[0m\u001b[0mtile_1d\u001b[0m\u001b[0;34m(\u001b[0m\u001b[0;36m24\u001b[0m\u001b[0;34m)\u001b[0m\u001b[0;34m.\u001b[0m\u001b[0mset\u001b[0m\u001b[0;34m(\u001b[0m\u001b[0;34m)\u001b[0m\u001b[0;34m\u001b[0m\u001b[0m\n\u001b[0;32m----> 5\u001b[0;31m \u001b[0mboard\u001b[0m\u001b[0;34m.\u001b[0m\u001b[0mtile_1d\u001b[0m\u001b[0;34m(\u001b[0m\u001b[0;36m24\u001b[0m\u001b[0;34m)\u001b[0m\u001b[0;34m.\u001b[0m\u001b[0mfire\u001b[0m\u001b[0;34m(\u001b[0m\u001b[0;34m)\u001b[0m\u001b[0;34m\u001b[0m\u001b[0m\n\u001b[0m\u001b[1;32m      6\u001b[0m \u001b[0mprint\u001b[0m\u001b[0;34m(\u001b[0m\u001b[0mboard\u001b[0m\u001b[0;34m)\u001b[0m\u001b[0;34m\u001b[0m\u001b[0m\n",
        "\u001b[0;32m/Users/pkatsev/Development/battleship/venv/lib/python3.3/site-packages/fysom/__init__.py\u001b[0m in \u001b[0;36mfn\u001b[0;34m(*args, **kwargs)\u001b[0m\n\u001b[1;32m    142\u001b[0m             \u001b[0;32mif\u001b[0m \u001b[0mself\u001b[0m\u001b[0;34m.\u001b[0m\u001b[0m_leave_state\u001b[0m\u001b[0;34m(\u001b[0m\u001b[0me\u001b[0m\u001b[0;34m)\u001b[0m \u001b[0;32mis\u001b[0m \u001b[0;32mnot\u001b[0m \u001b[0;32mFalse\u001b[0m\u001b[0;34m:\u001b[0m\u001b[0;34m\u001b[0m\u001b[0m\n\u001b[1;32m    143\u001b[0m                 \u001b[0;32mif\u001b[0m \u001b[0mhasattr\u001b[0m\u001b[0;34m(\u001b[0m\u001b[0mself\u001b[0m\u001b[0;34m,\u001b[0m \u001b[0;34m'transition'\u001b[0m\u001b[0;34m)\u001b[0m\u001b[0;34m:\u001b[0m\u001b[0;34m\u001b[0m\u001b[0m\n\u001b[0;32m--> 144\u001b[0;31m                     \u001b[0mself\u001b[0m\u001b[0;34m.\u001b[0m\u001b[0mtransition\u001b[0m\u001b[0;34m(\u001b[0m\u001b[0;34m)\u001b[0m\u001b[0;34m\u001b[0m\u001b[0m\n\u001b[0m\u001b[1;32m    145\u001b[0m \u001b[0;34m\u001b[0m\u001b[0m\n\u001b[1;32m    146\u001b[0m         \u001b[0;32mreturn\u001b[0m \u001b[0mfn\u001b[0m\u001b[0;34m\u001b[0m\u001b[0m\n",
        "\u001b[0;32m/Users/pkatsev/Development/battleship/venv/lib/python3.3/site-packages/fysom/__init__.py\u001b[0m in \u001b[0;36m_tran\u001b[0;34m()\u001b[0m\n\u001b[1;32m    135\u001b[0m                     \u001b[0mdelattr\u001b[0m\u001b[0;34m(\u001b[0m\u001b[0mself\u001b[0m\u001b[0;34m,\u001b[0m \u001b[0;34m'transition'\u001b[0m\u001b[0;34m)\u001b[0m\u001b[0;34m\u001b[0m\u001b[0m\n\u001b[1;32m    136\u001b[0m                     \u001b[0mself\u001b[0m\u001b[0;34m.\u001b[0m\u001b[0mcurrent\u001b[0m \u001b[0;34m=\u001b[0m \u001b[0mdst\u001b[0m\u001b[0;34m\u001b[0m\u001b[0m\n\u001b[0;32m--> 137\u001b[0;31m                     \u001b[0mself\u001b[0m\u001b[0;34m.\u001b[0m\u001b[0m_enter_state\u001b[0m\u001b[0;34m(\u001b[0m\u001b[0me\u001b[0m\u001b[0;34m)\u001b[0m\u001b[0;34m\u001b[0m\u001b[0m\n\u001b[0m\u001b[1;32m    138\u001b[0m                     \u001b[0mself\u001b[0m\u001b[0;34m.\u001b[0m\u001b[0m_change_state\u001b[0m\u001b[0;34m(\u001b[0m\u001b[0me\u001b[0m\u001b[0;34m)\u001b[0m\u001b[0;34m\u001b[0m\u001b[0m\n\u001b[1;32m    139\u001b[0m                     \u001b[0mself\u001b[0m\u001b[0;34m.\u001b[0m\u001b[0m_after_event\u001b[0m\u001b[0;34m(\u001b[0m\u001b[0me\u001b[0m\u001b[0;34m)\u001b[0m\u001b[0;34m\u001b[0m\u001b[0m\n",
        "\u001b[0;32m/Users/pkatsev/Development/battleship/venv/lib/python3.3/site-packages/fysom/__init__.py\u001b[0m in \u001b[0;36m_enter_state\u001b[0;34m(self, e)\u001b[0m\n\u001b[1;32m    164\u001b[0m         \u001b[0;32mfor\u001b[0m \u001b[0mfnname\u001b[0m \u001b[0;32min\u001b[0m \u001b[0;34m[\u001b[0m\u001b[0;34m'onenter'\u001b[0m \u001b[0;34m+\u001b[0m \u001b[0me\u001b[0m\u001b[0;34m.\u001b[0m\u001b[0mdst\u001b[0m\u001b[0;34m,\u001b[0m \u001b[0;34m'on'\u001b[0m \u001b[0;34m+\u001b[0m \u001b[0me\u001b[0m\u001b[0;34m.\u001b[0m\u001b[0mdst\u001b[0m\u001b[0;34m]\u001b[0m\u001b[0;34m:\u001b[0m\u001b[0;34m\u001b[0m\u001b[0m\n\u001b[1;32m    165\u001b[0m             \u001b[0;32mif\u001b[0m \u001b[0mhasattr\u001b[0m\u001b[0;34m(\u001b[0m\u001b[0mself\u001b[0m\u001b[0;34m,\u001b[0m \u001b[0mfnname\u001b[0m\u001b[0;34m)\u001b[0m\u001b[0;34m:\u001b[0m\u001b[0;34m\u001b[0m\u001b[0m\n\u001b[0;32m--> 166\u001b[0;31m                 \u001b[0;32mreturn\u001b[0m \u001b[0mgetattr\u001b[0m\u001b[0;34m(\u001b[0m\u001b[0mself\u001b[0m\u001b[0;34m,\u001b[0m \u001b[0mfnname\u001b[0m\u001b[0;34m)\u001b[0m\u001b[0;34m(\u001b[0m\u001b[0me\u001b[0m\u001b[0;34m)\u001b[0m\u001b[0;34m\u001b[0m\u001b[0m\n\u001b[0m\u001b[1;32m    167\u001b[0m \u001b[0;34m\u001b[0m\u001b[0m\n\u001b[1;32m    168\u001b[0m     \u001b[0;32mdef\u001b[0m \u001b[0m_change_state\u001b[0m\u001b[0;34m(\u001b[0m\u001b[0mself\u001b[0m\u001b[0;34m,\u001b[0m \u001b[0me\u001b[0m\u001b[0;34m)\u001b[0m\u001b[0;34m:\u001b[0m\u001b[0;34m\u001b[0m\u001b[0m\n",
        "\u001b[0;32m<ipython-input-120-93ffe0727e47>\u001b[0m in \u001b[0;36m_on_hit\u001b[0;34m(self, e)\u001b[0m\n\u001b[1;32m     58\u001b[0m         \u001b[0;32mif\u001b[0m \u001b[0mself\u001b[0m\u001b[0;34m.\u001b[0m\u001b[0mboard\u001b[0m\u001b[0;34m:\u001b[0m\u001b[0;34m\u001b[0m\u001b[0m\n\u001b[1;32m     59\u001b[0m             \u001b[0mself\u001b[0m\u001b[0;34m.\u001b[0m\u001b[0mboard\u001b[0m\u001b[0;34m.\u001b[0m\u001b[0mhit_decks\u001b[0m\u001b[0;34m.\u001b[0m\u001b[0madd\u001b[0m\u001b[0;34m(\u001b[0m\u001b[0mself\u001b[0m\u001b[0;34m)\u001b[0m\u001b[0;34m\u001b[0m\u001b[0m\n\u001b[0;32m---> 60\u001b[0;31m             \u001b[0mself\u001b[0m\u001b[0;34m.\u001b[0m\u001b[0mboard\u001b[0m\u001b[0;34m.\u001b[0m\u001b[0mplayer\u001b[0m\u001b[0;34m.\u001b[0m\u001b[0mgame\u001b[0m\u001b[0;34m.\u001b[0m\u001b[0mstop\u001b[0m\u001b[0;34m(\u001b[0m\u001b[0;34m)\u001b[0m\u001b[0;34m\u001b[0m\u001b[0m\n\u001b[0m\u001b[1;32m     61\u001b[0m             \u001b[0mmidi_crush\u001b[0m\u001b[0;34m(\u001b[0m\u001b[0mself\u001b[0m\u001b[0;34m.\u001b[0m\u001b[0mboard\u001b[0m\u001b[0;34m.\u001b[0m\u001b[0midx\u001b[0m\u001b[0;34m(\u001b[0m\u001b[0mself\u001b[0m\u001b[0;34m)\u001b[0m \u001b[0;34m+\u001b[0m \u001b[0;36m36\u001b[0m\u001b[0;34m)\u001b[0m\u001b[0;34m\u001b[0m\u001b[0m\n\u001b[1;32m     62\u001b[0m \u001b[0;34m\u001b[0m\u001b[0m\n",
        "\u001b[0;31mAttributeError\u001b[0m: 'NoneType' object has no attribute 'game'"
       ]
      },
      {
       "output_type": "stream",
       "stream": "stdout",
       "text": [
        "added a deck, start playing a loop\n",
        "got hit, crushing the loop\n"
       ]
      }
     ],
     "prompt_number": 131
    },
    {
     "cell_type": "code",
     "collapsed": false,
     "input": [
      "board = Board(n=5, ship_cfg=((1,2), (2,1), (3,1), (4,1)))\n",
      "board.tiles[0][1].set()\n",
      "board.tiles[1][0].set()\n",
      "board.tiles[1][1].set()\n",
      "board.tiles[1][2].set()\n",
      "board.tiles[1][3].set()\n",
      "board.tiles[2][1].set()\n",
      "board.tiles[2][4].set()\n",
      "board.tiles[3][1].set()\n",
      "board.tiles[3][4].set()\n",
      "board.tiles[4][0].set()\n",
      "board.tiles[4][2].set()\n",
      "print(board)\n",
      "print(board.current)\n",
      "print(len(board.decks))\n",
      "board.tiles[4][2].reset()\n",
      "print(board.current)\n",
      "print(len(board.decks))\n",
      "board.tiles[4][0].reset()\n",
      "print(board.current)\n",
      "print(len(board.decks))"
     ],
     "language": "python",
     "metadata": {},
     "outputs": [
      {
       "output_type": "stream",
       "stream": "stdout",
       "text": [
        "added a deck, start playing a loop\n",
        "added a deck, start playing a loop\n",
        "added a deck, start playing a loop\n",
        "added a deck, start playing a loop\n",
        "added a deck, start playing a loop\n",
        "added a deck, start playing a loop\n",
        "added a deck, start playing a loop\n",
        "added a deck, start playing a loop\n",
        "added a deck, start playing a loop\n",
        "added a deck, start playing a loop\n",
        "added a deck, start playing a loop\n",
        "|-----------|\n",
        "| ~ # ~ ~ ~ |\n",
        "| # # # # ~ |\n",
        "| ~ # ~ ~ # |\n",
        "| ~ # ~ ~ # |\n",
        "| # ~ # ~ ~ |\n",
        "|-----------|\n",
        "complete\n",
        "11\n",
        "partial\n",
        "10\n",
        "partial\n",
        "9\n"
       ]
      }
     ],
     "prompt_number": 132
    },
    {
     "cell_type": "code",
     "collapsed": false,
     "input": [
      "board = Board(n=5, ship_cfg=((1,2), (2,1), (3,1), (4,1)))\n",
      "board.tiles[0][0].set()\n",
      "board.tiles[0][1].set()\n",
      "board.tiles[0][4].set()\n",
      "board.tiles[1][2].set()\n",
      "board.tiles[1][4].set()\n",
      "board.tiles[2][4].set()\n",
      "board.tiles[3][0].set()\n",
      "board.tiles[3][1].set()\n",
      "board.tiles[3][2].set()  \n",
      "#board.tiles[4][1].set() # handle this case\n",
      "board.tiles[3][4].set()\n",
      "board.tiles[4][3].set()\n",
      "print(board)\n",
      "print(board.current)\n",
      "print(board.decks)"
     ],
     "language": "python",
     "metadata": {},
     "outputs": [
      {
       "output_type": "stream",
       "stream": "stdout",
       "text": [
        "added a deck, start playing a loop\n",
        "added a deck, start playing a loop\n",
        "added a deck, start playing a loop\n",
        "added a deck, start playing a loop\n",
        "added a deck, start playing a loop\n",
        "added a deck, start playing a loop\n",
        "added a deck, start playing a loop\n",
        "added a deck, start playing a loop\n",
        "added a deck, start playing a loop\n",
        "added a deck, start playing a loop\n",
        "added a deck, start playing a loop\n",
        "True\n",
        "|-----------|\n",
        "| # # ~ ~ # |\n",
        "| ~ ~ # ~ # |\n",
        "| ~ ~ ~ ~ # |\n",
        "| # # # ~ # |\n",
        "| ~ ~ ~ # ~ |\n",
        "|-----------|\n",
        "complete\n",
        "{#, #, #, #, #, #, #, #, #, #, #}\n"
       ]
      }
     ],
     "prompt_number": 106
    },
    {
     "cell_type": "heading",
     "level": 3,
     "metadata": {},
     "source": [
      "player"
     ]
    },
    {
     "cell_type": "code",
     "collapsed": false,
     "input": [
      "from pythonosc import osc_message_builder\n",
      "\n",
      "def osc_state_msg(address, idx, state):\n",
      "    mb = osc_message_builder.OscMessageBuilder(address=address)\n",
      "    mb.add_arg(idx)\n",
      "    mb.add_arg(state)\n",
      "    return mb.build()"
     ],
     "language": "python",
     "metadata": {},
     "outputs": [],
     "prompt_number": 22
    },
    {
     "cell_type": "code",
     "collapsed": false,
     "input": [
      "from itertools import chain\n",
      "\n",
      "UI_BOARD   = dict(sea=0, deck=1, miss=2, hit=3)\n",
      "UI_MONITOR = dict(sea=0, deck=0, miss=2, hit=3)\n",
      "\n",
      "def draw(player, address, board, ui_map):\n",
      "    mb = osc_message_builder.OscMessageBuilder(address)\n",
      "    for tile in chain(*board.tiles):\n",
      "        mb.add_arg(ui_map[tile.current])\n",
      "    player.osc_client.send(mb.build())"
     ],
     "language": "python",
     "metadata": {},
     "outputs": [],
     "prompt_number": 23
    },
    {
     "cell_type": "code",
     "collapsed": false,
     "input": [
      "from pythonosc import udp_client\n",
      "from time import sleep"
     ],
     "language": "python",
     "metadata": {},
     "outputs": [],
     "prompt_number": 24
    },
    {
     "cell_type": "code",
     "collapsed": false,
     "input": [
      "class Player(Fysom):\n",
      "    def __init__(self, ui_client_addr, osc_paths, game=None):\n",
      "        self.game = game\n",
      "        # osc endpoints\n",
      "        self.osc_board, self.osc_monitor, self.osc_ready, self.osc_ready_light = osc_paths\n",
      "        # os | sleep to let the network prime\n",
      "        self.osc_client = udp_client.UDPClient(*ui_client_addr)\n",
      "        sleep(.5)\n",
      "        # fsm\n",
      "        super().__init__(dict(initial='setup',\n",
      "                              events=(dict(name='valid', src='setup', dst='confirmation'),\n",
      "                                      dict(name='invalid', src=('setup', 'confirmation'), dst='setup'),\n",
      "                                      dict(name='confirm', src='confirmation', dst='ready')),\n",
      "                              callbacks={'onsetup': self._on_setup,\n",
      "                                         'onconfirmation': self._on_confirmation,\n",
      "                                         'onready': self._on_ready}))\n",
      "                                         \n",
      "    def _on_setup(self, e):\n",
      "        print('board is in setup, turn off confirmation button')\n",
      "        mb = osc_message_builder.OscMessageBuilder(self.osc_ready_light)\n",
      "        mb.add_arg(-2.0)\n",
      "        self.osc_client.send(mb.build())\n",
      "        mb = osc_message_builder.OscMessageBuilder(self.osc_ready)\n",
      "        mb.add_arg(0.0)\n",
      "        self.osc_client.send(mb.build())\n",
      "    \n",
      "    def _on_confirmation(self, e):\n",
      "        print('board is in setup, turn on confirmation button')\n",
      "        # turn on the LAUNCH button\n",
      "        mb = osc_message_builder.OscMessageBuilder(self.osc_ready)\n",
      "        mb.add_arg(0.0)\n",
      "        self.osc_client.send(mb.build())\n",
      "        mb = osc_message_builder.OscMessageBuilder(self.osc_ready_light)\n",
      "        mb.add_arg(0.1)\n",
      "        self.osc_client.send(mb.build())\n",
      "\n",
      "    def _on_ready(self, e):\n",
      "        print('player is ready, trying to start the game')\n",
      "        if self.game:\n",
      "            self.game.start()"
     ],
     "language": "python",
     "metadata": {},
     "outputs": [],
     "prompt_number": 25
    },
    {
     "cell_type": "heading",
     "level": 3,
     "metadata": {},
     "source": [
      "game"
     ]
    },
    {
     "cell_type": "code",
     "collapsed": false,
     "input": [
      "class Game(Fysom):\n",
      "    def __init__(self, player1, player2, board_size=None, ship_cfg=None):\n",
      "        self.player1, self.player2 = player1, player2        \n",
      "        # player boards | board of one is a monitor for another\n",
      "        self.p1_board = Board(board_size, ship_cfg, player=player1)\n",
      "        self.p2_board = Board(board_size, ship_cfg, player=player2)\n",
      "        # fsm\n",
      "        super().__init__(dict(initial='setup', final='over',\n",
      "                              events=(dict(name='start', src='setup',      dst='p1'),\n",
      "                                      dict(name='turn',  src='p1',         dst='p2'),\n",
      "                                      dict(name='turn',  src='p2',         dst='p1'),\n",
      "                                      dict(name='stop',  src=('p1', 'p2'), dst='over')),\n",
      "                              callbacks={'onentersetup': self._draw_all,\n",
      "                                         'onbeforestart': self._on_before_start,\n",
      "                                         'onbeforestop': self._on_before_stop,\n",
      "                                         'onp1': self._on_p1,\n",
      "                                         'onp2': self._on_p2}))\n",
      "\n",
      "    def _draw_all(self, e):\n",
      "        self.draw_p1_board()\n",
      "        self.draw_p1_monitor()\n",
      "        self.draw_p2_board()\n",
      "        self.draw_p2_monitor()\n",
      "                                         \n",
      "    def _on_before_start(self, e):\n",
      "        print('checking for both players to be ready')\n",
      "        if not (self.player1.isstate('ready') and self.player2.isstate('ready')):\n",
      "            return False\n",
      "        print('GAME ON')\n",
      "    \n",
      "    def _on_before_stop(self, e):\n",
      "        print('is it game over?')\n",
      "        if not (self.p1_board.hit_decks == self.p1_board.decks or self.p2_board.hit_decks == self.p2_board.decks):\n",
      "            return False\n",
      "        print ('game over, turning off crush')\n",
      "        for t in chain(self.p1_board.decks, self.p2_board.decks):\n",
      "            midi_stop(self.p1_board.idx(t) + 36)        \n",
      "        for d in chain(self.p1_board.hit_decks, self.p2_board.hit_decks):\n",
      "            midi_crush(self.p1_board.idx(d) + 36)\n",
      "        self.draw_p1_board()\n",
      "        self.draw_p1_monitor()\n",
      "        self.draw_p2_board()\n",
      "        self.draw_p2_monitor()\n",
      "        \n",
      "    def _on_p1(self, e):\n",
      "        mb = osc_message_builder.OscMessageBuilder(self.player1.osc_ready_light)\n",
      "        mb.add_arg(0.0)\n",
      "        self.player1.osc_client.send(mb.build())\n",
      "        mb = osc_message_builder.OscMessageBuilder(self.player2.osc_ready_light)\n",
      "        mb.add_arg(-2.0)\n",
      "        self.player2.osc_client.send(mb.build())\n",
      "\n",
      "    def _on_p2(self, e):\n",
      "        mb = osc_message_builder.OscMessageBuilder(self.player2.osc_ready_light)\n",
      "        mb.add_arg(0.0)\n",
      "        self.player2.osc_client.send(mb.build())\n",
      "        mb = osc_message_builder.OscMessageBuilder(self.player1.osc_ready_light)\n",
      "        mb.add_arg(-2.0)\n",
      "        self.player1.osc_client.send(mb.build())\n",
      "            \n",
      "    def draw_p1_board(self):\n",
      "        draw(self.player1, self.player1.osc_board, self.p1_board, UI_BOARD)\n",
      "        \n",
      "    def draw_p1_monitor(self):\n",
      "        draw(self.player1, self.player1.osc_monitor, self.p2_board, UI_MONITOR)\n",
      "        \n",
      "    def draw_p2_board(self):\n",
      "        draw(self.player2, self.player2.osc_board, self.p2_board, UI_BOARD)\n",
      "        \n",
      "    def draw_p2_monitor(self):\n",
      "        draw(self.player2, self.player2.osc_monitor, self.p1_board, UI_MONITOR)"
     ],
     "language": "python",
     "metadata": {},
     "outputs": [],
     "prompt_number": 26
    },
    {
     "cell_type": "code",
     "collapsed": false,
     "input": [
      "game = Game(Player(('127.0.0.1', 5005), ('a', 'b', 'c', 'd')),\n",
      "            Player(('127.0.0.1', 5005), ('a', 'b', 'c', 'd')),\n",
      "            5, ((1,2), (2,1), (3,1), (4,1)))\n",
      "assert game.isstate('setup'), game.current"
     ],
     "language": "python",
     "metadata": {},
     "outputs": [
      {
       "output_type": "stream",
       "stream": "stdout",
       "text": [
        "board is in setup, turn off confirmation button\n",
        "board is in setup, turn off confirmation button"
       ]
      },
      {
       "output_type": "stream",
       "stream": "stdout",
       "text": [
        "\n"
       ]
      }
     ],
     "prompt_number": 178
    },
    {
     "cell_type": "code",
     "collapsed": false,
     "input": [
      "game.start()\n",
      "assert game.isstate('p1'), game.current"
     ],
     "language": "python",
     "metadata": {},
     "outputs": [
      {
       "ename": "AssertionError",
       "evalue": "setup",
       "output_type": "pyerr",
       "traceback": [
        "\u001b[0;31m---------------------------------------------------------------------------\u001b[0m\n\u001b[0;31mAssertionError\u001b[0m                            Traceback (most recent call last)",
        "\u001b[0;32m<ipython-input-71-3bc75095216c>\u001b[0m in \u001b[0;36m<module>\u001b[0;34m()\u001b[0m\n\u001b[1;32m      1\u001b[0m \u001b[0mgame\u001b[0m\u001b[0;34m.\u001b[0m\u001b[0mstart\u001b[0m\u001b[0;34m(\u001b[0m\u001b[0;34m)\u001b[0m\u001b[0;34m\u001b[0m\u001b[0m\n\u001b[0;32m----> 2\u001b[0;31m \u001b[0;32massert\u001b[0m \u001b[0mgame\u001b[0m\u001b[0;34m.\u001b[0m\u001b[0misstate\u001b[0m\u001b[0;34m(\u001b[0m\u001b[0;34m'p1'\u001b[0m\u001b[0;34m)\u001b[0m\u001b[0;34m,\u001b[0m \u001b[0mgame\u001b[0m\u001b[0;34m.\u001b[0m\u001b[0mcurrent\u001b[0m\u001b[0;34m\u001b[0m\u001b[0m\n\u001b[0m",
        "\u001b[0;31mAssertionError\u001b[0m: setup"
       ]
      }
     ],
     "prompt_number": 71
    },
    {
     "cell_type": "code",
     "collapsed": false,
     "input": [
      "game.stop()"
     ],
     "language": "python",
     "metadata": {},
     "outputs": [
      {
       "ename": "FysomError",
       "evalue": "event stop inappropriate in current state setup",
       "output_type": "pyerr",
       "traceback": [
        "\u001b[0;31m---------------------------------------------------------------------------\u001b[0m\n\u001b[0;31mFysomError\u001b[0m                                Traceback (most recent call last)",
        "\u001b[0;32m<ipython-input-73-612c2e4c3f8e>\u001b[0m in \u001b[0;36m<module>\u001b[0;34m()\u001b[0m\n\u001b[0;32m----> 1\u001b[0;31m \u001b[0mgame\u001b[0m\u001b[0;34m.\u001b[0m\u001b[0mstop\u001b[0m\u001b[0;34m(\u001b[0m\u001b[0;34m)\u001b[0m\u001b[0;34m\u001b[0m\u001b[0m\n\u001b[0m",
        "\u001b[0;32m/Users/pkatsev/Development/battleship/venv/lib/python3.3/site-packages/fysom/__init__.py\u001b[0m in \u001b[0;36mfn\u001b[0;34m(*args, **kwargs)\u001b[0m\n\u001b[1;32m    113\u001b[0m             \u001b[0;32mif\u001b[0m \u001b[0;32mnot\u001b[0m \u001b[0mself\u001b[0m\u001b[0;34m.\u001b[0m\u001b[0mcan\u001b[0m\u001b[0;34m(\u001b[0m\u001b[0mevent\u001b[0m\u001b[0;34m)\u001b[0m\u001b[0;34m:\u001b[0m\u001b[0;34m\u001b[0m\u001b[0m\n\u001b[1;32m    114\u001b[0m                 raise FysomError(\n\u001b[0;32m--> 115\u001b[0;31m                     \"event %s inappropriate in current state %s\" % (event, self.current))\n\u001b[0m\u001b[1;32m    116\u001b[0m \u001b[0;34m\u001b[0m\u001b[0m\n\u001b[1;32m    117\u001b[0m             \u001b[0msrc\u001b[0m \u001b[0;34m=\u001b[0m \u001b[0mself\u001b[0m\u001b[0;34m.\u001b[0m\u001b[0mcurrent\u001b[0m\u001b[0;34m\u001b[0m\u001b[0m\n",
        "\u001b[0;31mFysomError\u001b[0m: event stop inappropriate in current state setup"
       ]
      }
     ],
     "prompt_number": 73
    },
    {
     "cell_type": "code",
     "collapsed": false,
     "input": [
      "game.is_finished()"
     ],
     "language": "python",
     "metadata": {},
     "outputs": [
      {
       "metadata": {},
       "output_type": "pyout",
       "prompt_number": 55,
       "text": [
        "True"
       ]
      }
     ],
     "prompt_number": 55
    },
    {
     "cell_type": "heading",
     "level": 3,
     "metadata": {},
     "source": [
      "game manager"
     ]
    },
    {
     "cell_type": "code",
     "collapsed": false,
     "input": [
      "from pythonosc import dispatcher\n",
      "from pythonosc import osc_server"
     ],
     "language": "python",
     "metadata": {},
     "outputs": [],
     "prompt_number": 27
    },
    {
     "cell_type": "code",
     "collapsed": false,
     "input": [
      "from functools import wraps\n",
      "\n",
      "def norepeat(f, last_args=[None]):\n",
      "    @wraps(f)\n",
      "    def wrapper(*args):\n",
      "        if not args == last_args[0]:\n",
      "            last_args[0] = args\n",
      "            return f(*args)\n",
      "    return wrapper"
     ],
     "language": "python",
     "metadata": {},
     "outputs": [],
     "prompt_number": 28
    },
    {
     "cell_type": "code",
     "collapsed": false,
     "input": [
      "class GameManager:\n",
      "    p1_osc_addr =    ('thrace.local', 8000)\n",
      "    p1_osc_boards =  ('/us/draw', '/them/draw', '/ready/x', '/ready/light')\n",
      "    p2_osc_addr =    ('192.168.0.16', 8000)\n",
      "    p2_osc_boards =  ('/us2/draw', '/them2/draw', '/ready2/x', '/ready2/light')\n",
      "\n",
      "    osc_server_addr = ('0.0.0.0', 5005)\n",
      "    board_size = 5\n",
      "    ship_cfg = ((1,2), (2,1), (3,1), (4,1))\n",
      "\n",
      "    def __init__(self):\n",
      "        # connect and init players\n",
      "        self.player1 = Player(self.p1_osc_addr, self.p1_osc_boards)\n",
      "        self.player2 = Player(self.p2_osc_addr, self.p2_osc_boards)       \n",
      "        # auto start new game\n",
      "        self.new_game()\n",
      "        # start the ui server\n",
      "        self.start_ui_server()\n",
      "\n",
      "    def new_game(self):\n",
      "        self.current_game = Game(self.player1, self.player2,\n",
      "                                 self.board_size, self.ship_cfg)\n",
      "        self.player1.game = self.current_game\n",
      "        self.player2.game = self.current_game\n",
      "\n",
      "    def start_ui_server(self):\n",
      "        disp = dispatcher.Dispatcher()\n",
      "        disp.map('/us/x', self.handle_player1_board)\n",
      "        disp.map('/them/x', self.handle_player1_monitor)\n",
      "        disp.map('/ready/x', self.handle_player1_launch_btn)\n",
      "        disp.map('/us2/x', self.handle_player2_board)\n",
      "        disp.map('/them2/x', self.handle_player2_monitor)\n",
      "        disp.map('/ready2/x', self.handle_player2_launch_btn)\n",
      "\n",
      "        try:\n",
      "            self.ui_server = osc_server.BlockingOSCUDPServer(self.osc_server_addr, disp)\n",
      "            print(\"Bind OSC server on {}\".format(self.ui_server.server_address))\n",
      "            self.ui_server.serve_forever()\n",
      "        except (KeyboardInterrupt, OSError):\n",
      "            self.stop_ui_server()\n",
      "\n",
      "    def stop_ui_server(self):\n",
      "        self.ui_server.shutdown()\n",
      "        self.ui_server.server_close()\n",
      "\n",
      "    # ui server handlers | player 1\n",
      "    \n",
      "    @norepeat\n",
      "    def handle_player1_board(self, *switches):\n",
      "        # setup\n",
      "        if self.current_game.isstate('setup'):\n",
      "            for i, switch in enumerate(switches):\n",
      "                tile = self.current_game.p1_board.tile_1d(i)\n",
      "                if switch:\n",
      "                    tile.set()\n",
      "                else:\n",
      "                    tile.reset()\n",
      "        self.current_game.draw_p1_board()\n",
      "\n",
      "    @norepeat\n",
      "    def handle_player1_monitor(self, *switches):\n",
      "        if self.current_game.isstate('p1'):\n",
      "            try:\n",
      "                idx = switches.index(1)\n",
      "                self.current_game.p2_board.tile_1d(idx).fire()\n",
      "            except (FysomError, ValueError):\n",
      "                pass\n",
      "            else:\n",
      "                self.current_game.draw_p2_board()\n",
      "                # if miss switch turn\n",
      "                if self.current_game.p2_board.tile_1d(idx).isstate('miss'):\n",
      "                    self.current_game.turn()\n",
      "        self.current_game.draw_p1_monitor()\n",
      "\n",
      "    @norepeat\n",
      "    def handle_player1_launch_btn(self, switch):\n",
      "        if self.player1.isstate('confirmation') and switch:\n",
      "            self.player1.confirm()\n",
      "        # draw state\n",
      "        if self.player1.isstate('ready'):\n",
      "            # depending on the turn\n",
      "            mb = osc_message_builder.OscMessageBuilder(self.player1.osc_ready)\n",
      "            mb.add_arg(1.0)\n",
      "            self.player1.osc_client.send(mb.build())\n",
      "\n",
      "    # ui server handlers | player 2\n",
      "    \n",
      "    @norepeat\n",
      "    def handle_player2_board(self, *switches):\n",
      "        # setup\n",
      "        if self.current_game.isstate('setup'):\n",
      "            for i, switch in enumerate(switches):\n",
      "                tile = self.current_game.p2_board.tile_1d(i)\n",
      "                if switch:\n",
      "                    tile.set()\n",
      "                else:\n",
      "                    tile.reset()\n",
      "        self.current_game.draw_p2_board()\n",
      "\n",
      "    @norepeat\n",
      "    def handle_player2_launch_btn(self, switch):\n",
      "        if self.player2.isstate('confirmation') and switch:\n",
      "            self.player2.confirm()\n",
      "        # draw state\n",
      "        if self.player2.isstate('ready'):\n",
      "            # depending on the turn\n",
      "            mb = osc_message_builder.OscMessageBuilder(self.player2.osc_ready)\n",
      "            mb.add_arg(1.0)\n",
      "            self.player2.osc_client.send(mb.build())\n",
      "\n",
      "    @norepeat\n",
      "    def handle_player2_monitor(self, *switches):\n",
      "        if self.current_game.isstate('p2'):\n",
      "            try:\n",
      "                idx = switches.index(1)\n",
      "                self.current_game.p1_board.tile_1d(idx).fire()\n",
      "            except (FysomError, ValueError):\n",
      "                pass\n",
      "            else:\n",
      "                self.current_game.draw_p1_board()\n",
      "                # if miss switch turn\n",
      "                if self.current_game.p1_board.tile_1d(idx).isstate('miss'):\n",
      "                    self.current_game.turn()\n",
      "        self.current_game.draw_p2_monitor()"
     ],
     "language": "python",
     "metadata": {},
     "outputs": [],
     "prompt_number": 30
    },
    {
     "cell_type": "code",
     "collapsed": true,
     "input": [
      "gm = GameManager()"
     ],
     "language": "python",
     "metadata": {},
     "outputs": [
      {
       "output_type": "stream",
       "stream": "stdout",
       "text": [
        "board is in setup, turn off confirmation button\n",
        "board is in setup, turn off confirmation button"
       ]
      },
      {
       "output_type": "stream",
       "stream": "stdout",
       "text": [
        "\n",
        "Bind OSC server on ('0.0.0.0', 5005)\n",
        "added a deck, start playing a loop"
       ]
      },
      {
       "output_type": "stream",
       "stream": "stdout",
       "text": [
        "\n",
        "added a deck, start playing a loop"
       ]
      },
      {
       "output_type": "stream",
       "stream": "stdout",
       "text": [
        "\n",
        "added a deck, start playing a loop"
       ]
      },
      {
       "output_type": "stream",
       "stream": "stdout",
       "text": [
        "\n",
        "added a deck, start playing a loop"
       ]
      },
      {
       "output_type": "stream",
       "stream": "stdout",
       "text": [
        "\n",
        "added a deck, start playing a loop"
       ]
      },
      {
       "output_type": "stream",
       "stream": "stdout",
       "text": [
        "\n",
        "added a deck, start playing a loop"
       ]
      },
      {
       "output_type": "stream",
       "stream": "stdout",
       "text": [
        "\n",
        "added a deck, start playing a loop"
       ]
      },
      {
       "output_type": "stream",
       "stream": "stdout",
       "text": [
        "\n",
        "added a deck, start playing a loop"
       ]
      },
      {
       "output_type": "stream",
       "stream": "stdout",
       "text": [
        "\n",
        "added a deck, start playing a loop"
       ]
      },
      {
       "output_type": "stream",
       "stream": "stdout",
       "text": [
        "\n",
        "added a deck, start playing a loop"
       ]
      },
      {
       "output_type": "stream",
       "stream": "stdout",
       "text": [
        "\n",
        "added a deck, start playing a loop"
       ]
      },
      {
       "output_type": "stream",
       "stream": "stdout",
       "text": [
        "\n",
        "added a deck, start playing a loop"
       ]
      },
      {
       "output_type": "stream",
       "stream": "stdout",
       "text": [
        "\n",
        "added a deck, start playing a loop"
       ]
      },
      {
       "output_type": "stream",
       "stream": "stdout",
       "text": [
        "\n",
        "added a deck, start playing a loop"
       ]
      },
      {
       "output_type": "stream",
       "stream": "stdout",
       "text": [
        "\n",
        "added a deck, start playing a loop"
       ]
      },
      {
       "output_type": "stream",
       "stream": "stdout",
       "text": [
        "\n",
        "added a deck, start playing a loop"
       ]
      },
      {
       "output_type": "stream",
       "stream": "stdout",
       "text": [
        "\n",
        "added a deck, start playing a loop"
       ]
      },
      {
       "output_type": "stream",
       "stream": "stdout",
       "text": [
        "\n",
        "added a deck, start playing a loop"
       ]
      },
      {
       "output_type": "stream",
       "stream": "stdout",
       "text": [
        "\n",
        "added a deck, start playing a loop"
       ]
      },
      {
       "output_type": "stream",
       "stream": "stdout",
       "text": [
        "\n",
        "added a deck, start playing a loop"
       ]
      },
      {
       "output_type": "stream",
       "stream": "stdout",
       "text": [
        "\n",
        "added a deck, start playing a loop"
       ]
      },
      {
       "output_type": "stream",
       "stream": "stdout",
       "text": [
        "\n",
        "added a deck, start playing a loop"
       ]
      },
      {
       "output_type": "stream",
       "stream": "stdout",
       "text": [
        "\n",
        "added a deck, start playing a loop"
       ]
      },
      {
       "output_type": "stream",
       "stream": "stdout",
       "text": [
        "\n",
        "added a deck, start playing a loop"
       ]
      },
      {
       "output_type": "stream",
       "stream": "stdout",
       "text": [
        "\n",
        "added a deck, start playing a loop"
       ]
      },
      {
       "output_type": "stream",
       "stream": "stdout",
       "text": [
        "\n",
        "added a deck, start playing a loop"
       ]
      },
      {
       "output_type": "stream",
       "stream": "stdout",
       "text": [
        "\n",
        "added a deck, start playing a loop"
       ]
      },
      {
       "output_type": "stream",
       "stream": "stdout",
       "text": [
        "\n",
        "added a deck, start playing a loop"
       ]
      },
      {
       "output_type": "stream",
       "stream": "stdout",
       "text": [
        "\n",
        "added a deck, start playing a loop"
       ]
      },
      {
       "output_type": "stream",
       "stream": "stdout",
       "text": [
        "\n",
        "added a deck, start playing a loop"
       ]
      },
      {
       "output_type": "stream",
       "stream": "stdout",
       "text": [
        "\n",
        "added a deck, start playing a loop"
       ]
      },
      {
       "output_type": "stream",
       "stream": "stdout",
       "text": [
        "\n",
        "added a deck, start playing a loop"
       ]
      },
      {
       "output_type": "stream",
       "stream": "stdout",
       "text": [
        "\n",
        "added a deck, start playing a loop"
       ]
      },
      {
       "output_type": "stream",
       "stream": "stdout",
       "text": [
        "\n",
        "board complete and valid\n",
        "board is in setup, turn on confirmation button\n",
        "added a deck, start playing a loop"
       ]
      },
      {
       "output_type": "stream",
       "stream": "stdout",
       "text": [
        "\n",
        "added a deck, start playing a loop"
       ]
      },
      {
       "output_type": "stream",
       "stream": "stdout",
       "text": [
        "\n",
        "player is ready, trying to start the game"
       ]
      },
      {
       "output_type": "stream",
       "stream": "stdout",
       "text": [
        "\n",
        "checking for both players to be ready\n",
        "added a deck, start playing a loop"
       ]
      },
      {
       "output_type": "stream",
       "stream": "stdout",
       "text": [
        "\n",
        "added a deck, start playing a loop"
       ]
      },
      {
       "output_type": "stream",
       "stream": "stdout",
       "text": [
        "\n",
        "added a deck, start playing a loop"
       ]
      },
      {
       "output_type": "stream",
       "stream": "stdout",
       "text": [
        "\n",
        "added a deck, start playing a loop"
       ]
      },
      {
       "output_type": "stream",
       "stream": "stdout",
       "text": [
        "\n",
        "added a deck, start playing a loop"
       ]
      },
      {
       "output_type": "stream",
       "stream": "stdout",
       "text": [
        "\n",
        "added a deck, start playing a loop\n",
        "board complete and valid\n",
        "board is in setup, turn on confirmation button\n",
        "player is ready, trying to start the game"
       ]
      },
      {
       "output_type": "stream",
       "stream": "stdout",
       "text": [
        "\n",
        "checking for both players to be ready\n",
        "GAME ON\n",
        "got hit, crushing the loop"
       ]
      },
      {
       "output_type": "stream",
       "stream": "stdout",
       "text": [
        "\n",
        "is it game over?\n",
        "got hit, crushing the loop"
       ]
      },
      {
       "output_type": "stream",
       "stream": "stdout",
       "text": [
        "\n",
        "is it game over?\n",
        "got hit, crushing the loop"
       ]
      },
      {
       "output_type": "stream",
       "stream": "stdout",
       "text": [
        "\n",
        "is it game over?\n",
        "got hit, crushing the loop"
       ]
      },
      {
       "output_type": "stream",
       "stream": "stdout",
       "text": [
        "\n",
        "is it game over?\n",
        "got hit, crushing the loop"
       ]
      },
      {
       "output_type": "stream",
       "stream": "stdout",
       "text": [
        "\n",
        "is it game over?\n",
        "got hit, crushing the loop"
       ]
      },
      {
       "output_type": "stream",
       "stream": "stdout",
       "text": [
        "\n",
        "is it game over?\n",
        "got hit, crushing the loop"
       ]
      },
      {
       "output_type": "stream",
       "stream": "stdout",
       "text": [
        "\n",
        "is it game over?\n",
        "got hit, crushing the loop"
       ]
      },
      {
       "output_type": "stream",
       "stream": "stdout",
       "text": [
        "\n",
        "is it game over?\n",
        "got hit, crushing the loop"
       ]
      },
      {
       "output_type": "stream",
       "stream": "stdout",
       "text": [
        "\n",
        "is it game over?\n",
        "got hit, crushing the loop"
       ]
      },
      {
       "output_type": "stream",
       "stream": "stdout",
       "text": [
        "\n",
        "is it game over?\n",
        "got hit, crushing the loop"
       ]
      },
      {
       "output_type": "stream",
       "stream": "stdout",
       "text": [
        "\n",
        "is it game over?\n",
        "got hit, crushing the loop"
       ]
      },
      {
       "output_type": "stream",
       "stream": "stdout",
       "text": [
        "\n",
        "is it game over?\n",
        "got hit, crushing the loop"
       ]
      },
      {
       "output_type": "stream",
       "stream": "stdout",
       "text": [
        "\n",
        "is it game over?\n",
        "got hit, crushing the loop"
       ]
      },
      {
       "output_type": "stream",
       "stream": "stdout",
       "text": [
        "\n",
        "is it game over?\n",
        "got hit, crushing the loop"
       ]
      },
      {
       "output_type": "stream",
       "stream": "stdout",
       "text": [
        "\n",
        "is it game over?\n",
        "got hit, crushing the loop"
       ]
      },
      {
       "output_type": "stream",
       "stream": "stdout",
       "text": [
        "\n",
        "is it game over?\n",
        "got hit, crushing the loop"
       ]
      },
      {
       "output_type": "stream",
       "stream": "stdout",
       "text": [
        "\n",
        "is it game over?\n",
        "got hit, crushing the loop"
       ]
      },
      {
       "output_type": "stream",
       "stream": "stdout",
       "text": [
        "\n",
        "is it game over?\n",
        "got hit, crushing the loop"
       ]
      },
      {
       "output_type": "stream",
       "stream": "stdout",
       "text": [
        "\n",
        "is it game over?\n",
        "got hit, crushing the loop"
       ]
      },
      {
       "output_type": "stream",
       "stream": "stdout",
       "text": [
        "\n",
        "is it game over?\n",
        "got hit, crushing the loop"
       ]
      },
      {
       "output_type": "stream",
       "stream": "stdout",
       "text": [
        "\n",
        "is it game over?\n",
        "game over, turning off crush\n"
       ]
      }
     ],
     "prompt_number": 32
    },
    {
     "cell_type": "code",
     "collapsed": false,
     "input": [
      "gm.current_game.p1_board.tile_1d(0).fire()"
     ],
     "language": "python",
     "metadata": {},
     "outputs": [
      {
       "output_type": "stream",
       "stream": "stdout",
       "text": [
        "got hit, crushing the loop\n"
       ]
      }
     ],
     "prompt_number": 55
    },
    {
     "cell_type": "code",
     "collapsed": false,
     "input": [
      "gm.current_game.current"
     ],
     "language": "python",
     "metadata": {},
     "outputs": [
      {
       "metadata": {},
       "output_type": "pyout",
       "prompt_number": 109,
       "text": [
        "'p1'"
       ]
      }
     ],
     "prompt_number": 109
    },
    {
     "cell_type": "code",
     "collapsed": false,
     "input": [],
     "language": "python",
     "metadata": {},
     "outputs": []
    }
   ],
   "metadata": {}
  }
 ]
}