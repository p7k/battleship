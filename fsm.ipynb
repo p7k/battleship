{
 "metadata": {
  "name": ""
 },
 "nbformat": 3,
 "nbformat_minor": 0,
 "worksheets": [
  {
   "cells": [
    {
     "cell_type": "code",
     "collapsed": false,
     "input": [
      "from fysom import Fysom, FysomError"
     ],
     "language": "python",
     "metadata": {},
     "outputs": [],
     "prompt_number": 1
    },
    {
     "cell_type": "heading",
     "level": 3,
     "metadata": {},
     "source": [
      "tile"
     ]
    },
    {
     "cell_type": "code",
     "collapsed": false,
     "input": [
      "class Tile(Fysom):\n",
      "    \"\"\"Belongs to a board and a ship\"\"\"\n",
      "    symbols = dict(sea='~', deck='#', miss='o', hit='x')\n",
      "\n",
      "    def __init__(self, i, j):\n",
      "        self.i, self.j = i, j\n",
      "        super().__init__(dict(initial='sea',\n",
      "                              events=(dict(name='set',   src='sea',  dst='deck'),\n",
      "                                      dict(name='reset', src='deck', dst='sea'),\n",
      "                                      dict(name='fire',  src='sea',  dst='miss'),\n",
      "                                      dict(name='fire',  src='deck', dst='hit'))))\n",
      "\n",
      "    def __repr__(self):\n",
      "        return self.symbols[self.current]"
     ],
     "language": "python",
     "metadata": {},
     "outputs": [],
     "prompt_number": 2
    },
    {
     "cell_type": "code",
     "collapsed": false,
     "input": [
      "tile = Tile(0, 0)\n",
      "assert tile.current == 'sea'"
     ],
     "language": "python",
     "metadata": {},
     "outputs": [],
     "prompt_number": 3
    },
    {
     "cell_type": "code",
     "collapsed": false,
     "input": [
      "tile.fire()\n",
      "assert tile.current == 'miss'"
     ],
     "language": "python",
     "metadata": {},
     "outputs": [],
     "prompt_number": 4
    },
    {
     "cell_type": "code",
     "collapsed": false,
     "input": [
      "tile = Tile(0, 0)\n",
      "tile.set()\n",
      "assert tile.current == 'deck'"
     ],
     "language": "python",
     "metadata": {},
     "outputs": [],
     "prompt_number": 5
    },
    {
     "cell_type": "code",
     "collapsed": false,
     "input": [
      "tile.reset()\n",
      "assert tile.current == 'sea'"
     ],
     "language": "python",
     "metadata": {},
     "outputs": [],
     "prompt_number": 6
    },
    {
     "cell_type": "code",
     "collapsed": false,
     "input": [
      "tile.set(too_close=False)\n",
      "assert tile.current == 'deck'"
     ],
     "language": "python",
     "metadata": {},
     "outputs": [],
     "prompt_number": 7
    },
    {
     "cell_type": "code",
     "collapsed": false,
     "input": [
      "tile.fire()\n",
      "assert tile.current == 'hit'"
     ],
     "language": "python",
     "metadata": {},
     "outputs": [],
     "prompt_number": 8
    },
    {
     "cell_type": "heading",
     "level": 3,
     "metadata": {},
     "source": [
      "ship"
     ]
    },
    {
     "cell_type": "code",
     "collapsed": false,
     "input": [
      "class Ship(Fysom):\n",
      "    \"\"\"collection of tiles | specify number of decks\"\"\"\n",
      "    \n",
      "    def __init__(self, number_of_decks):\n",
      "        self.n = number_of_decks\n",
      "        self.tiles = set()\n",
      "        super().__init__(dict(initial='shipyard', final='sunken',\n",
      "                              events=(dict(name='add',    src='shipyard', dst='afloat'),\n",
      "                                      dict(name='fire',   src='afloat',   dst='damaged'),\n",
      "                                      dict(name='fire',   src='damaged',  dst='sunken')),\n",
      "                              callbacks={'onbeforeadd':    self._add_tile,\n",
      "                                         'onbeforefire':   self._has_hits,\n",
      "                                         'onleavedamaged': self._is_kaput,\n",
      "                                         'onentersunken':  self._sunken_fx}))\n",
      "        \n",
      "    def _add_tile(self, e):\n",
      "        assert e.tile not in self.tiles, 'ship already on this tile'\n",
      "        if not e.tile.current == 'deck':\n",
      "            e.tile.set(too_close=False)\n",
      "        self.tiles.add(e.tile)\n",
      "        e.tile.ship = self\n",
      "        if not len(self.tiles) == self.n:\n",
      "            return False\n",
      "    \n",
      "    def _has_hits(self, e):\n",
      "        if not any((tile.current == 'hit' for tile in self.tiles)):\n",
      "            return False\n",
      "    \n",
      "    def _is_kaput(self, e):\n",
      "        if not all((tile.current == 'hit' for tile in self.tiles)):\n",
      "            return False\n",
      "        \n",
      "    def _sunken_fx(self, e):\n",
      "        pass\n",
      "    \n",
      "    def __repr__(self):\n",
      "        return 'D{}'.format(self.n)"
     ],
     "language": "python",
     "metadata": {},
     "outputs": [],
     "prompt_number": 9
    },
    {
     "cell_type": "code",
     "collapsed": false,
     "input": [
      "ship = Ship(2)\n",
      "assert ship.current == 'shipyard'"
     ],
     "language": "python",
     "metadata": {},
     "outputs": [],
     "prompt_number": 10
    },
    {
     "cell_type": "code",
     "collapsed": false,
     "input": [
      "tile1 = Tile(0,0)\n",
      "tile1.set(too_close=False)\n",
      "ship.add(tile=tile1)\n",
      "assert ship.current == 'shipyard'"
     ],
     "language": "python",
     "metadata": {},
     "outputs": [],
     "prompt_number": 11
    },
    {
     "cell_type": "code",
     "collapsed": false,
     "input": [
      "tile2 = Tile(0,1)\n",
      "tile2.set(too_close=False)\n",
      "ship.add(tile=tile2)\n",
      "assert ship.current == 'afloat'\n",
      "ship.tiles"
     ],
     "language": "python",
     "metadata": {},
     "outputs": [
      {
       "metadata": {},
       "output_type": "pyout",
       "prompt_number": 12,
       "text": [
        "{#, #}"
       ]
      }
     ],
     "prompt_number": 12
    },
    {
     "cell_type": "code",
     "collapsed": false,
     "input": [
      "tile1.fire()\n",
      "ship.fire()\n",
      "assert ship.current == 'damaged'\n",
      "ship.tiles"
     ],
     "language": "python",
     "metadata": {},
     "outputs": [
      {
       "metadata": {},
       "output_type": "pyout",
       "prompt_number": 13,
       "text": [
        "{#, x}"
       ]
      }
     ],
     "prompt_number": 13
    },
    {
     "cell_type": "code",
     "collapsed": false,
     "input": [
      "tile2.fire()\n",
      "ship.fire()\n",
      "assert ship.current == 'sunken'\n",
      "ship.tiles"
     ],
     "language": "python",
     "metadata": {},
     "outputs": [
      {
       "metadata": {},
       "output_type": "pyout",
       "prompt_number": 14,
       "text": [
        "{x, x}"
       ]
      }
     ],
     "prompt_number": 14
    },
    {
     "cell_type": "heading",
     "level": 3,
     "metadata": {},
     "source": [
      "board"
     ]
    },
    {
     "cell_type": "code",
     "collapsed": false,
     "input": [
      "from itertools import chain"
     ],
     "language": "python",
     "metadata": {},
     "outputs": [],
     "prompt_number": 15
    },
    {
     "cell_type": "code",
     "collapsed": false,
     "input": [
      "class Board:\n",
      "    \"\"\"keeps track of tiles\"\"\"\n",
      "    \n",
      "    def __init__(self, n, ships):\n",
      "        self.n = n\n",
      "        # tile matrix\n",
      "        self.tiles = tuple(\n",
      "            tuple(Tile(i, j) for j in range(n)) for i in range(n))\n",
      "        # ships  TODO rewrite into a frozenset comprehension\n",
      "        self.total_decks = 0;\n",
      "        self.ships = set()\n",
      "        for n_decks, qty in ships:\n",
      "            self.total_decks += n_decks * qty\n",
      "            self.ships.update(Ship(n_decks) for _ in range(qty))\n",
      "            \n",
      "    def tile_1d(self, i):\n",
      "        # TODO error proof\n",
      "        return self.tiles[i // self.n][i % self.n]\n",
      "\n",
      "    def __str__(self):\n",
      "        edge = '|{}|'.format('-' * (self.n * 2 + 1))\n",
      "        rows = '\\n'.join('| {} |'.format(' '.join(map(str, row))) for row in self.tiles)\n",
      "        return '{edge}\\n{rows}\\n{edge}'.format(**locals())\n",
      "    \n",
      "    def __repr__(self):\n",
      "        return str(self.tiles)\n",
      "    \n",
      "    def idx(self, tile):\n",
      "        return tile.i * self.n + tile.j\n",
      "    \n",
      "    def is_valid(self):\n",
      "        pass\n",
      "    \n",
      "    def is_complete(self):\n",
      "        pass\n",
      "    \n",
      "    def detect_ships(self):\n",
      "        pass\n",
      "        # horizontal ships\n",
      "#         for tile in "
     ],
     "language": "python",
     "metadata": {},
     "outputs": [],
     "prompt_number": 169
    },
    {
     "cell_type": "code",
     "collapsed": false,
     "input": [
      "board = Board(n=5, ships=((1,2), (2,1), (3,1), (4,1)))\n",
      "print(board.total_decks)\n",
      "print(board.ships)\n",
      "print(board)"
     ],
     "language": "python",
     "metadata": {},
     "outputs": [
      {
       "output_type": "stream",
       "stream": "stdout",
       "text": [
        "11\n",
        "{D1, D3, D4, D1, D2}\n",
        "|-----------|\n",
        "| ~ ~ ~ ~ ~ |\n",
        "| ~ ~ ~ ~ ~ |\n",
        "| ~ ~ ~ ~ ~ |\n",
        "| ~ ~ ~ ~ ~ |\n",
        "| ~ ~ ~ ~ ~ |\n",
        "|-----------|\n"
       ]
      }
     ],
     "prompt_number": 171
    },
    {
     "cell_type": "code",
     "collapsed": false,
     "input": [
      "board.tile_1d(0).fire()\n",
      "print(board)"
     ],
     "language": "python",
     "metadata": {},
     "outputs": [
      {
       "output_type": "stream",
       "stream": "stdout",
       "text": [
        "|-----------|\n",
        "| o ~ ~ ~ ~ |\n",
        "| ~ ~ ~ ~ ~ |\n",
        "| ~ ~ ~ ~ ~ |\n",
        "| ~ ~ ~ ~ ~ |\n",
        "| ~ ~ ~ ~ ~ |\n",
        "|-----------|\n"
       ]
      }
     ],
     "prompt_number": 18
    },
    {
     "cell_type": "code",
     "collapsed": false,
     "input": [
      "board.tile_1d(24).set(too_close=False)\n",
      "board.tile_1d(24).fire()\n",
      "print(board)"
     ],
     "language": "python",
     "metadata": {},
     "outputs": [
      {
       "output_type": "stream",
       "stream": "stdout",
       "text": [
        "|-----------|\n",
        "| o ~ ~ ~ ~ |\n",
        "| ~ ~ ~ ~ ~ |\n",
        "| ~ ~ ~ ~ ~ |\n",
        "| ~ ~ ~ ~ ~ |\n",
        "| ~ ~ ~ ~ x |\n",
        "|-----------|\n"
       ]
      }
     ],
     "prompt_number": 19
    },
    {
     "cell_type": "code",
     "collapsed": false,
     "input": [
      "tile = board.tile_1d(1)\n",
      "assert tile.i == 0 and tile.j == 1"
     ],
     "language": "python",
     "metadata": {},
     "outputs": [],
     "prompt_number": 20
    },
    {
     "cell_type": "code",
     "collapsed": false,
     "input": [
      "assert board.idx(tile) == 1"
     ],
     "language": "python",
     "metadata": {},
     "outputs": [],
     "prompt_number": 21
    },
    {
     "cell_type": "heading",
     "level": 3,
     "metadata": {},
     "source": [
      "player"
     ]
    },
    {
     "cell_type": "code",
     "collapsed": false,
     "input": [
      "from pythonosc import osc_message_builder\n",
      "\n",
      "def osc_state_msg(address, idx, state):\n",
      "    mb = osc_message_builder.OscMessageBuilder(address=address)\n",
      "    mb.add_arg(idx)\n",
      "    mb.add_arg(state)\n",
      "    return mb.build()"
     ],
     "language": "python",
     "metadata": {},
     "outputs": [],
     "prompt_number": 22
    },
    {
     "cell_type": "code",
     "collapsed": false,
     "input": [
      "from itertools import chain\n",
      "\n",
      "UI_BOARD   = dict(sea=0, deck=1, miss=2, hit=3)\n",
      "UI_MONITOR = dict(sea=0, deck=0, miss=2, hit=3)\n",
      "\n",
      "def draw(player, address, board, ui_map):\n",
      "    for tile in chain(*board.tiles):\n",
      "        msg = osc_state_msg(address, board.idx(tile), ui_map[tile.current])\n",
      "        player.osc_client.send(msg)\n",
      "\n",
      "def draw(player, address, board, ui_map):\n",
      "    mb = osc_message_builder.OscMessageBuilder(address)\n",
      "    for tile in chain(*board.tiles):\n",
      "        mb.add_arg(ui_map[tile.current])\n",
      "    player.osc_client.send(mb.build())"
     ],
     "language": "python",
     "metadata": {},
     "outputs": [],
     "prompt_number": 23
    },
    {
     "cell_type": "code",
     "collapsed": false,
     "input": [
      "from pythonosc import udp_client\n",
      "from time import sleep"
     ],
     "language": "python",
     "metadata": {},
     "outputs": [],
     "prompt_number": 24
    },
    {
     "cell_type": "code",
     "collapsed": false,
     "input": [
      "class Player(Fysom):\n",
      "    def __init__(self, ui_client_addr, osc_boards):\n",
      "        # osc endpoints\n",
      "        self.osc_board, self.osc_monitor = osc_boards\n",
      "        # os | sleep to let the network prime\n",
      "        self.osc_client = udp_client.UDPClient(*ui_client_addr)\n",
      "        sleep(.2)"
     ],
     "language": "python",
     "metadata": {},
     "outputs": [],
     "prompt_number": 25
    },
    {
     "cell_type": "heading",
     "level": 3,
     "metadata": {},
     "source": [
      "game"
     ]
    },
    {
     "cell_type": "code",
     "collapsed": false,
     "input": [
      "class Game(Fysom):\n",
      "    def __init__(self, player1, player2, board_size, ship_cfg):\n",
      "        self.player1, self.player2 = player1, player2        \n",
      "        # player boards | board of one is a monitor for another\n",
      "        self.p1_board = Board(board_size, ship_cfg)\n",
      "        self.p2_board = Board(board_size, ship_cfg)\n",
      "        # fsm\n",
      "        super().__init__(dict(initial='setup', final='over',\n",
      "                              events=(dict(name='turn',  src='setup',     dst='p1'),\n",
      "                                      dict(name='turn',  src='p1',        dst='p2'),\n",
      "                                      dict(name='turn',  src='p2',        dst='p1'),\n",
      "                                      dict(name='stop', src=('p1', 'p2'), dst='over')),\n",
      "                              callbacks={'onentersetup': self._draw_all,\n",
      "                                         'onleavesetup': self._validate_play_boards,\n",
      "                                         'onstop': self._stop_fx}))\n",
      "\n",
      "    def _draw_all(self, e):\n",
      "        for f in (self.draw_p1_board, self.draw_p1_monitor, self.draw_p2_board, self.draw_p2_monitor):\n",
      "            f()\n",
      "                                         \n",
      "    def _validate_play_boards(self, e):\n",
      "        \"\"\"check each player's play boards\"\"\"\n",
      "        pass\n",
      "    \n",
      "    def _stop_fx(self, e):\n",
      "        \"\"\"stop all sfx + some viz?\"\"\"\n",
      "        pass\n",
      "    \n",
      "    def draw_p1_board(self):\n",
      "        draw(self.player1, self.player1.osc_board, self.p1_board, UI_BOARD)\n",
      "        \n",
      "    def draw_p1_monitor(self):\n",
      "        draw(self.player1, self.player1.osc_monitor, self.p2_board, UI_MONITOR)\n",
      "        \n",
      "    def draw_p2_board(self):\n",
      "        draw(self.player2, self.player2.osc_board, self.p2_board, UI_BOARD)\n",
      "        \n",
      "    def draw_p2_monitor(self):\n",
      "        draw(self.player2, self.player2.osc_monitor, self.p1_board, UI_MONITOR)"
     ],
     "language": "python",
     "metadata": {},
     "outputs": [],
     "prompt_number": 26
    },
    {
     "cell_type": "code",
     "collapsed": false,
     "input": [
      "game = Game(Player(('127.0.0.1', 5005), ('a', 'b')),\n",
      "            Player(('127.0.0.1', 5005), ('a', 'b')),\n",
      "            5, ((1,2), (2,1), (3,1), (4,1)))\n",
      "assert game.current == 'setup', game.current"
     ],
     "language": "python",
     "metadata": {},
     "outputs": [],
     "prompt_number": 27
    },
    {
     "cell_type": "code",
     "collapsed": false,
     "input": [
      "game.turn()\n",
      "assert game.current == 'p1', game.current"
     ],
     "language": "python",
     "metadata": {},
     "outputs": [],
     "prompt_number": 28
    },
    {
     "cell_type": "code",
     "collapsed": false,
     "input": [
      "game.turn()\n",
      "assert game.current == 'p2', game.current"
     ],
     "language": "python",
     "metadata": {},
     "outputs": [],
     "prompt_number": 29
    },
    {
     "cell_type": "code",
     "collapsed": false,
     "input": [
      "game.turn()\n",
      "assert game.current == 'p1', game.current"
     ],
     "language": "python",
     "metadata": {},
     "outputs": [],
     "prompt_number": 30
    },
    {
     "cell_type": "code",
     "collapsed": false,
     "input": [
      "game.stop()"
     ],
     "language": "python",
     "metadata": {},
     "outputs": [],
     "prompt_number": 31
    },
    {
     "cell_type": "code",
     "collapsed": false,
     "input": [
      "game.is_finished()"
     ],
     "language": "python",
     "metadata": {},
     "outputs": [
      {
       "metadata": {},
       "output_type": "pyout",
       "prompt_number": 32,
       "text": [
        "True"
       ]
      }
     ],
     "prompt_number": 32
    },
    {
     "cell_type": "heading",
     "level": 3,
     "metadata": {},
     "source": [
      "game manager"
     ]
    },
    {
     "cell_type": "code",
     "collapsed": false,
     "input": [
      "from pythonosc import dispatcher\n",
      "from pythonosc import osc_server"
     ],
     "language": "python",
     "metadata": {},
     "outputs": [],
     "prompt_number": 33
    },
    {
     "cell_type": "code",
     "collapsed": false,
     "input": [
      "from functools import wraps\n",
      "\n",
      "def norepeat(f, last_args=[None]):\n",
      "    @wraps(f)\n",
      "    def wrapper(*args):\n",
      "        if not args == last_args[0]:\n",
      "            last_args[0] = args\n",
      "            return f(*args)\n",
      "    return wrapper"
     ],
     "language": "python",
     "metadata": {},
     "outputs": [],
     "prompt_number": 165
    },
    {
     "cell_type": "code",
     "collapsed": false,
     "input": [
      "class GameManager:\n",
      "    p1_osc_addr =    ('thrace.local', 8000)\n",
      "    p1_osc_boards =  ('/us/draw', '/them/draw')\n",
      "    p2_osc_addr =    ('192.168.0.11', 8000)\n",
      "    p2_osc_boards =  ('/us2/state', '/them2/state')\n",
      "\n",
      "    osc_server_addr = ('0.0.0.0', 5005)\n",
      "    board_size = 5\n",
      "    ship_cfg = ((1,2), (2,1), (3,1), (4,1))\n",
      "\n",
      "    def __init__(self):\n",
      "        # connect and init players\n",
      "        self.player1 = Player(self.p1_osc_addr, self.p1_osc_boards)\n",
      "        self.player2 = Player(self.p2_osc_addr, self.p2_osc_boards)\n",
      "        \n",
      "        # ui server\n",
      "        disp = dispatcher.Dispatcher()\n",
      "        disp.map('/us/x', self.handle_player1_board)\n",
      "        disp.map('/them/x', self.handle_player1_monitor)\n",
      "        self.ui_server = osc_server.BlockingOSCUDPServer(self.osc_server_addr, disp)\n",
      "        print(\"Bind OSC server on {}\".format(self.ui_server.server_address))\n",
      "        \n",
      "        # auto start new game\n",
      "        self.new_game()\n",
      "\n",
      "    def new_game(self):\n",
      "        self.current_game = Game(self.player1, self.player2,\n",
      "                                 self.board_size, self.ship_cfg)\n",
      "\n",
      "    def start_ui_server(self):\n",
      "        print(\"Starting OSC server on {}\".format(self.ui_server.server_address))\n",
      "        try:\n",
      "            self.ui_server.serve_forever()\n",
      "        except KeyboardInterrupt:\n",
      "            self.ui_server.server_close()\n",
      "\n",
      "    def stop_ui_server(self):\n",
      "        self.ui_server.shutdown()\n",
      "        self.ui_server.server_close()\n",
      "\n",
      "    # ui server handlers\n",
      "    \n",
      "    @norepeat\n",
      "    def handle_player1_board(self, *switches):\n",
      "        # setup\n",
      "        if self.current_game.current == 'setup':\n",
      "            for i, switch in enumerate(switches):\n",
      "                tile = self.current_game.p1_board.tile_1d(i)\n",
      "                if switch:\n",
      "                    if tile.can('set'):\n",
      "                        tile.set()\n",
      "                else:\n",
      "                    if tile.can('reset'):\n",
      "                        tile.reset()\n",
      "        self.current_game.draw_p1_board()\n",
      "        print(self.current_game.p1_board)\n",
      "\n",
      "    def handle_player1_monitor(self, *switches):\n",
      "        self.current_game\n",
      "    \n",
      "    def handle_player2_play(self, *switches):\n",
      "        pass\n",
      "    \n",
      "    def handle_player2_monitor(self, *switches):\n",
      "        pass"
     ],
     "language": "python",
     "metadata": {},
     "outputs": [],
     "prompt_number": 166
    },
    {
     "cell_type": "code",
     "collapsed": false,
     "input": [
      "gm = GameManager()\n",
      "gm.start_ui_server()"
     ],
     "language": "python",
     "metadata": {},
     "outputs": [
      {
       "output_type": "stream",
       "stream": "stdout",
       "text": [
        "Bind OSC server on ('0.0.0.0', 5005)\n",
        "Starting OSC server on ('0.0.0.0', 5005)"
       ]
      },
      {
       "output_type": "stream",
       "stream": "stdout",
       "text": [
        "\n",
        "|-----------|\n",
        "| ~ ~ ~ ~ ~ |\n",
        "| ~ ~ ~ ~ ~ |\n",
        "| ~ ~ ~ ~ ~ |\n",
        "| ~ ~ ~ ~ ~ |\n",
        "| ~ ~ ~ ~ # |\n",
        "|-----------|"
       ]
      },
      {
       "output_type": "stream",
       "stream": "stdout",
       "text": [
        "\n",
        "|-----------|\n",
        "| ~ ~ ~ ~ ~ |\n",
        "| ~ ~ ~ ~ ~ |\n",
        "| ~ ~ ~ ~ ~ |\n",
        "| ~ ~ ~ ~ ~ |\n",
        "| ~ ~ ~ # # |\n",
        "|-----------|"
       ]
      },
      {
       "output_type": "stream",
       "stream": "stdout",
       "text": [
        "\n",
        "|-----------|\n",
        "| ~ ~ ~ ~ ~ |\n",
        "| ~ ~ ~ ~ ~ |\n",
        "| ~ ~ ~ ~ ~ |\n",
        "| ~ ~ ~ ~ ~ |\n",
        "| ~ ~ # # # |\n",
        "|-----------|"
       ]
      },
      {
       "output_type": "stream",
       "stream": "stdout",
       "text": [
        "\n",
        "|-----------|\n",
        "| ~ ~ ~ ~ ~ |\n",
        "| ~ ~ ~ ~ ~ |\n",
        "| ~ ~ ~ ~ ~ |\n",
        "| ~ ~ ~ ~ # |\n",
        "| ~ ~ # # # |\n",
        "|-----------|"
       ]
      },
      {
       "output_type": "stream",
       "stream": "stdout",
       "text": [
        "\n",
        "|-----------|\n",
        "| ~ ~ ~ ~ ~ |\n",
        "| ~ ~ ~ ~ ~ |\n",
        "| ~ ~ ~ ~ # |\n",
        "| ~ ~ ~ ~ # |\n",
        "| ~ ~ # # # |\n",
        "|-----------|\n",
        "|-----------|\n",
        "| ~ ~ ~ ~ ~ |\n",
        "| ~ ~ ~ ~ ~ |\n",
        "| ~ ~ ~ ~ ~ |\n",
        "| ~ ~ ~ ~ # |\n",
        "| ~ ~ # # # |\n",
        "|-----------|\n",
        "|-----------|\n",
        "| ~ ~ ~ ~ ~ |\n",
        "| ~ ~ ~ ~ ~ |\n",
        "| ~ ~ ~ ~ # |\n",
        "| ~ ~ ~ ~ # |\n",
        "| ~ ~ # # # |\n",
        "|-----------|"
       ]
      },
      {
       "output_type": "stream",
       "stream": "stdout",
       "text": [
        "\n",
        "|-----------|\n",
        "| ~ ~ ~ ~ ~ |\n",
        "| ~ ~ ~ ~ ~ |\n",
        "| ~ ~ ~ ~ ~ |\n",
        "| ~ ~ ~ ~ # |\n",
        "| ~ ~ # # # |\n",
        "|-----------|"
       ]
      },
      {
       "output_type": "stream",
       "stream": "stdout",
       "text": [
        "\n",
        "|-----------|\n",
        "| ~ ~ ~ ~ ~ |\n",
        "| ~ ~ ~ ~ ~ |\n",
        "| ~ ~ ~ ~ # |\n",
        "| ~ ~ ~ ~ # |\n",
        "| ~ ~ # # # |\n",
        "|-----------|"
       ]
      },
      {
       "output_type": "stream",
       "stream": "stdout",
       "text": [
        "\n",
        "|-----------|\n",
        "| ~ ~ ~ ~ ~ |\n",
        "| ~ ~ ~ ~ ~ |\n",
        "| ~ ~ ~ ~ ~ |\n",
        "| ~ ~ ~ ~ # |\n",
        "| ~ ~ # # # |\n",
        "|-----------|"
       ]
      },
      {
       "output_type": "stream",
       "stream": "stdout",
       "text": [
        "\n",
        "|-----------|\n",
        "| ~ ~ ~ ~ ~ |\n",
        "| ~ ~ ~ ~ ~ |\n",
        "| ~ ~ ~ ~ # |\n",
        "| ~ ~ ~ ~ # |\n",
        "| ~ ~ # # # |\n",
        "|-----------|"
       ]
      },
      {
       "output_type": "stream",
       "stream": "stdout",
       "text": [
        "\n",
        "|-----------|\n",
        "| ~ ~ ~ ~ ~ |\n",
        "| ~ ~ ~ ~ ~ |\n",
        "| ~ ~ ~ ~ ~ |\n",
        "| ~ ~ ~ ~ # |\n",
        "| ~ ~ # # # |\n",
        "|-----------|"
       ]
      },
      {
       "output_type": "stream",
       "stream": "stdout",
       "text": [
        "\n",
        "|-----------|\n",
        "| ~ ~ ~ ~ ~ |\n",
        "| ~ ~ ~ ~ ~ |\n",
        "| ~ ~ ~ ~ ~ |\n",
        "| ~ ~ ~ # # |\n",
        "| ~ ~ # # # |\n",
        "|-----------|"
       ]
      },
      {
       "output_type": "stream",
       "stream": "stdout",
       "text": [
        "\n",
        "|-----------|\n",
        "| ~ ~ ~ ~ ~ |\n",
        "| ~ ~ ~ ~ ~ |\n",
        "| ~ ~ ~ ~ # |\n",
        "| ~ ~ ~ # # |\n",
        "| ~ ~ # # # |\n",
        "|-----------|"
       ]
      },
      {
       "output_type": "stream",
       "stream": "stdout",
       "text": [
        "\n",
        "|-----------|\n",
        "| ~ ~ ~ ~ ~ |\n",
        "| ~ ~ ~ ~ ~ |\n",
        "| ~ ~ ~ ~ ~ |\n",
        "| ~ ~ ~ # # |\n",
        "| ~ ~ # # # |\n",
        "|-----------|"
       ]
      },
      {
       "output_type": "stream",
       "stream": "stdout",
       "text": [
        "\n",
        "|-----------|\n",
        "| ~ ~ ~ ~ ~ |\n",
        "| ~ ~ ~ ~ ~ |\n",
        "| ~ ~ ~ ~ ~ |\n",
        "| ~ ~ ~ # ~ |\n",
        "| ~ ~ # # # |\n",
        "|-----------|"
       ]
      },
      {
       "output_type": "stream",
       "stream": "stdout",
       "text": [
        "\n",
        "|-----------|\n",
        "| ~ ~ ~ ~ ~ |\n",
        "| ~ ~ ~ ~ ~ |\n",
        "| ~ ~ ~ ~ ~ |\n",
        "| ~ ~ ~ # ~ |\n",
        "| ~ ~ # # ~ |\n",
        "|-----------|"
       ]
      },
      {
       "output_type": "stream",
       "stream": "stdout",
       "text": [
        "\n",
        "|-----------|\n",
        "| ~ ~ ~ ~ ~ |\n",
        "| ~ ~ ~ ~ ~ |\n",
        "| ~ ~ ~ ~ ~ |\n",
        "| ~ ~ ~ # ~ |\n",
        "| ~ ~ # ~ ~ |\n",
        "|-----------|"
       ]
      },
      {
       "output_type": "stream",
       "stream": "stdout",
       "text": [
        "\n",
        "|-----------|\n",
        "| ~ ~ ~ ~ ~ |\n",
        "| ~ ~ ~ ~ ~ |\n",
        "| ~ ~ ~ ~ ~ |\n",
        "| ~ ~ ~ ~ ~ |\n",
        "| ~ ~ # ~ ~ |\n",
        "|-----------|"
       ]
      },
      {
       "output_type": "stream",
       "stream": "stdout",
       "text": [
        "\n",
        "|-----------|\n",
        "| ~ ~ ~ ~ ~ |\n",
        "| ~ ~ ~ ~ ~ |\n",
        "| ~ ~ ~ ~ ~ |\n",
        "| ~ ~ ~ ~ ~ |\n",
        "| ~ ~ ~ ~ ~ |\n",
        "|-----------|"
       ]
      },
      {
       "output_type": "stream",
       "stream": "stdout",
       "text": [
        "\n",
        "|-----------|\n",
        "| ~ ~ ~ ~ ~ |\n",
        "| ~ ~ ~ ~ ~ |\n",
        "| ~ ~ ~ ~ ~ |\n",
        "| ~ ~ ~ ~ ~ |\n",
        "| ~ ~ ~ ~ # |\n",
        "|-----------|"
       ]
      },
      {
       "output_type": "stream",
       "stream": "stdout",
       "text": [
        "\n",
        "|-----------|\n",
        "| ~ ~ ~ ~ ~ |\n",
        "| ~ ~ ~ ~ ~ |\n",
        "| ~ ~ ~ ~ ~ |\n",
        "| ~ ~ ~ ~ # |\n",
        "| ~ ~ ~ ~ # |\n",
        "|-----------|"
       ]
      },
      {
       "output_type": "stream",
       "stream": "stdout",
       "text": [
        "\n",
        "|-----------|\n",
        "| ~ ~ ~ ~ ~ |\n",
        "| ~ ~ ~ ~ ~ |\n",
        "| ~ ~ ~ ~ # |\n",
        "| ~ ~ ~ ~ # |\n",
        "| ~ ~ ~ ~ # |\n",
        "|-----------|"
       ]
      },
      {
       "output_type": "stream",
       "stream": "stdout",
       "text": [
        "\n",
        "|-----------|\n",
        "| ~ ~ ~ ~ ~ |\n",
        "| ~ ~ ~ ~ ~ |\n",
        "| ~ ~ ~ # # |\n",
        "| ~ ~ ~ ~ # |\n",
        "| ~ ~ ~ ~ # |\n",
        "|-----------|"
       ]
      },
      {
       "output_type": "stream",
       "stream": "stdout",
       "text": [
        "\n",
        "|-----------|\n",
        "| ~ ~ ~ ~ ~ |\n",
        "| ~ ~ ~ ~ ~ |\n",
        "| ~ ~ ~ # # |\n",
        "| ~ ~ ~ # # |\n",
        "| ~ ~ ~ ~ # |\n",
        "|-----------|"
       ]
      },
      {
       "output_type": "stream",
       "stream": "stdout",
       "text": [
        "\n",
        "|-----------|\n",
        "| ~ ~ ~ ~ ~ |\n",
        "| ~ ~ ~ ~ ~ |\n",
        "| ~ ~ ~ # # |\n",
        "| ~ ~ ~ # # |\n",
        "| ~ ~ ~ # # |\n",
        "|-----------|"
       ]
      },
      {
       "output_type": "stream",
       "stream": "stdout",
       "text": [
        "\n",
        "|-----------|\n",
        "| ~ ~ ~ ~ ~ |\n",
        "| ~ ~ ~ ~ ~ |\n",
        "| ~ ~ ~ # # |\n",
        "| ~ ~ ~ # # |\n",
        "| ~ ~ # # # |\n",
        "|-----------|"
       ]
      },
      {
       "output_type": "stream",
       "stream": "stdout",
       "text": [
        "\n",
        "|-----------|\n",
        "| ~ ~ ~ ~ ~ |\n",
        "| ~ ~ ~ ~ ~ |\n",
        "| ~ ~ ~ # # |\n",
        "| ~ ~ # # # |\n",
        "| ~ ~ # # # |\n",
        "|-----------|\n",
        "|-----------|\n",
        "| ~ ~ ~ ~ ~ |\n",
        "| ~ ~ ~ ~ ~ |\n",
        "| ~ ~ # # # |\n",
        "| ~ ~ # # # |\n",
        "| ~ ~ # # # |\n",
        "|-----------|"
       ]
      },
      {
       "output_type": "stream",
       "stream": "stdout",
       "text": [
        "\n",
        "|-----------|\n",
        "| ~ ~ ~ ~ ~ |\n",
        "| ~ ~ ~ ~ ~ |\n",
        "| ~ ~ # # ~ |\n",
        "| ~ ~ # # # |\n",
        "| ~ ~ # # # |\n",
        "|-----------|"
       ]
      },
      {
       "output_type": "stream",
       "stream": "stdout",
       "text": [
        "\n",
        "|-----------|\n",
        "| ~ ~ ~ ~ ~ |\n",
        "| ~ ~ ~ ~ ~ |\n",
        "| ~ ~ # ~ ~ |\n",
        "| ~ ~ # # # |\n",
        "| ~ ~ # # # |\n",
        "|-----------|"
       ]
      },
      {
       "output_type": "stream",
       "stream": "stdout",
       "text": [
        "\n",
        "|-----------|\n",
        "| ~ ~ ~ ~ ~ |\n",
        "| ~ ~ ~ ~ ~ |\n",
        "| ~ ~ ~ ~ ~ |\n",
        "| ~ ~ # # # |\n",
        "| ~ ~ # # # |\n",
        "|-----------|"
       ]
      },
      {
       "output_type": "stream",
       "stream": "stdout",
       "text": [
        "\n",
        "|-----------|\n",
        "| ~ ~ ~ ~ ~ |\n",
        "| ~ ~ ~ ~ ~ |\n",
        "| ~ ~ ~ ~ ~ |\n",
        "| ~ ~ ~ # # |\n",
        "| ~ ~ # # # |\n",
        "|-----------|\n",
        "|-----------|\n",
        "| ~ ~ ~ ~ ~ |\n",
        "| ~ ~ ~ ~ ~ |\n",
        "| ~ ~ ~ ~ ~ |\n",
        "| ~ ~ # # # |\n",
        "| ~ ~ # # # |\n",
        "|-----------|\n",
        "|-----------|\n",
        "| ~ ~ ~ ~ ~ |\n",
        "| ~ ~ ~ ~ ~ |\n",
        "| ~ ~ ~ ~ ~ |\n",
        "| ~ ~ # ~ # |\n",
        "| ~ ~ # # # |\n",
        "|-----------|"
       ]
      },
      {
       "output_type": "stream",
       "stream": "stdout",
       "text": [
        "\n",
        "|-----------|\n",
        "| ~ ~ ~ ~ ~ |\n",
        "| ~ ~ ~ ~ ~ |\n",
        "| ~ ~ ~ ~ ~ |\n",
        "| ~ ~ # ~ ~ |\n",
        "| ~ ~ # # # |\n",
        "|-----------|"
       ]
      },
      {
       "output_type": "stream",
       "stream": "stdout",
       "text": [
        "\n",
        "|-----------|\n",
        "| ~ ~ ~ ~ ~ |\n",
        "| ~ ~ ~ ~ ~ |\n",
        "| ~ ~ ~ ~ ~ |\n",
        "| ~ ~ ~ ~ ~ |\n",
        "| ~ ~ # # # |\n",
        "|-----------|"
       ]
      },
      {
       "output_type": "stream",
       "stream": "stdout",
       "text": [
        "\n",
        "|-----------|\n",
        "| ~ ~ ~ ~ ~ |\n",
        "| ~ ~ ~ ~ ~ |\n",
        "| ~ ~ ~ ~ ~ |\n",
        "| ~ ~ ~ ~ ~ |\n",
        "| ~ ~ ~ # # |\n",
        "|-----------|"
       ]
      },
      {
       "output_type": "stream",
       "stream": "stdout",
       "text": [
        "\n",
        "|-----------|\n",
        "| ~ ~ ~ ~ ~ |\n",
        "| ~ ~ ~ ~ ~ |\n",
        "| ~ ~ ~ ~ ~ |\n",
        "| ~ ~ ~ ~ ~ |\n",
        "| ~ ~ ~ ~ # |\n",
        "|-----------|"
       ]
      },
      {
       "output_type": "stream",
       "stream": "stdout",
       "text": [
        "\n",
        "|-----------|\n",
        "| ~ ~ ~ ~ ~ |\n",
        "| ~ ~ ~ ~ ~ |\n",
        "| ~ ~ ~ ~ ~ |\n",
        "| ~ ~ ~ ~ ~ |\n",
        "| ~ ~ ~ ~ ~ |\n",
        "|-----------|"
       ]
      },
      {
       "output_type": "stream",
       "stream": "stdout",
       "text": [
        "\n",
        "|-----------|\n",
        "| ~ ~ ~ ~ ~ |\n",
        "| ~ ~ ~ ~ ~ |\n",
        "| ~ ~ ~ ~ ~ |\n",
        "| ~ ~ ~ ~ ~ |\n",
        "| ~ ~ ~ ~ # |\n",
        "|-----------|"
       ]
      },
      {
       "output_type": "stream",
       "stream": "stdout",
       "text": [
        "\n",
        "|-----------|\n",
        "| ~ ~ ~ ~ ~ |\n",
        "| ~ ~ ~ ~ ~ |\n",
        "| ~ ~ ~ ~ ~ |\n",
        "| ~ ~ ~ ~ ~ |\n",
        "| ~ ~ ~ # # |\n",
        "|-----------|\n",
        "|-----------|\n",
        "| ~ ~ ~ ~ ~ |\n",
        "| ~ ~ ~ ~ ~ |\n",
        "| ~ ~ ~ ~ ~ |\n",
        "| ~ ~ ~ ~ ~ |\n",
        "| ~ ~ # # # |\n",
        "|-----------|"
       ]
      },
      {
       "output_type": "stream",
       "stream": "stdout",
       "text": [
        "\n",
        "|-----------|\n",
        "| ~ ~ ~ ~ ~ |\n",
        "| ~ ~ ~ ~ ~ |\n",
        "| ~ ~ ~ ~ ~ |\n",
        "| ~ ~ ~ ~ ~ |\n",
        "| ~ # # # # |\n",
        "|-----------|"
       ]
      },
      {
       "output_type": "stream",
       "stream": "stdout",
       "text": [
        "\n",
        "|-----------|\n",
        "| ~ ~ ~ ~ ~ |\n",
        "| ~ ~ ~ ~ ~ |\n",
        "| ~ ~ ~ ~ ~ |\n",
        "| ~ ~ ~ ~ ~ |\n",
        "| # # # # # |\n",
        "|-----------|"
       ]
      },
      {
       "output_type": "stream",
       "stream": "stdout",
       "text": [
        "\n",
        "|-----------|\n",
        "| ~ ~ ~ ~ ~ |\n",
        "| ~ ~ ~ ~ ~ |\n",
        "| ~ ~ ~ ~ ~ |\n",
        "| ~ ~ ~ ~ ~ |\n",
        "| ~ # # # # |\n",
        "|-----------|"
       ]
      },
      {
       "output_type": "stream",
       "stream": "stdout",
       "text": [
        "\n",
        "|-----------|\n",
        "| ~ ~ ~ ~ ~ |\n",
        "| ~ ~ ~ ~ ~ |\n",
        "| ~ ~ ~ ~ ~ |\n",
        "| ~ ~ ~ ~ ~ |\n",
        "| ~ ~ # # # |\n",
        "|-----------|"
       ]
      },
      {
       "output_type": "stream",
       "stream": "stdout",
       "text": [
        "\n",
        "|-----------|\n",
        "| ~ ~ ~ ~ ~ |\n",
        "| ~ ~ ~ ~ ~ |\n",
        "| ~ ~ ~ ~ ~ |\n",
        "| ~ ~ ~ ~ ~ |\n",
        "| ~ ~ ~ # # |\n",
        "|-----------|"
       ]
      },
      {
       "output_type": "stream",
       "stream": "stdout",
       "text": [
        "\n",
        "|-----------|\n",
        "| ~ ~ ~ ~ ~ |\n",
        "| ~ ~ ~ ~ ~ |\n",
        "| ~ ~ ~ ~ ~ |\n",
        "| ~ ~ ~ ~ ~ |\n",
        "| ~ ~ # # # |\n",
        "|-----------|"
       ]
      },
      {
       "output_type": "stream",
       "stream": "stdout",
       "text": [
        "\n",
        "|-----------|\n",
        "| ~ ~ ~ ~ ~ |\n",
        "| ~ ~ ~ ~ ~ |\n",
        "| ~ ~ ~ ~ ~ |\n",
        "| ~ ~ ~ ~ ~ |\n",
        "| ~ ~ # ~ # |\n",
        "|-----------|"
       ]
      },
      {
       "output_type": "stream",
       "stream": "stdout",
       "text": [
        "\n",
        "|-----------|\n",
        "| ~ ~ ~ ~ ~ |\n",
        "| ~ ~ ~ ~ ~ |\n",
        "| ~ ~ ~ ~ ~ |\n",
        "| ~ ~ ~ ~ ~ |\n",
        "| ~ ~ # ~ ~ |\n",
        "|-----------|"
       ]
      },
      {
       "output_type": "stream",
       "stream": "stdout",
       "text": [
        "\n",
        "|-----------|\n",
        "| ~ ~ ~ ~ ~ |\n",
        "| ~ ~ ~ ~ ~ |\n",
        "| ~ ~ ~ ~ ~ |\n",
        "| ~ ~ ~ ~ ~ |\n",
        "| ~ ~ ~ ~ ~ |\n",
        "|-----------|"
       ]
      },
      {
       "output_type": "stream",
       "stream": "stdout",
       "text": [
        "\n",
        "|-----------|\n",
        "| ~ ~ ~ ~ ~ |\n",
        "| ~ ~ ~ ~ ~ |\n",
        "| ~ ~ ~ ~ ~ |\n",
        "| ~ ~ ~ ~ # |\n",
        "| ~ ~ ~ ~ ~ |\n",
        "|-----------|"
       ]
      },
      {
       "output_type": "stream",
       "stream": "stdout",
       "text": [
        "\n",
        "|-----------|\n",
        "| ~ ~ ~ ~ ~ |\n",
        "| ~ ~ ~ ~ ~ |\n",
        "| ~ ~ ~ ~ ~ |\n",
        "| ~ ~ ~ # # |\n",
        "| ~ ~ ~ ~ ~ |\n",
        "|-----------|"
       ]
      },
      {
       "output_type": "stream",
       "stream": "stdout",
       "text": [
        "\n",
        "|-----------|\n",
        "| ~ ~ ~ ~ ~ |\n",
        "| ~ ~ ~ ~ ~ |\n",
        "| ~ ~ ~ ~ ~ |\n",
        "| ~ ~ # # # |\n",
        "| ~ ~ ~ ~ ~ |\n",
        "|-----------|"
       ]
      },
      {
       "output_type": "stream",
       "stream": "stdout",
       "text": [
        "\n",
        "|-----------|\n",
        "| ~ ~ ~ ~ ~ |\n",
        "| ~ ~ ~ ~ ~ |\n",
        "| ~ ~ ~ ~ ~ |\n",
        "| ~ # # # # |\n",
        "| ~ ~ ~ ~ ~ |\n",
        "|-----------|"
       ]
      },
      {
       "output_type": "stream",
       "stream": "stdout",
       "text": [
        "\n",
        "|-----------|\n",
        "| ~ ~ ~ ~ ~ |\n",
        "| ~ ~ ~ ~ ~ |\n",
        "| ~ ~ ~ ~ ~ |\n",
        "| # # # # # |\n",
        "| ~ ~ ~ ~ ~ |\n",
        "|-----------|"
       ]
      },
      {
       "output_type": "stream",
       "stream": "stdout",
       "text": [
        "\n",
        "|-----------|\n",
        "| ~ ~ ~ ~ ~ |\n",
        "| ~ ~ ~ ~ ~ |\n",
        "| ~ ~ ~ ~ ~ |\n",
        "| ~ # # # # |\n",
        "| ~ ~ ~ ~ ~ |\n",
        "|-----------|"
       ]
      },
      {
       "output_type": "stream",
       "stream": "stdout",
       "text": [
        "\n",
        "|-----------|\n",
        "| ~ ~ ~ ~ ~ |\n",
        "| ~ ~ ~ ~ ~ |\n",
        "| ~ ~ ~ ~ ~ |\n",
        "| ~ ~ # # # |\n",
        "| ~ ~ ~ ~ ~ |\n",
        "|-----------|"
       ]
      },
      {
       "output_type": "stream",
       "stream": "stdout",
       "text": [
        "\n",
        "|-----------|\n",
        "| ~ ~ ~ ~ ~ |\n",
        "| ~ ~ ~ ~ ~ |\n",
        "| ~ ~ ~ ~ ~ |\n",
        "| ~ # # # # |\n",
        "| ~ ~ ~ ~ ~ |\n",
        "|-----------|"
       ]
      },
      {
       "output_type": "stream",
       "stream": "stdout",
       "text": [
        "\n",
        "|-----------|\n",
        "| ~ ~ ~ ~ ~ |\n",
        "| ~ ~ ~ ~ ~ |\n",
        "| ~ ~ ~ ~ ~ |\n",
        "| ~ # ~ # # |\n",
        "| ~ ~ ~ ~ ~ |\n",
        "|-----------|"
       ]
      },
      {
       "output_type": "stream",
       "stream": "stdout",
       "text": [
        "\n",
        "|-----------|\n",
        "| ~ ~ ~ ~ ~ |\n",
        "| ~ ~ ~ ~ ~ |\n",
        "| ~ ~ ~ ~ ~ |\n",
        "| ~ # ~ ~ # |\n",
        "| ~ ~ ~ ~ ~ |\n",
        "|-----------|"
       ]
      },
      {
       "output_type": "stream",
       "stream": "stdout",
       "text": [
        "\n",
        "|-----------|\n",
        "| ~ ~ ~ ~ ~ |\n",
        "| ~ ~ ~ ~ ~ |\n",
        "| ~ ~ ~ ~ ~ |\n",
        "| ~ # ~ ~ ~ |\n",
        "| ~ ~ ~ ~ ~ |\n",
        "|-----------|"
       ]
      },
      {
       "output_type": "stream",
       "stream": "stdout",
       "text": [
        "\n",
        "|-----------|\n",
        "| ~ ~ ~ ~ ~ |\n",
        "| ~ ~ ~ ~ ~ |\n",
        "| ~ ~ ~ ~ ~ |\n",
        "| ~ ~ ~ ~ ~ |\n",
        "| ~ ~ ~ ~ ~ |\n",
        "|-----------|"
       ]
      },
      {
       "output_type": "stream",
       "stream": "stdout",
       "text": [
        "\n",
        "|-----------|\n",
        "| ~ ~ ~ ~ ~ |\n",
        "| ~ ~ ~ ~ ~ |\n",
        "| ~ ~ ~ ~ ~ |\n",
        "| ~ ~ ~ ~ ~ |\n",
        "| ~ # ~ ~ ~ |\n",
        "|-----------|"
       ]
      },
      {
       "output_type": "stream",
       "stream": "stdout",
       "text": [
        "\n",
        "|-----------|\n",
        "| ~ ~ ~ ~ ~ |\n",
        "| ~ ~ ~ ~ ~ |\n",
        "| ~ ~ ~ ~ ~ |\n",
        "| ~ ~ ~ ~ ~ |\n",
        "| ~ # # ~ ~ |\n",
        "|-----------|"
       ]
      },
      {
       "output_type": "stream",
       "stream": "stdout",
       "text": [
        "\n",
        "|-----------|\n",
        "| ~ ~ ~ ~ ~ |\n",
        "| ~ ~ ~ ~ ~ |\n",
        "| ~ ~ ~ ~ ~ |\n",
        "| ~ ~ ~ ~ ~ |\n",
        "| ~ # # # ~ |\n",
        "|-----------|"
       ]
      },
      {
       "output_type": "stream",
       "stream": "stdout",
       "text": [
        "\n",
        "|-----------|\n",
        "| ~ ~ ~ ~ ~ |\n",
        "| ~ ~ ~ ~ ~ |\n",
        "| ~ ~ ~ ~ ~ |\n",
        "| ~ ~ ~ ~ ~ |\n",
        "| ~ # # # # |\n",
        "|-----------|"
       ]
      },
      {
       "output_type": "stream",
       "stream": "stdout",
       "text": [
        "\n",
        "|-----------|\n",
        "| ~ ~ ~ ~ ~ |\n",
        "| ~ ~ ~ ~ ~ |\n",
        "| ~ ~ ~ ~ ~ |\n",
        "| ~ ~ ~ ~ ~ |\n",
        "| ~ # # # ~ |\n",
        "|-----------|"
       ]
      },
      {
       "output_type": "stream",
       "stream": "stdout",
       "text": [
        "\n",
        "|-----------|\n",
        "| ~ ~ ~ ~ ~ |\n",
        "| ~ ~ ~ ~ ~ |\n",
        "| ~ ~ ~ ~ ~ |\n",
        "| ~ ~ ~ ~ ~ |\n",
        "| ~ # # ~ ~ |\n",
        "|-----------|"
       ]
      },
      {
       "output_type": "stream",
       "stream": "stdout",
       "text": [
        "\n",
        "|-----------|\n",
        "| ~ ~ ~ ~ ~ |\n",
        "| ~ ~ ~ ~ ~ |\n",
        "| ~ ~ ~ ~ ~ |\n",
        "| ~ ~ ~ ~ ~ |\n",
        "| ~ # ~ ~ ~ |\n",
        "|-----------|"
       ]
      },
      {
       "output_type": "stream",
       "stream": "stdout",
       "text": [
        "\n",
        "|-----------|\n",
        "| ~ ~ ~ ~ ~ |\n",
        "| ~ ~ ~ ~ ~ |\n",
        "| ~ ~ ~ ~ ~ |\n",
        "| ~ ~ ~ ~ ~ |\n",
        "| ~ # # ~ ~ |\n",
        "|-----------|"
       ]
      },
      {
       "output_type": "stream",
       "stream": "stdout",
       "text": [
        "\n",
        "|-----------|\n",
        "| ~ ~ ~ ~ ~ |\n",
        "| ~ ~ ~ ~ ~ |\n",
        "| ~ ~ ~ ~ ~ |\n",
        "| ~ ~ ~ ~ ~ |\n",
        "| ~ ~ # ~ ~ |\n",
        "|-----------|"
       ]
      },
      {
       "output_type": "stream",
       "stream": "stdout",
       "text": [
        "\n",
        "|-----------|\n",
        "| ~ ~ ~ ~ ~ |\n",
        "| ~ ~ ~ ~ ~ |\n",
        "| ~ ~ ~ ~ ~ |\n",
        "| ~ ~ ~ ~ ~ |\n",
        "| ~ ~ ~ ~ ~ |\n",
        "|-----------|"
       ]
      },
      {
       "output_type": "stream",
       "stream": "stdout",
       "text": [
        "\n",
        "|-----------|\n",
        "| ~ ~ ~ ~ ~ |\n",
        "| ~ ~ ~ ~ ~ |\n",
        "| ~ ~ ~ ~ ~ |\n",
        "| ~ ~ ~ ~ ~ |\n",
        "| ~ # ~ ~ ~ |\n",
        "|-----------|"
       ]
      },
      {
       "output_type": "stream",
       "stream": "stdout",
       "text": [
        "\n",
        "|-----------|\n",
        "| ~ ~ ~ ~ ~ |\n",
        "| ~ ~ ~ ~ ~ |\n",
        "| ~ ~ ~ ~ ~ |\n",
        "| ~ ~ ~ ~ ~ |\n",
        "| ~ # # ~ ~ |\n",
        "|-----------|"
       ]
      },
      {
       "output_type": "stream",
       "stream": "stdout",
       "text": [
        "\n",
        "|-----------|\n",
        "| ~ ~ ~ ~ ~ |\n",
        "| ~ ~ ~ ~ ~ |\n",
        "| ~ ~ ~ ~ ~ |\n",
        "| ~ ~ ~ ~ ~ |\n",
        "| ~ # # # ~ |\n",
        "|-----------|"
       ]
      },
      {
       "output_type": "stream",
       "stream": "stdout",
       "text": [
        "\n",
        "|-----------|\n",
        "| ~ ~ ~ ~ ~ |\n",
        "| ~ ~ ~ ~ ~ |\n",
        "| ~ ~ ~ ~ ~ |\n",
        "| ~ ~ ~ ~ ~ |\n",
        "| ~ # # ~ ~ |\n",
        "|-----------|"
       ]
      },
      {
       "output_type": "stream",
       "stream": "stdout",
       "text": [
        "\n",
        "|-----------|\n",
        "| ~ ~ ~ ~ ~ |\n",
        "| ~ ~ ~ ~ ~ |\n",
        "| ~ ~ ~ ~ ~ |\n",
        "| ~ ~ ~ ~ ~ |\n",
        "| ~ # # ~ # |\n",
        "|-----------|"
       ]
      },
      {
       "output_type": "stream",
       "stream": "stdout",
       "text": [
        "\n",
        "|-----------|\n",
        "| ~ ~ ~ ~ ~ |\n",
        "| ~ ~ ~ ~ ~ |\n",
        "| ~ ~ ~ ~ ~ |\n",
        "| ~ ~ ~ ~ ~ |\n",
        "| ~ # # # # |\n",
        "|-----------|\n",
        "|-----------|\n",
        "| ~ ~ ~ ~ ~ |\n",
        "| ~ ~ ~ ~ ~ |\n",
        "| ~ ~ ~ ~ ~ |\n",
        "| ~ ~ ~ ~ ~ |\n",
        "| ~ # # ~ # |\n",
        "|-----------|"
       ]
      },
      {
       "output_type": "stream",
       "stream": "stdout",
       "text": [
        "\n",
        "|-----------|\n",
        "| ~ ~ ~ ~ ~ |\n",
        "| ~ ~ ~ ~ ~ |\n",
        "| ~ ~ ~ ~ ~ |\n",
        "| ~ ~ ~ ~ ~ |\n",
        "| ~ # # ~ ~ |\n",
        "|-----------|"
       ]
      },
      {
       "output_type": "stream",
       "stream": "stdout",
       "text": [
        "\n",
        "|-----------|\n",
        "| ~ ~ ~ ~ ~ |\n",
        "| ~ ~ ~ ~ ~ |\n",
        "| ~ ~ ~ ~ ~ |\n",
        "| ~ ~ ~ ~ ~ |\n",
        "| ~ # # # ~ |\n",
        "|-----------|"
       ]
      },
      {
       "output_type": "stream",
       "stream": "stdout",
       "text": [
        "\n",
        "|-----------|\n",
        "| ~ ~ ~ ~ ~ |\n",
        "| ~ ~ ~ ~ ~ |\n",
        "| ~ ~ ~ ~ ~ |\n",
        "| ~ ~ ~ ~ ~ |\n",
        "| ~ # # # # |\n",
        "|-----------|"
       ]
      },
      {
       "output_type": "stream",
       "stream": "stdout",
       "text": [
        "\n",
        "|-----------|\n",
        "| ~ ~ ~ ~ ~ |\n",
        "| ~ ~ ~ ~ ~ |\n",
        "| ~ ~ ~ ~ ~ |\n",
        "| ~ ~ ~ ~ ~ |\n",
        "| ~ # # # ~ |\n",
        "|-----------|"
       ]
      },
      {
       "output_type": "stream",
       "stream": "stdout",
       "text": [
        "\n",
        "|-----------|\n",
        "| ~ ~ ~ ~ ~ |\n",
        "| ~ ~ ~ ~ ~ |\n",
        "| ~ ~ ~ ~ ~ |\n",
        "| ~ ~ ~ ~ ~ |\n",
        "| ~ # # # # |\n",
        "|-----------|"
       ]
      },
      {
       "output_type": "stream",
       "stream": "stdout",
       "text": [
        "\n",
        "|-----------|\n",
        "| ~ ~ ~ ~ ~ |\n",
        "| ~ ~ ~ ~ ~ |\n",
        "| ~ ~ ~ ~ ~ |\n",
        "| ~ ~ ~ ~ ~ |\n",
        "| ~ # # # ~ |\n",
        "|-----------|"
       ]
      },
      {
       "output_type": "stream",
       "stream": "stdout",
       "text": [
        "\n",
        "|-----------|\n",
        "| ~ ~ ~ ~ ~ |\n",
        "| ~ ~ ~ ~ ~ |\n",
        "| ~ ~ ~ ~ ~ |\n",
        "| ~ ~ ~ ~ ~ |\n",
        "| ~ # # ~ ~ |\n",
        "|-----------|"
       ]
      },
      {
       "output_type": "stream",
       "stream": "stdout",
       "text": [
        "\n",
        "|-----------|\n",
        "| ~ ~ ~ ~ ~ |\n",
        "| ~ ~ ~ ~ ~ |\n",
        "| ~ ~ ~ ~ ~ |\n",
        "| ~ ~ ~ ~ ~ |\n",
        "| ~ # ~ ~ ~ |\n",
        "|-----------|"
       ]
      },
      {
       "output_type": "stream",
       "stream": "stdout",
       "text": [
        "\n",
        "|-----------|\n",
        "| ~ ~ ~ ~ ~ |\n",
        "| ~ ~ ~ ~ ~ |\n",
        "| ~ ~ ~ ~ ~ |\n",
        "| ~ ~ ~ ~ ~ |\n",
        "| ~ ~ ~ ~ ~ |\n",
        "|-----------|"
       ]
      },
      {
       "output_type": "stream",
       "stream": "stdout",
       "text": [
        "\n",
        "|-----------|\n",
        "| ~ ~ ~ ~ ~ |\n",
        "| ~ ~ ~ ~ ~ |\n",
        "| ~ ~ ~ ~ ~ |\n",
        "| ~ ~ ~ ~ ~ |\n",
        "| ~ ~ # ~ ~ |\n",
        "|-----------|"
       ]
      },
      {
       "output_type": "stream",
       "stream": "stdout",
       "text": [
        "\n",
        "|-----------|\n",
        "| ~ ~ ~ ~ ~ |\n",
        "| ~ ~ ~ ~ ~ |\n",
        "| ~ ~ ~ ~ ~ |\n",
        "| ~ ~ ~ ~ ~ |\n",
        "| ~ ~ # # ~ |\n",
        "|-----------|"
       ]
      },
      {
       "output_type": "stream",
       "stream": "stdout",
       "text": [
        "\n",
        "|-----------|\n",
        "| ~ ~ ~ ~ ~ |\n",
        "| ~ ~ ~ ~ ~ |\n",
        "| ~ ~ ~ ~ ~ |\n",
        "| ~ ~ ~ ~ ~ |\n",
        "| ~ ~ # # # |\n",
        "|-----------|"
       ]
      },
      {
       "output_type": "stream",
       "stream": "stdout",
       "text": [
        "\n",
        "|-----------|\n",
        "| ~ ~ ~ ~ ~ |\n",
        "| ~ ~ ~ ~ ~ |\n",
        "| ~ ~ ~ ~ ~ |\n",
        "| ~ ~ ~ ~ ~ |\n",
        "| ~ ~ ~ # # |\n",
        "|-----------|"
       ]
      },
      {
       "output_type": "stream",
       "stream": "stdout",
       "text": [
        "\n",
        "|-----------|\n",
        "| ~ ~ ~ ~ ~ |\n",
        "| ~ ~ ~ ~ ~ |\n",
        "| ~ ~ ~ ~ ~ |\n",
        "| ~ ~ ~ ~ ~ |\n",
        "| ~ ~ ~ ~ # |\n",
        "|-----------|"
       ]
      },
      {
       "output_type": "stream",
       "stream": "stdout",
       "text": [
        "\n",
        "|-----------|\n",
        "| ~ ~ ~ ~ ~ |\n",
        "| ~ ~ ~ ~ ~ |\n",
        "| ~ ~ ~ ~ ~ |\n",
        "| ~ ~ ~ ~ ~ |\n",
        "| ~ ~ ~ ~ ~ |\n",
        "|-----------|"
       ]
      },
      {
       "output_type": "stream",
       "stream": "stdout",
       "text": [
        "\n",
        "|-----------|\n",
        "| ~ ~ ~ ~ ~ |\n",
        "| ~ ~ ~ ~ ~ |\n",
        "| ~ ~ ~ ~ ~ |\n",
        "| ~ ~ ~ ~ ~ |\n",
        "| ~ ~ ~ ~ # |\n",
        "|-----------|"
       ]
      },
      {
       "output_type": "stream",
       "stream": "stdout",
       "text": [
        "\n",
        "|-----------|\n",
        "| ~ ~ ~ ~ ~ |\n",
        "| ~ ~ ~ ~ ~ |\n",
        "| ~ ~ ~ ~ ~ |\n",
        "| ~ ~ ~ ~ ~ |\n",
        "| ~ ~ ~ # # |\n",
        "|-----------|"
       ]
      },
      {
       "output_type": "stream",
       "stream": "stdout",
       "text": [
        "\n",
        "|-----------|\n",
        "| ~ ~ ~ ~ ~ |\n",
        "| ~ ~ ~ ~ ~ |\n",
        "| ~ ~ ~ ~ ~ |\n",
        "| ~ ~ ~ ~ ~ |\n",
        "| ~ ~ # # # |\n",
        "|-----------|"
       ]
      },
      {
       "output_type": "stream",
       "stream": "stdout",
       "text": [
        "\n",
        "|-----------|\n",
        "| ~ ~ ~ ~ ~ |\n",
        "| ~ ~ ~ ~ ~ |\n",
        "| ~ ~ ~ ~ ~ |\n",
        "| ~ ~ ~ ~ ~ |\n",
        "| ~ ~ ~ # # |\n",
        "|-----------|"
       ]
      },
      {
       "output_type": "stream",
       "stream": "stdout",
       "text": [
        "\n",
        "|-----------|\n",
        "| ~ ~ ~ ~ ~ |\n",
        "| ~ ~ ~ ~ ~ |\n",
        "| ~ ~ ~ ~ ~ |\n",
        "| ~ ~ ~ ~ ~ |\n",
        "| ~ ~ ~ ~ # |\n",
        "|-----------|"
       ]
      },
      {
       "output_type": "stream",
       "stream": "stdout",
       "text": [
        "\n",
        "|-----------|\n",
        "| ~ ~ ~ ~ ~ |\n",
        "| ~ ~ ~ ~ ~ |\n",
        "| ~ ~ ~ ~ ~ |\n",
        "| ~ ~ ~ ~ ~ |\n",
        "| ~ ~ ~ ~ ~ |\n",
        "|-----------|"
       ]
      },
      {
       "output_type": "stream",
       "stream": "stdout",
       "text": [
        "\n",
        "|-----------|\n",
        "| ~ ~ ~ ~ ~ |\n",
        "| ~ ~ ~ ~ ~ |\n",
        "| ~ ~ ~ ~ ~ |\n",
        "| ~ ~ ~ ~ ~ |\n",
        "| # ~ ~ ~ ~ |\n",
        "|-----------|"
       ]
      },
      {
       "output_type": "stream",
       "stream": "stdout",
       "text": [
        "\n",
        "|-----------|\n",
        "| ~ ~ ~ ~ ~ |\n",
        "| ~ ~ ~ ~ ~ |\n",
        "| ~ ~ ~ ~ ~ |\n",
        "| ~ ~ ~ ~ ~ |\n",
        "| # # ~ ~ ~ |\n",
        "|-----------|\n",
        "|-----------|\n",
        "| ~ ~ ~ ~ ~ |\n",
        "| ~ ~ ~ ~ ~ |\n",
        "| ~ ~ ~ ~ ~ |\n",
        "| ~ ~ ~ ~ ~ |\n",
        "| # # # ~ ~ |\n",
        "|-----------|"
       ]
      },
      {
       "output_type": "stream",
       "stream": "stdout",
       "text": [
        "\n",
        "|-----------|\n",
        "| ~ ~ ~ ~ ~ |\n",
        "| ~ ~ ~ ~ ~ |\n",
        "| ~ ~ ~ ~ ~ |\n",
        "| ~ ~ ~ ~ ~ |\n",
        "| # # # # ~ |\n",
        "|-----------|"
       ]
      },
      {
       "output_type": "stream",
       "stream": "stdout",
       "text": [
        "\n",
        "|-----------|\n",
        "| ~ ~ ~ ~ ~ |\n",
        "| ~ ~ ~ ~ ~ |\n",
        "| ~ ~ ~ ~ ~ |\n",
        "| ~ ~ ~ ~ ~ |\n",
        "| # # # ~ ~ |\n",
        "|-----------|"
       ]
      },
      {
       "output_type": "stream",
       "stream": "stdout",
       "text": [
        "\n",
        "|-----------|\n",
        "| ~ ~ ~ ~ ~ |\n",
        "| ~ ~ ~ ~ ~ |\n",
        "| ~ ~ ~ ~ ~ |\n",
        "| ~ ~ ~ ~ ~ |\n",
        "| # # # ~ # |\n",
        "|-----------|"
       ]
      },
      {
       "output_type": "stream",
       "stream": "stdout",
       "text": [
        "\n",
        "|-----------|\n",
        "| ~ ~ ~ ~ ~ |\n",
        "| ~ ~ ~ ~ ~ |\n",
        "| ~ ~ ~ ~ ~ |\n",
        "| ~ ~ ~ ~ ~ |\n",
        "| # # # # # |\n",
        "|-----------|"
       ]
      },
      {
       "output_type": "stream",
       "stream": "stdout",
       "text": [
        "\n",
        "|-----------|\n",
        "| ~ ~ ~ ~ ~ |\n",
        "| ~ ~ ~ ~ ~ |\n",
        "| ~ ~ ~ ~ ~ |\n",
        "| ~ ~ ~ ~ ~ |\n",
        "| ~ # # # # |\n",
        "|-----------|"
       ]
      },
      {
       "output_type": "stream",
       "stream": "stdout",
       "text": [
        "\n",
        "|-----------|\n",
        "| ~ ~ ~ ~ ~ |\n",
        "| ~ ~ ~ ~ ~ |\n",
        "| ~ ~ ~ ~ ~ |\n",
        "| ~ ~ ~ ~ ~ |\n",
        "| ~ ~ # # # |\n",
        "|-----------|\n",
        "|-----------|\n",
        "| ~ ~ ~ ~ ~ |\n",
        "| ~ ~ ~ ~ ~ |\n",
        "| ~ ~ ~ ~ ~ |\n",
        "| ~ ~ ~ ~ ~ |\n",
        "| ~ ~ ~ # # |\n",
        "|-----------|"
       ]
      },
      {
       "output_type": "stream",
       "stream": "stdout",
       "text": [
        "\n",
        "|-----------|\n",
        "| ~ ~ ~ ~ ~ |\n",
        "| ~ ~ ~ ~ ~ |\n",
        "| ~ ~ ~ ~ ~ |\n",
        "| ~ ~ ~ ~ ~ |\n",
        "| ~ ~ ~ ~ # |\n",
        "|-----------|"
       ]
      },
      {
       "output_type": "stream",
       "stream": "stdout",
       "text": [
        "\n",
        "|-----------|\n",
        "| ~ ~ ~ ~ ~ |\n",
        "| ~ ~ ~ ~ ~ |\n",
        "| ~ ~ ~ ~ ~ |\n",
        "| ~ ~ ~ ~ ~ |\n",
        "| ~ ~ ~ ~ ~ |\n",
        "|-----------|"
       ]
      },
      {
       "output_type": "stream",
       "stream": "stdout",
       "text": [
        "\n",
        "|-----------|\n",
        "| ~ ~ ~ ~ ~ |\n",
        "| ~ ~ ~ ~ ~ |\n",
        "| ~ ~ ~ ~ ~ |\n",
        "| ~ ~ ~ ~ ~ |\n",
        "| ~ ~ ~ ~ # |\n",
        "|-----------|"
       ]
      },
      {
       "output_type": "stream",
       "stream": "stdout",
       "text": [
        "\n",
        "|-----------|\n",
        "| ~ ~ ~ ~ ~ |\n",
        "| ~ ~ ~ ~ ~ |\n",
        "| ~ ~ ~ ~ ~ |\n",
        "| ~ ~ ~ ~ # |\n",
        "| ~ ~ ~ ~ # |\n",
        "|-----------|\n",
        "|-----------|\n",
        "| ~ ~ ~ ~ ~ |\n",
        "| ~ ~ ~ ~ ~ |\n",
        "| ~ ~ ~ ~ ~ |\n",
        "| ~ ~ ~ ~ ~ |\n",
        "| ~ ~ ~ ~ # |\n",
        "|-----------|\n",
        "|-----------|\n",
        "| ~ ~ ~ ~ ~ |\n",
        "| ~ ~ ~ ~ ~ |\n",
        "| ~ ~ ~ ~ ~ |\n",
        "| ~ ~ ~ # ~ |\n",
        "| ~ ~ ~ ~ # |\n",
        "|-----------|"
       ]
      },
      {
       "output_type": "stream",
       "stream": "stdout",
       "text": [
        "\n",
        "|-----------|\n",
        "| ~ ~ ~ ~ ~ |\n",
        "| ~ ~ ~ ~ ~ |\n",
        "| ~ ~ ~ ~ ~ |\n",
        "| ~ ~ ~ # ~ |\n",
        "| ~ ~ ~ # # |\n",
        "|-----------|"
       ]
      },
      {
       "output_type": "stream",
       "stream": "stdout",
       "text": [
        "\n",
        "|-----------|\n",
        "| ~ ~ ~ ~ ~ |\n",
        "| ~ ~ ~ ~ ~ |\n",
        "| ~ ~ ~ ~ ~ |\n",
        "| ~ ~ ~ # # |\n",
        "| ~ ~ ~ # # |\n",
        "|-----------|"
       ]
      },
      {
       "output_type": "stream",
       "stream": "stdout",
       "text": [
        "\n",
        "|-----------|\n",
        "| ~ ~ ~ ~ ~ |\n",
        "| ~ ~ ~ ~ ~ |\n",
        "| ~ ~ ~ ~ ~ |\n",
        "| ~ ~ ~ # # |\n",
        "| ~ ~ ~ # ~ |\n",
        "|-----------|"
       ]
      },
      {
       "output_type": "stream",
       "stream": "stdout",
       "text": [
        "\n",
        "|-----------|\n",
        "| ~ ~ ~ ~ ~ |\n",
        "| ~ ~ ~ ~ ~ |\n",
        "| ~ ~ ~ ~ ~ |\n",
        "| ~ ~ ~ # ~ |\n",
        "| ~ ~ ~ # ~ |\n",
        "|-----------|"
       ]
      },
      {
       "output_type": "stream",
       "stream": "stdout",
       "text": [
        "\n",
        "|-----------|\n",
        "| ~ ~ ~ ~ ~ |\n",
        "| ~ ~ ~ ~ ~ |\n",
        "| ~ ~ ~ ~ ~ |\n",
        "| ~ ~ ~ ~ ~ |\n",
        "| ~ ~ ~ # ~ |\n",
        "|-----------|"
       ]
      },
      {
       "output_type": "stream",
       "stream": "stdout",
       "text": [
        "\n",
        "|-----------|\n",
        "| ~ ~ ~ ~ ~ |\n",
        "| ~ ~ ~ ~ ~ |\n",
        "| ~ ~ ~ ~ ~ |\n",
        "| ~ ~ ~ # ~ |\n",
        "| ~ ~ ~ # ~ |\n",
        "|-----------|"
       ]
      },
      {
       "output_type": "stream",
       "stream": "stdout",
       "text": [
        "\n",
        "|-----------|\n",
        "| ~ ~ ~ ~ ~ |\n",
        "| ~ ~ ~ ~ ~ |\n",
        "| ~ ~ ~ ~ ~ |\n",
        "| ~ ~ ~ ~ ~ |\n",
        "| ~ ~ ~ # ~ |\n",
        "|-----------|"
       ]
      },
      {
       "output_type": "stream",
       "stream": "stdout",
       "text": [
        "\n",
        "|-----------|\n",
        "| ~ ~ ~ ~ ~ |\n",
        "| ~ ~ ~ ~ ~ |\n",
        "| ~ ~ ~ ~ ~ |\n",
        "| ~ ~ ~ ~ ~ |\n",
        "| ~ ~ ~ ~ ~ |\n",
        "|-----------|"
       ]
      },
      {
       "output_type": "stream",
       "stream": "stdout",
       "text": [
        "\n",
        "|-----------|\n",
        "| ~ ~ ~ ~ ~ |\n",
        "| ~ ~ ~ ~ ~ |\n",
        "| ~ ~ ~ ~ ~ |\n",
        "| ~ ~ ~ ~ # |\n",
        "| ~ ~ ~ ~ ~ |\n",
        "|-----------|"
       ]
      },
      {
       "output_type": "stream",
       "stream": "stdout",
       "text": [
        "\n",
        "|-----------|\n",
        "| ~ ~ ~ ~ ~ |\n",
        "| ~ ~ ~ ~ ~ |\n",
        "| ~ ~ ~ ~ ~ |\n",
        "| ~ ~ ~ ~ # |\n",
        "| ~ ~ ~ ~ # |\n",
        "|-----------|"
       ]
      },
      {
       "output_type": "stream",
       "stream": "stdout",
       "text": [
        "\n",
        "|-----------|\n",
        "| ~ ~ ~ ~ ~ |\n",
        "| ~ ~ ~ ~ ~ |\n",
        "| ~ ~ ~ ~ ~ |\n",
        "| ~ ~ ~ ~ ~ |\n",
        "| ~ ~ ~ ~ # |\n",
        "|-----------|"
       ]
      },
      {
       "output_type": "stream",
       "stream": "stdout",
       "text": [
        "\n",
        "|-----------|\n",
        "| ~ ~ ~ ~ ~ |\n",
        "| ~ ~ ~ ~ ~ |\n",
        "| ~ ~ ~ ~ ~ |\n",
        "| ~ ~ ~ ~ ~ |\n",
        "| ~ ~ ~ ~ ~ |\n",
        "|-----------|"
       ]
      },
      {
       "output_type": "stream",
       "stream": "stdout",
       "text": [
        "\n",
        "|-----------|\n",
        "| ~ ~ ~ ~ ~ |\n",
        "| ~ ~ ~ ~ ~ |\n",
        "| ~ ~ ~ ~ ~ |\n",
        "| ~ ~ ~ ~ ~ |\n",
        "| ~ ~ ~ ~ # |\n",
        "|-----------|"
       ]
      },
      {
       "output_type": "stream",
       "stream": "stdout",
       "text": [
        "\n",
        "|-----------|\n",
        "| ~ ~ ~ ~ ~ |\n",
        "| ~ ~ ~ ~ ~ |\n",
        "| ~ ~ ~ ~ ~ |\n",
        "| ~ ~ ~ ~ ~ |\n",
        "| ~ ~ ~ # # |\n",
        "|-----------|"
       ]
      },
      {
       "output_type": "stream",
       "stream": "stdout",
       "text": [
        "\n",
        "|-----------|\n",
        "| ~ ~ ~ ~ ~ |\n",
        "| ~ ~ ~ ~ ~ |\n",
        "| ~ ~ ~ ~ ~ |\n",
        "| ~ ~ ~ ~ # |\n",
        "| ~ ~ ~ # # |\n",
        "|-----------|"
       ]
      },
      {
       "output_type": "stream",
       "stream": "stdout",
       "text": [
        "\n",
        "|-----------|\n",
        "| ~ ~ ~ ~ ~ |\n",
        "| ~ ~ ~ ~ ~ |\n",
        "| ~ ~ ~ ~ ~ |\n",
        "| ~ ~ ~ ~ ~ |\n",
        "| ~ ~ ~ # # |\n",
        "|-----------|"
       ]
      },
      {
       "output_type": "stream",
       "stream": "stdout",
       "text": [
        "\n",
        "|-----------|\n",
        "| ~ ~ ~ ~ ~ |\n",
        "| ~ ~ ~ ~ ~ |\n",
        "| ~ ~ ~ ~ ~ |\n",
        "| ~ ~ ~ ~ ~ |\n",
        "| ~ ~ ~ # ~ |\n",
        "|-----------|"
       ]
      },
      {
       "output_type": "stream",
       "stream": "stdout",
       "text": [
        "\n",
        "|-----------|\n",
        "| ~ ~ ~ ~ ~ |\n",
        "| ~ ~ ~ ~ ~ |\n",
        "| ~ ~ ~ ~ ~ |\n",
        "| ~ ~ ~ ~ ~ |\n",
        "| ~ ~ ~ ~ ~ |\n",
        "|-----------|"
       ]
      },
      {
       "output_type": "stream",
       "stream": "stdout",
       "text": [
        "\n",
        "|-----------|\n",
        "| ~ ~ ~ ~ ~ |\n",
        "| ~ ~ ~ ~ ~ |\n",
        "| ~ ~ ~ ~ ~ |\n",
        "| ~ ~ ~ ~ # |\n",
        "| ~ ~ ~ ~ ~ |\n",
        "|-----------|"
       ]
      },
      {
       "output_type": "stream",
       "stream": "stdout",
       "text": [
        "\n",
        "|-----------|\n",
        "| ~ ~ ~ ~ ~ |\n",
        "| ~ ~ ~ ~ ~ |\n",
        "| ~ ~ ~ ~ ~ |\n",
        "| ~ ~ ~ ~ # |\n",
        "| ~ ~ ~ ~ # |\n",
        "|-----------|"
       ]
      },
      {
       "output_type": "stream",
       "stream": "stdout",
       "text": [
        "\n",
        "|-----------|\n",
        "| ~ ~ ~ ~ ~ |\n",
        "| ~ ~ ~ ~ ~ |\n",
        "| ~ ~ ~ ~ ~ |\n",
        "| ~ ~ ~ ~ # |\n",
        "| ~ ~ ~ # # |\n",
        "|-----------|"
       ]
      },
      {
       "output_type": "stream",
       "stream": "stdout",
       "text": [
        "\n",
        "|-----------|\n",
        "| ~ ~ ~ ~ ~ |\n",
        "| ~ ~ ~ ~ ~ |\n",
        "| ~ ~ ~ ~ ~ |\n",
        "| ~ ~ ~ # # |\n",
        "| ~ ~ ~ # # |\n",
        "|-----------|"
       ]
      },
      {
       "output_type": "stream",
       "stream": "stdout",
       "text": [
        "\n",
        "|-----------|\n",
        "| ~ ~ ~ ~ ~ |\n",
        "| ~ ~ ~ ~ ~ |\n",
        "| ~ ~ ~ ~ ~ |\n",
        "| ~ ~ ~ # ~ |\n",
        "| ~ ~ ~ # # |\n",
        "|-----------|"
       ]
      },
      {
       "output_type": "stream",
       "stream": "stdout",
       "text": [
        "\n",
        "|-----------|\n",
        "| ~ ~ ~ ~ ~ |\n",
        "| ~ ~ ~ ~ ~ |\n",
        "| ~ ~ ~ ~ ~ |\n",
        "| ~ ~ ~ # ~ |\n",
        "| ~ ~ ~ # ~ |\n",
        "|-----------|"
       ]
      },
      {
       "output_type": "stream",
       "stream": "stdout",
       "text": [
        "\n",
        "|-----------|\n",
        "| ~ ~ ~ ~ ~ |\n",
        "| ~ ~ ~ ~ ~ |\n",
        "| ~ ~ ~ ~ ~ |\n",
        "| ~ ~ ~ # ~ |\n",
        "| ~ ~ ~ ~ ~ |\n",
        "|-----------|"
       ]
      },
      {
       "output_type": "stream",
       "stream": "stdout",
       "text": [
        "\n",
        "|-----------|\n",
        "| ~ ~ ~ ~ ~ |\n",
        "| ~ ~ ~ ~ ~ |\n",
        "| ~ ~ ~ ~ ~ |\n",
        "| ~ ~ ~ ~ ~ |\n",
        "| ~ ~ ~ ~ ~ |\n",
        "|-----------|"
       ]
      },
      {
       "output_type": "stream",
       "stream": "stdout",
       "text": [
        "\n",
        "|-----------|\n",
        "| ~ ~ ~ ~ ~ |\n",
        "| ~ ~ ~ ~ ~ |\n",
        "| ~ ~ ~ ~ ~ |\n",
        "| ~ ~ ~ ~ ~ |\n",
        "| ~ ~ ~ ~ # |\n",
        "|-----------|"
       ]
      },
      {
       "output_type": "stream",
       "stream": "stdout",
       "text": [
        "\n",
        "|-----------|\n",
        "| ~ ~ ~ ~ ~ |\n",
        "| ~ ~ ~ ~ ~ |\n",
        "| ~ ~ ~ ~ ~ |\n",
        "| ~ ~ ~ ~ ~ |\n",
        "| ~ ~ ~ # # |\n",
        "|-----------|"
       ]
      },
      {
       "output_type": "stream",
       "stream": "stdout",
       "text": [
        "\n",
        "|-----------|\n",
        "| ~ ~ ~ ~ ~ |\n",
        "| ~ ~ ~ ~ ~ |\n",
        "| ~ ~ ~ ~ ~ |\n",
        "| ~ ~ ~ # ~ |\n",
        "| ~ ~ ~ # # |\n",
        "|-----------|"
       ]
      },
      {
       "output_type": "stream",
       "stream": "stdout",
       "text": [
        "\n",
        "|-----------|\n",
        "| ~ ~ ~ ~ ~ |\n",
        "| ~ ~ ~ ~ ~ |\n",
        "| ~ ~ ~ ~ ~ |\n",
        "| ~ ~ ~ # # |\n",
        "| ~ ~ ~ # # |\n",
        "|-----------|"
       ]
      },
      {
       "output_type": "stream",
       "stream": "stdout",
       "text": [
        "\n",
        "|-----------|\n",
        "| ~ ~ ~ ~ ~ |\n",
        "| ~ ~ ~ ~ ~ |\n",
        "| ~ ~ ~ ~ ~ |\n",
        "| ~ ~ ~ # # |\n",
        "| ~ ~ ~ # ~ |\n",
        "|-----------|"
       ]
      },
      {
       "output_type": "stream",
       "stream": "stdout",
       "text": [
        "\n",
        "|-----------|\n",
        "| ~ ~ ~ ~ ~ |\n",
        "| ~ ~ ~ ~ ~ |\n",
        "| ~ ~ ~ ~ ~ |\n",
        "| ~ ~ ~ # # |\n",
        "| ~ ~ ~ ~ ~ |\n",
        "|-----------|"
       ]
      },
      {
       "output_type": "stream",
       "stream": "stdout",
       "text": [
        "\n",
        "|-----------|\n",
        "| ~ ~ ~ ~ ~ |\n",
        "| ~ ~ ~ ~ ~ |\n",
        "| ~ ~ ~ ~ ~ |\n",
        "| ~ ~ ~ ~ # |\n",
        "| ~ ~ ~ ~ ~ |\n",
        "|-----------|"
       ]
      },
      {
       "output_type": "stream",
       "stream": "stdout",
       "text": [
        "\n",
        "|-----------|\n",
        "| ~ ~ ~ ~ ~ |\n",
        "| ~ ~ ~ ~ ~ |\n",
        "| ~ ~ ~ ~ ~ |\n",
        "| ~ ~ ~ ~ ~ |\n",
        "| ~ ~ ~ ~ ~ |\n",
        "|-----------|"
       ]
      },
      {
       "output_type": "stream",
       "stream": "stdout",
       "text": [
        "\n",
        "|-----------|\n",
        "| # ~ ~ ~ ~ |\n",
        "| ~ ~ ~ ~ ~ |\n",
        "| ~ ~ ~ ~ ~ |\n",
        "| ~ ~ ~ ~ ~ |\n",
        "| ~ ~ ~ ~ ~ |\n",
        "|-----------|"
       ]
      },
      {
       "output_type": "stream",
       "stream": "stdout",
       "text": [
        "\n",
        "|-----------|\n",
        "| # # ~ ~ ~ |\n",
        "| ~ ~ ~ ~ ~ |\n",
        "| ~ ~ ~ ~ ~ |\n",
        "| ~ ~ ~ ~ ~ |\n",
        "| ~ ~ ~ ~ ~ |\n",
        "|-----------|\n",
        "|-----------|\n",
        "| # # # ~ ~ |\n",
        "| ~ ~ ~ ~ ~ |\n",
        "| ~ ~ ~ ~ ~ |\n",
        "| ~ ~ ~ ~ ~ |\n",
        "| ~ ~ ~ ~ ~ |\n",
        "|-----------|"
       ]
      },
      {
       "output_type": "stream",
       "stream": "stdout",
       "text": [
        "\n",
        "|-----------|\n",
        "| # # # ~ ~ |\n",
        "| ~ ~ ~ ~ ~ |\n",
        "| ~ ~ ~ # ~ |\n",
        "| ~ ~ ~ ~ ~ |\n",
        "| ~ ~ ~ ~ ~ |\n",
        "|-----------|"
       ]
      },
      {
       "output_type": "stream",
       "stream": "stdout",
       "text": [
        "\n",
        "|-----------|\n",
        "| # # # ~ ~ |\n",
        "| ~ ~ ~ ~ ~ |\n",
        "| ~ ~ ~ # ~ |\n",
        "| ~ ~ ~ # ~ |\n",
        "| ~ ~ ~ ~ ~ |\n",
        "|-----------|"
       ]
      },
      {
       "output_type": "stream",
       "stream": "stdout",
       "text": [
        "\n",
        "|-----------|\n",
        "| # # # ~ ~ |\n",
        "| ~ ~ ~ ~ ~ |\n",
        "| ~ ~ ~ # ~ |\n",
        "| ~ ~ ~ # ~ |\n",
        "| ~ # ~ ~ ~ |\n",
        "|-----------|"
       ]
      },
      {
       "output_type": "stream",
       "stream": "stdout",
       "text": [
        "\n",
        "|-----------|\n",
        "| # # # ~ ~ |\n",
        "| ~ ~ ~ ~ ~ |\n",
        "| ~ ~ ~ # ~ |\n",
        "| ~ ~ ~ ~ ~ |\n",
        "| ~ # ~ ~ ~ |\n",
        "|-----------|"
       ]
      },
      {
       "output_type": "stream",
       "stream": "stdout",
       "text": [
        "\n",
        "|-----------|\n",
        "| # # # ~ ~ |\n",
        "| ~ ~ ~ ~ ~ |\n",
        "| ~ ~ ~ ~ ~ |\n",
        "| ~ ~ ~ ~ ~ |\n",
        "| ~ # ~ ~ ~ |\n",
        "|-----------|"
       ]
      },
      {
       "output_type": "stream",
       "stream": "stdout",
       "text": [
        "\n",
        "|-----------|\n",
        "| # # # ~ ~ |\n",
        "| ~ ~ ~ ~ ~ |\n",
        "| ~ ~ ~ ~ ~ |\n",
        "| ~ ~ ~ ~ ~ |\n",
        "| ~ ~ ~ ~ ~ |\n",
        "|-----------|"
       ]
      },
      {
       "output_type": "stream",
       "stream": "stdout",
       "text": [
        "\n",
        "|-----------|\n",
        "| # # ~ ~ ~ |\n",
        "| ~ ~ ~ ~ ~ |\n",
        "| ~ ~ ~ ~ ~ |\n",
        "| ~ ~ ~ ~ ~ |\n",
        "| ~ ~ ~ ~ ~ |\n",
        "|-----------|"
       ]
      },
      {
       "output_type": "stream",
       "stream": "stdout",
       "text": [
        "\n",
        "|-----------|\n",
        "| # ~ ~ ~ ~ |\n",
        "| ~ ~ ~ ~ ~ |\n",
        "| ~ ~ ~ ~ ~ |\n",
        "| ~ ~ ~ ~ ~ |\n",
        "| ~ ~ ~ ~ ~ |\n",
        "|-----------|"
       ]
      },
      {
       "output_type": "stream",
       "stream": "stdout",
       "text": [
        "\n",
        "|-----------|\n",
        "| ~ ~ ~ ~ ~ |\n",
        "| ~ ~ ~ ~ ~ |\n",
        "| ~ ~ ~ ~ ~ |\n",
        "| ~ ~ ~ ~ ~ |\n",
        "| ~ ~ ~ ~ ~ |\n",
        "|-----------|"
       ]
      },
      {
       "output_type": "stream",
       "stream": "stdout",
       "text": [
        "\n"
       ]
      }
     ],
     "prompt_number": 167
    },
    {
     "cell_type": "code",
     "collapsed": false,
     "input": [
      "gm.new_game()"
     ],
     "language": "python",
     "metadata": {},
     "outputs": [],
     "prompt_number": 39
    },
    {
     "cell_type": "code",
     "collapsed": false,
     "input": [
      "gm.current_game.draw_p1_monitor()"
     ],
     "language": "python",
     "metadata": {},
     "outputs": [],
     "prompt_number": 40
    },
    {
     "cell_type": "code",
     "collapsed": false,
     "input": [
      "gm.current_game.p1_board.tile_1d(8).set(too_close=False)\n",
      "gm.current_game.p1_board.tile_1d(8).fire()\n",
      "gm.current_game.p1_board.tile_1d(5).fire()"
     ],
     "language": "python",
     "metadata": {},
     "outputs": [],
     "prompt_number": 41
    },
    {
     "cell_type": "code",
     "collapsed": false,
     "input": [
      "gm.current_game.draw_p1_board()"
     ],
     "language": "python",
     "metadata": {},
     "outputs": [],
     "prompt_number": 42
    },
    {
     "cell_type": "code",
     "collapsed": false,
     "input": [
      "gm.stop_ui_server()"
     ],
     "language": "python",
     "metadata": {},
     "outputs": [],
     "prompt_number": 62
    },
    {
     "cell_type": "code",
     "collapsed": false,
     "input": [
      "print(gm.current_game.p1_board)"
     ],
     "language": "python",
     "metadata": {},
     "outputs": [
      {
       "output_type": "stream",
       "stream": "stdout",
       "text": [
        "|-----------|\n",
        "| ~ ~ ~ ~ ~ |\n",
        "| ~ ~ ~ ~ ~ |\n",
        "| ~ ~ ~ ~ ~ |\n",
        "| ~ ~ ~ ~ ~ |\n",
        "| ~ ~ ~ ~ ~ |\n",
        "|-----------|\n"
       ]
      }
     ],
     "prompt_number": 46
    }
   ],
   "metadata": {}
  }
 ]
}