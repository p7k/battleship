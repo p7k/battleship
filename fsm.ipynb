{
 "metadata": {
  "name": ""
 },
 "nbformat": 3,
 "nbformat_minor": 0,
 "worksheets": [
  {
   "cells": [
    {
     "cell_type": "code",
     "collapsed": false,
     "input": [
      "from fysom import Fysom, FysomError"
     ],
     "language": "python",
     "metadata": {},
     "outputs": [],
     "prompt_number": 1
    },
    {
     "cell_type": "code",
     "collapsed": false,
     "input": [
      "from pythonosc import osc_message_builder\n",
      "\n",
      "def osc_state_msg(address, idx, state=0):\n",
      "    mb = osc_message_builder.OscMessageBuilder(address=address)\n",
      "    mb.add_arg(idx)\n",
      "    mb.add_arg(state)\n",
      "    return mb.build()"
     ],
     "language": "python",
     "metadata": {},
     "outputs": [],
     "prompt_number": 33
    },
    {
     "cell_type": "heading",
     "level": 3,
     "metadata": {},
     "source": [
      "tile"
     ]
    },
    {
     "cell_type": "code",
     "collapsed": false,
     "input": [
      "class Tile(Fysom):\n",
      "    \"\"\"Belongs to a board and a ship\"\"\"\n",
      "    \n",
      "    symbols = dict(sea='~', deck='#', miss='o', hit='x')\n",
      "    ui_val = dict(sea=0, deck=1, miss=2, hit=3)\n",
      "    \n",
      "    def __init__(self, i, j):\n",
      "        self.i, self.j = i, j\n",
      "        super().__init__(dict(initial='sea',\n",
      "                              events=(dict(name='set',   src='sea',  dst='deck'),\n",
      "                                      dict(name='reset', src='deck', dst='sea'),\n",
      "                                      dict(name='fire',  src='sea',  dst='miss'),\n",
      "                                      dict(name='fire',  src='deck', dst='hit')),\n",
      "                              callbacks={'onbeforeset':   self._set,\n",
      "                                         'onbeforereset': self._reset,}))\n",
      "        \n",
      "    def _set(self, e):\n",
      "        assert not e.too_close, 'invalid placement'\n",
      "\n",
      "    def _reset(self, e):\n",
      "        assert not e.game_on, 'cannot reset during game'\n",
      "            \n",
      "    def __repr__(self):\n",
      "        return self.symbols[self.current]"
     ],
     "language": "python",
     "metadata": {},
     "outputs": [],
     "prompt_number": 80
    },
    {
     "cell_type": "code",
     "collapsed": false,
     "input": [
      "tile = Tile(0, 0)\n",
      "assert tile.current == 'sea'"
     ],
     "language": "python",
     "metadata": {},
     "outputs": [],
     "prompt_number": 81
    },
    {
     "cell_type": "code",
     "collapsed": false,
     "input": [
      "tile.fire()\n",
      "assert tile.current == 'miss'"
     ],
     "language": "python",
     "metadata": {},
     "outputs": [],
     "prompt_number": 82
    },
    {
     "cell_type": "code",
     "collapsed": false,
     "input": [
      "tile = Tile(0, 0)\n",
      "tile.set(too_close=False)\n",
      "assert tile.current == 'deck'"
     ],
     "language": "python",
     "metadata": {},
     "outputs": [],
     "prompt_number": 83
    },
    {
     "cell_type": "code",
     "collapsed": false,
     "input": [
      "try:\n",
      "    tile.reset(game_on=True)\n",
      "except: pass\n",
      "assert tile.current == 'deck'"
     ],
     "language": "python",
     "metadata": {},
     "outputs": [],
     "prompt_number": 84
    },
    {
     "cell_type": "code",
     "collapsed": false,
     "input": [
      "tile.reset(game_on=False)\n",
      "assert tile.current == 'sea'"
     ],
     "language": "python",
     "metadata": {},
     "outputs": [],
     "prompt_number": 85
    },
    {
     "cell_type": "code",
     "collapsed": false,
     "input": [
      "tile.set(too_close=False)\n",
      "assert tile.current == 'deck'"
     ],
     "language": "python",
     "metadata": {},
     "outputs": [],
     "prompt_number": 86
    },
    {
     "cell_type": "code",
     "collapsed": false,
     "input": [
      "tile.fire()\n",
      "assert tile.current == 'hit'"
     ],
     "language": "python",
     "metadata": {},
     "outputs": [],
     "prompt_number": 87
    },
    {
     "cell_type": "heading",
     "level": 3,
     "metadata": {},
     "source": [
      "ship"
     ]
    },
    {
     "cell_type": "code",
     "collapsed": false,
     "input": [
      "class Ship(Fysom):\n",
      "    \"\"\"collection of tiles | specify number of decks\"\"\"\n",
      "    \n",
      "    def __init__(self, number_of_decks):\n",
      "        self.n = number_of_decks\n",
      "        self.tiles = set()\n",
      "        super().__init__(dict(initial='shipyard', final='sunken',\n",
      "                              events=(dict(name='add',    src='shipyard', dst='afloat'),\n",
      "                                      dict(name='fire',   src='afloat',   dst='damaged'),\n",
      "                                      dict(name='fire',   src='damaged',  dst='sunken')),\n",
      "                              callbacks={'onbeforeadd':    self._add_tile,\n",
      "                                         'onbeforefire':   self._has_hits,\n",
      "                                         'onleavedamaged': self._is_kaput,\n",
      "                                         'onentersunken':  self._sunken_fx}))\n",
      "        \n",
      "    def _add_tile(self, e):\n",
      "        assert e.tile not in self.tiles, 'ship already on this tile'\n",
      "        if not e.tile.current == 'deck':\n",
      "            e.tile.set(too_close=False)\n",
      "        self.tiles.add(e.tile)\n",
      "        e.tile.ship = self\n",
      "        if not len(self.tiles) == self.n:\n",
      "            return False\n",
      "    \n",
      "    def _has_hits(self, e):\n",
      "        if not any((tile.current == 'hit' for tile in self.tiles)):\n",
      "            return False\n",
      "    \n",
      "    def _is_kaput(self, e):\n",
      "        if not all((tile.current == 'hit' for tile in self.tiles)):\n",
      "            return False\n",
      "        \n",
      "    def _sunken_fx(self, e):\n",
      "        pass\n",
      "    \n",
      "    def __repr__(self):\n",
      "        return 'D{}'.format(self.n)"
     ],
     "language": "python",
     "metadata": {},
     "outputs": [],
     "prompt_number": 88
    },
    {
     "cell_type": "code",
     "collapsed": false,
     "input": [
      "ship = Ship(2)\n",
      "assert ship.current == 'shipyard'"
     ],
     "language": "python",
     "metadata": {},
     "outputs": [],
     "prompt_number": 89
    },
    {
     "cell_type": "code",
     "collapsed": false,
     "input": [
      "tile1 = Tile(0,0)\n",
      "tile1.set(too_close=False)\n",
      "ship.add(tile=tile1)\n",
      "assert ship.current == 'shipyard'"
     ],
     "language": "python",
     "metadata": {},
     "outputs": [],
     "prompt_number": 90
    },
    {
     "cell_type": "code",
     "collapsed": false,
     "input": [
      "tile2 = Tile(0,1)\n",
      "tile2.set(too_close=False)\n",
      "ship.add(tile=tile2)\n",
      "assert ship.current == 'afloat'\n",
      "ship.tiles"
     ],
     "language": "python",
     "metadata": {},
     "outputs": [
      {
       "metadata": {},
       "output_type": "pyout",
       "prompt_number": 91,
       "text": [
        "{#, #}"
       ]
      }
     ],
     "prompt_number": 91
    },
    {
     "cell_type": "code",
     "collapsed": false,
     "input": [
      "tile1.fire()\n",
      "ship.fire()\n",
      "assert ship.current == 'damaged'\n",
      "ship.tiles"
     ],
     "language": "python",
     "metadata": {},
     "outputs": [
      {
       "metadata": {},
       "output_type": "pyout",
       "prompt_number": 92,
       "text": [
        "{x, #}"
       ]
      }
     ],
     "prompt_number": 92
    },
    {
     "cell_type": "code",
     "collapsed": false,
     "input": [
      "tile2.fire()\n",
      "ship.fire()\n",
      "assert ship.current == 'sunken'\n",
      "ship.tiles"
     ],
     "language": "python",
     "metadata": {},
     "outputs": [
      {
       "metadata": {},
       "output_type": "pyout",
       "prompt_number": 93,
       "text": [
        "{x, x}"
       ]
      }
     ],
     "prompt_number": 93
    },
    {
     "cell_type": "heading",
     "level": 3,
     "metadata": {},
     "source": [
      "board"
     ]
    },
    {
     "cell_type": "code",
     "collapsed": false,
     "input": [
      "from itertools import chain"
     ],
     "language": "python",
     "metadata": {},
     "outputs": [],
     "prompt_number": 94
    },
    {
     "cell_type": "code",
     "collapsed": false,
     "input": [
      "class Board:\n",
      "    \"\"\"keeps track of tiles\"\"\"\n",
      "    \n",
      "    def __init__(self, n, ships, player):\n",
      "        self.n = n\n",
      "        # tile matrix\n",
      "        self.tiles = tuple(\n",
      "            tuple(Tile(i, j) for j in range(n)) for i in range(n))\n",
      "        # ships  TODO rewrite into a frozenset comprehension\n",
      "        self.ships = []\n",
      "        for n_decks, qty in ships:\n",
      "            self.ships.extend(Ship(n_decks) for _ in range(qty))\n",
      "        # set player\n",
      "        self.player = player\n",
      "            \n",
      "    def tile_1d(self, i):\n",
      "        # TODO error proof\n",
      "        return self.tiles[i // self.n][i % self.n]\n",
      "\n",
      "    def __str__(self):\n",
      "        edge = '|{}|'.format('-' * (self.n * 2 + 1))\n",
      "        rows = '\\n'.join('| {} |'.format(' '.join(map(str, row))) for row in self.tiles)\n",
      "        return '{edge}\\n{rows}\\n{edge}'.format(**locals())\n",
      "    \n",
      "    def __repr__(self):\n",
      "        return str(self.tiles)\n",
      "    \n",
      "    def idx(self, tile):\n",
      "        return tile.i * self.n + tile.j\n",
      "    \n",
      "    def is_valid(self):\n",
      "        pass\n",
      "    \n",
      "    def is_complete(self):\n",
      "        pass"
     ],
     "language": "python",
     "metadata": {},
     "outputs": [],
     "prompt_number": 95
    },
    {
     "cell_type": "code",
     "collapsed": false,
     "input": [
      "board = Board(n=5, ships=((1,2), (2,1), (3,1), (4,1)), player=None)\n",
      "print(board.ships)\n",
      "print(board)"
     ],
     "language": "python",
     "metadata": {},
     "outputs": [
      {
       "output_type": "stream",
       "stream": "stdout",
       "text": [
        "[D1, D1, D2, D3, D4]\n",
        "|-----------|\n",
        "| ~ ~ ~ ~ ~ |\n",
        "| ~ ~ ~ ~ ~ |\n",
        "| ~ ~ ~ ~ ~ |\n",
        "| ~ ~ ~ ~ ~ |\n",
        "| ~ ~ ~ ~ ~ |\n",
        "|-----------|\n"
       ]
      }
     ],
     "prompt_number": 96
    },
    {
     "cell_type": "code",
     "collapsed": false,
     "input": [
      "board.tile_1d(0).fire()\n",
      "print(board)"
     ],
     "language": "python",
     "metadata": {},
     "outputs": [
      {
       "output_type": "stream",
       "stream": "stdout",
       "text": [
        "|-----------|\n",
        "| o ~ ~ ~ ~ |\n",
        "| ~ ~ ~ ~ ~ |\n",
        "| ~ ~ ~ ~ ~ |\n",
        "| ~ ~ ~ ~ ~ |\n",
        "| ~ ~ ~ ~ ~ |\n",
        "|-----------|\n"
       ]
      }
     ],
     "prompt_number": 97
    },
    {
     "cell_type": "code",
     "collapsed": false,
     "input": [
      "board.tile_1d(24).set(too_close=False)\n",
      "board.tile_1d(24).fire()\n",
      "print(board)"
     ],
     "language": "python",
     "metadata": {},
     "outputs": [
      {
       "output_type": "stream",
       "stream": "stdout",
       "text": [
        "|-----------|\n",
        "| o ~ ~ ~ ~ |\n",
        "| ~ ~ ~ ~ ~ |\n",
        "| ~ ~ ~ ~ ~ |\n",
        "| ~ ~ ~ ~ ~ |\n",
        "| ~ ~ ~ ~ x |\n",
        "|-----------|\n"
       ]
      }
     ],
     "prompt_number": 98
    },
    {
     "cell_type": "code",
     "collapsed": false,
     "input": [
      "tile = board.tile_1d(1)\n",
      "assert tile.i == 0 and tile.j == 1"
     ],
     "language": "python",
     "metadata": {},
     "outputs": [],
     "prompt_number": 101
    },
    {
     "cell_type": "code",
     "collapsed": false,
     "input": [
      "assert board.idx(tile) == 1"
     ],
     "language": "python",
     "metadata": {},
     "outputs": [],
     "prompt_number": 102
    },
    {
     "cell_type": "heading",
     "level": 3,
     "metadata": {},
     "source": [
      "player"
     ]
    },
    {
     "cell_type": "code",
     "collapsed": false,
     "input": [
      "from pythonosc import udp_client"
     ],
     "language": "python",
     "metadata": {},
     "outputs": [],
     "prompt_number": 103
    },
    {
     "cell_type": "code",
     "collapsed": false,
     "input": [
      "class Player(Fysom):\n",
      "    def __init__(self, ui_client_addr, play_board_osc_addr, monitor_board_osc_addr):\n",
      "        self.play_board_osc_addr = play_board_osc_addr\n",
      "        self.monitor_board_osc_addr = monitor_board_osc_addr\n",
      "        self.ui_client = udp_client.UDPClient(*ui_client_addr)"
     ],
     "language": "python",
     "metadata": {},
     "outputs": [],
     "prompt_number": 104
    },
    {
     "cell_type": "heading",
     "level": 3,
     "metadata": {},
     "source": [
      "game"
     ]
    },
    {
     "cell_type": "code",
     "collapsed": false,
     "input": [
      "class Game(Fysom):\n",
      "    def __init__(self, player1, player2, board_size, ship_cfg):\n",
      "        # assign players\n",
      "        assert not player1 == player2, 'game needs two distinct players'\n",
      "        self.player1, self.player2 = player1, player2\n",
      "        \n",
      "        # for each player create the boards  # TODO re!\n",
      "        self.board_p1_play = Board(board_size, ship_cfg, player1)\n",
      "        self.board_p1_monitor = Board(board_size, ship_cfg, player1)\n",
      "        self.board_p2_play = Board(board_size, ship_cfg, player2)\n",
      "        self.board_p2_monitor = Board(board_size, ship_cfg, player2)\n",
      "        \n",
      "        # fsm\n",
      "        super().__init__(dict(initial='setup', final='over',\n",
      "                              events=(dict(name='turn',  src='setup',     dst='p1'),\n",
      "                                      dict(name='turn',  src='p1',        dst='p2'),\n",
      "                                      dict(name='turn',  src='p2',        dst='p1'),\n",
      "                                      dict(name='stop', src=('p1', 'p2'), dst='over')),\n",
      "                              callbacks={'onleavesetup': self._validate_play_boards,\n",
      "                                         'onstop': self._stop_fx}))\n",
      "                                         \n",
      "    def _validate_play_boards(self, e):\n",
      "        \"\"\"check each player's play boards\"\"\"\n",
      "        pass\n",
      "    \n",
      "    def _stop_fx(self, e):\n",
      "        \"\"\"stop all sfx + some viz?\"\"\"\n",
      "        pass\n",
      "    \n",
      "    def draw_board(self, board):\n",
      "        for tile in chain(*board.tiles):\n",
      "            msg = state_msg(self.player1.play_board_osc_addr, board.idx(tile), tile.ui_val[tile.current])\n",
      "            self.player1.ui_client.send(msg)"
     ],
     "language": "python",
     "metadata": {},
     "outputs": [],
     "prompt_number": 129
    },
    {
     "cell_type": "code",
     "collapsed": false,
     "input": [
      "game = Game('p1', 'p2', 5, ((1,2), (2,1), (3,1), (4,1)))\n",
      "assert game.current == 'setup', game.current"
     ],
     "language": "python",
     "metadata": {},
     "outputs": [],
     "prompt_number": 130
    },
    {
     "cell_type": "code",
     "collapsed": false,
     "input": [
      "game.turn()\n",
      "assert game.current == 'p1', game.current"
     ],
     "language": "python",
     "metadata": {},
     "outputs": [],
     "prompt_number": 131
    },
    {
     "cell_type": "code",
     "collapsed": false,
     "input": [
      "game.turn()\n",
      "assert game.current == 'p2', game.current"
     ],
     "language": "python",
     "metadata": {},
     "outputs": [],
     "prompt_number": 132
    },
    {
     "cell_type": "code",
     "collapsed": false,
     "input": [
      "game.turn()\n",
      "assert game.current == 'p1', game.current"
     ],
     "language": "python",
     "metadata": {},
     "outputs": [],
     "prompt_number": 133
    },
    {
     "cell_type": "code",
     "collapsed": false,
     "input": [
      "game.stop()"
     ],
     "language": "python",
     "metadata": {},
     "outputs": [],
     "prompt_number": 134
    },
    {
     "cell_type": "code",
     "collapsed": false,
     "input": [
      "game.is_finished()"
     ],
     "language": "python",
     "metadata": {},
     "outputs": [
      {
       "metadata": {},
       "output_type": "pyout",
       "prompt_number": 135,
       "text": [
        "True"
       ]
      }
     ],
     "prompt_number": 135
    },
    {
     "cell_type": "heading",
     "level": 3,
     "metadata": {},
     "source": [
      "game manager"
     ]
    },
    {
     "cell_type": "code",
     "collapsed": false,
     "input": [
      "from pythonosc import dispatcher\n",
      "from pythonosc import osc_server"
     ],
     "language": "python",
     "metadata": {},
     "outputs": [],
     "prompt_number": 136
    },
    {
     "cell_type": "code",
     "collapsed": false,
     "input": [
      "class GameManager:\n",
      "    p1_osc_addr = ('thrace.local', 8000)\n",
      "    p1_osc_play_board = '/us/state'\n",
      "    p1_osc_monitor_board = '/them/state'\n",
      "    p2_osc_addr = ('192.168.0.11', 8000)\n",
      "    p2_osc_play_board = '/us2/state'\n",
      "    p2_osc_monitor_board = '/them2/state'\n",
      "\n",
      "    osc_server_addr = ('0.0.0.0', 5005)\n",
      "    board_size = 5\n",
      "    ship_cfg = ((1,2), (2,1), (3,1), (4,1))\n",
      "\n",
      "    def __init__(self):\n",
      "        # connect and init players\n",
      "        self.player1 = Player(self.p1_osc_addr, self.p1_osc_play_board, self.p1_osc_monitor_board)\n",
      "        self.player2 = Player(self.p2_osc_addr, self.p2_osc_play_board, self.p2_osc_monitor_board)\n",
      "        \n",
      "        # create the game\n",
      "        self.current_game = Game(self.player1, self.player2, self.board_size, self.ship_cfg)\n",
      "        # game should tell both players to clear their boards\n",
      "        \n",
      "        # ui server\n",
      "        disp = dispatcher.Dispatcher()\n",
      "        disp.map('/us/x', print)\n",
      "        disp.map('/them/x', print)\n",
      "        #self.ui_server = osc_server.BlockingOSCUDPServer(self.osc_server_addr, disp)\n",
      "        #print(\"Bind OSC server on {}\".format(self.ui_server.server_address))\n",
      "        \n",
      "    def handle_player1_play(self, *switches):\n",
      "        if game.is_finished():\n",
      "            pass\n",
      "            # board should continue redrawing itself\n",
      "        \n",
      "    \n",
      "    def handle_player1_monitor(self, *switches):\n",
      "        pass\n",
      "    \n",
      "    def handle_player2_play(self, *switches):\n",
      "        pass\n",
      "    \n",
      "    def handle_player2_monitor(self, *switches):\n",
      "        pass\n",
      "    \n",
      "    def new_game(self):\n",
      "        return Game(self.player1, self.player2,)\n",
      "    \n",
      "    def start_ui_server(self):\n",
      "        print(\"Starting OSC server on {}\".format(self.ui_server.server_address))\n",
      "        self.ui_server.serve_forever()\n",
      "\n",
      "    def stop_ui_server(self):\n",
      "        self.ui_server.shutdown()\n",
      "        self.ui_server.server_close()"
     ],
     "language": "python",
     "metadata": {},
     "outputs": [],
     "prompt_number": 143
    },
    {
     "cell_type": "code",
     "collapsed": false,
     "input": [
      "gm = GameManager()"
     ],
     "language": "python",
     "metadata": {},
     "outputs": [],
     "prompt_number": 144
    },
    {
     "cell_type": "code",
     "collapsed": false,
     "input": [
      "gm.current_game.draw_board(gm.current_game.board_p1_play)"
     ],
     "language": "python",
     "metadata": {},
     "outputs": [],
     "prompt_number": 153
    },
    {
     "cell_type": "code",
     "collapsed": false,
     "input": [
      "gm.current_game.board_p1_play.tile_1d(8).set(too_close=False)\n",
      "gm.current_game.board_p1_play.tile_1d(8).fire()\n",
      "gm.current_game.board_p1_play.tile_1d(5).fire()"
     ],
     "language": "python",
     "metadata": {},
     "outputs": [],
     "prompt_number": 152
    },
    {
     "cell_type": "code",
     "collapsed": false,
     "input": [
      "gm.ui_server.server_close()"
     ],
     "language": "python",
     "metadata": {},
     "outputs": [],
     "prompt_number": 124
    },
    {
     "cell_type": "code",
     "collapsed": false,
     "input": [],
     "language": "python",
     "metadata": {},
     "outputs": []
    }
   ],
   "metadata": {}
  }
 ]
}