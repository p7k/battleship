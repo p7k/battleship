{
 "metadata": {
  "name": ""
 },
 "nbformat": 3,
 "nbformat_minor": 0,
 "worksheets": [
  {
   "cells": [
    {
     "cell_type": "code",
     "collapsed": false,
     "input": [
      "from fysom import Fysom, FysomError"
     ],
     "language": "python",
     "metadata": {},
     "outputs": [],
     "prompt_number": 111
    },
    {
     "cell_type": "heading",
     "level": 3,
     "metadata": {},
     "source": [
      "tile"
     ]
    },
    {
     "cell_type": "code",
     "collapsed": false,
     "input": [
      "class Tile(Fysom):\n",
      "    \"\"\"Belongs to a board and a ship\"\"\"\n",
      "    symbols = dict(sea='~', deck='#', miss='o', hit='x')\n",
      "\n",
      "    def __init__(self, i, j, board=None, ship=None):\n",
      "        self.i, self.j = i, j\n",
      "        self.board = board\n",
      "        self.ship = ship\n",
      "        super().__init__(dict(initial='sea',\n",
      "                              events=(dict(name='set',   src=('sea', 'deck'), dst='deck'),\n",
      "                                      dict(name='reset', src=('deck', 'sea'), dst='sea'),\n",
      "                                      dict(name='fire',  src='sea',  dst='miss'),\n",
      "                                      dict(name='fire',  src='deck', dst='hit')),\n",
      "                              callbacks={'onenterdeck': self._on_deck,\n",
      "                                         'onenterhit': self._on_hit}))\n",
      "    def _on_deck(self, e):\n",
      "        print('added a deck, start playing a loop')\n",
      "        \n",
      "    def _on_hit(self, e):\n",
      "        if self.ship:\n",
      "            self.ship.fire()\n",
      "            \n",
      "    def __str__(self):\n",
      "        return 'Tile({0},{1})'.format(self.i, self.j)\n",
      "                \n",
      "    def __repr__(self):\n",
      "        return self.symbols[self.current]"
     ],
     "language": "python",
     "metadata": {},
     "outputs": [],
     "prompt_number": 652
    },
    {
     "cell_type": "code",
     "collapsed": false,
     "input": [
      "tile = Tile(0, 0)\n",
      "assert tile.isstate('sea')"
     ],
     "language": "python",
     "metadata": {},
     "outputs": [],
     "prompt_number": 653
    },
    {
     "cell_type": "code",
     "collapsed": false,
     "input": [
      "tile.fire()\n",
      "assert tile.isstate('miss')"
     ],
     "language": "python",
     "metadata": {},
     "outputs": [],
     "prompt_number": 654
    },
    {
     "cell_type": "code",
     "collapsed": false,
     "input": [
      "tile = Tile(0, 0)\n",
      "tile.set()\n",
      "assert tile.isstate('deck')"
     ],
     "language": "python",
     "metadata": {},
     "outputs": [
      {
       "output_type": "stream",
       "stream": "stdout",
       "text": [
        "added a deck, start playing a loop\n"
       ]
      }
     ],
     "prompt_number": 655
    },
    {
     "cell_type": "code",
     "collapsed": false,
     "input": [
      "tile.set()\n",
      "assert tile.isstate('deck')"
     ],
     "language": "python",
     "metadata": {},
     "outputs": [],
     "prompt_number": 656
    },
    {
     "cell_type": "code",
     "collapsed": false,
     "input": [
      "tile.reset()\n",
      "assert tile.isstate('sea')"
     ],
     "language": "python",
     "metadata": {},
     "outputs": [],
     "prompt_number": 657
    },
    {
     "cell_type": "code",
     "collapsed": false,
     "input": [
      "tile.reset()\n",
      "assert tile.isstate('sea')"
     ],
     "language": "python",
     "metadata": {},
     "outputs": [],
     "prompt_number": 658
    },
    {
     "cell_type": "code",
     "collapsed": false,
     "input": [
      "tile.set()\n",
      "assert tile.isstate('deck')"
     ],
     "language": "python",
     "metadata": {},
     "outputs": [
      {
       "output_type": "stream",
       "stream": "stdout",
       "text": [
        "added a deck, start playing a loop\n"
       ]
      }
     ],
     "prompt_number": 659
    },
    {
     "cell_type": "code",
     "collapsed": false,
     "input": [
      "tile.fire()\n",
      "assert tile.isstate('hit')"
     ],
     "language": "python",
     "metadata": {},
     "outputs": [],
     "prompt_number": 660
    },
    {
     "cell_type": "heading",
     "level": 3,
     "metadata": {},
     "source": [
      "ship"
     ]
    },
    {
     "cell_type": "code",
     "collapsed": false,
     "input": [
      "class Ship(Fysom):\n",
      "    \"\"\"collection of tiles | specify number of decks\"\"\"\n",
      "    \n",
      "    def __init__(self, tiles):\n",
      "        for tile in tiles:\n",
      "            assert tile.isstate('deck'), (str(tile), tile.current)\n",
      "            tile.ship = self\n",
      "        self.tiles = tiles\n",
      "        super().__init__(dict(initial='ok', final='sunken',\n",
      "                              events=(dict(name='fire',   src='ok'     , dst='damaged'),\n",
      "                                      dict(name='fire',   src='damaged', dst='sunken')),\n",
      "                              callbacks={'onleavedamaged': self._is_kaput,\n",
      "                                         'onentersunken':  self._sunken_fx}))\n",
      "        \n",
      "    def _is_kaput(self, e):\n",
      "        if not all(t.isstate('hit') for t in self.tiles):\n",
      "            return False\n",
      "        \n",
      "    def _sunken_fx(self, e):\n",
      "        print('ship sunk, stop the noise')\n",
      "    \n",
      "    def __repr__(self):\n",
      "        return 'D{}'.format(self.n)"
     ],
     "language": "python",
     "metadata": {},
     "outputs": [],
     "prompt_number": 665
    },
    {
     "cell_type": "code",
     "collapsed": false,
     "input": [
      "tile1 = Tile(0,0)\n",
      "tile2 = Tile(0,1)\n",
      "tile1.set()\n",
      "tile2.set()\n",
      "ship = Ship((tile1, tile2))\n",
      "assert ship.isstate('ok')"
     ],
     "language": "python",
     "metadata": {},
     "outputs": [
      {
       "output_type": "stream",
       "stream": "stdout",
       "text": [
        "added a deck, start playing a loop\n",
        "added a deck, start playing a loop\n"
       ]
      }
     ],
     "prompt_number": 666
    },
    {
     "cell_type": "code",
     "collapsed": false,
     "input": [
      "tile1.fire()\n",
      "assert ship.isstate('damaged')"
     ],
     "language": "python",
     "metadata": {},
     "outputs": [],
     "prompt_number": 667
    },
    {
     "cell_type": "code",
     "collapsed": false,
     "input": [
      "tile2.fire()\n",
      "assert ship.isstate('sunken')"
     ],
     "language": "python",
     "metadata": {},
     "outputs": [
      {
       "output_type": "stream",
       "stream": "stdout",
       "text": [
        "ship sunk, stop the noise\n"
       ]
      }
     ],
     "prompt_number": 668
    },
    {
     "cell_type": "heading",
     "level": 3,
     "metadata": {},
     "source": [
      "board"
     ]
    },
    {
     "cell_type": "code",
     "collapsed": false,
     "input": [
      "import networkx as nx\n",
      "from itertools import chain"
     ],
     "language": "python",
     "metadata": {},
     "outputs": [],
     "prompt_number": 168
    },
    {
     "cell_type": "code",
     "collapsed": false,
     "input": [
      "class Board:\n",
      "    \"\"\"keeps track of tiles\"\"\"\n",
      "    \n",
      "    def __init__(self, n, ships):\n",
      "        self.n = n\n",
      "        # tile matrix\n",
      "        self.tiles = tuple(\n",
      "            tuple(Tile(i, j) for j in range(n)) for i in range(n))\n",
      "        # ships  TODO rewrite into a frozenset comprehension\n",
      "        self.total_decks = 0;\n",
      "        self.ships = set()\n",
      "        for n_decks, qty in ships:\n",
      "            self.total_decks += n_decks * qty\n",
      "            self.ships.update(Ship(n_decks) for _ in range(qty))\n",
      "        self.decks = set()\n",
      "            \n",
      "    def tile_1d(self, i):\n",
      "        # TODO error proof\n",
      "        return self.tiles[i // self.n][i % self.n]\n",
      "\n",
      "    def __str__(self):\n",
      "        edge = '|{}|'.format('-' * (self.n * 2 + 1))\n",
      "        rows = '\\n'.join('| {} |'.format(' '.join(map(str, row))) for row in self.tiles)\n",
      "        return '{edge}\\n{rows}\\n{edge}'.format(**locals())\n",
      "    \n",
      "    def __repr__(self):\n",
      "        return str(self.tiles)\n",
      "    \n",
      "    def idx(self, tile):\n",
      "        return tile.i * self.n + tile.j\n",
      "    \n",
      "    def detect_ships(self):\n",
      "        if not len(self.decks) == self.total_decks:\n",
      "            return False\n",
      "        graph = nx.Graph()\n",
      "        # all decks are nodes\n",
      "        graph.add_nodes_from(self.decks)\n",
      "        # edges exist between proper neighbors\n",
      "        # TODO maybe no need to look at non-deck tilses\n",
      "        for deck in self.decks:\n",
      "            k = self.tiles[max(deck.i - 1, 0)][deck.j]\n",
      "            j = self.tiles[min(deck.i + 1, board.n - 1)][deck.j]\n",
      "            h = self.tiles[deck.i][max(deck.j - 1, 0)]\n",
      "            l = self.tiles[deck.i][min(deck.j + 1, board.n - 1)]\n",
      "            for adj in (h,j,k,l):\n",
      "                if not adj == deck and adj.isstate('deck'):\n",
      "                    graph.add_edge(deck, adj)        \n",
      "        return nx.connected_components(graph)\n",
      "            \n",
      "    def set_tile(self, tile):\n",
      "        if len(self.decks) < self.total_decks:\n",
      "            tile.set()\n",
      "            if tile not in self.decks:\n",
      "                self.decks.add(tile)\n",
      "        \n",
      "    def reset_tile(self, tile):\n",
      "        tile.reset()\n",
      "        if tile in self.decks:\n",
      "            self.decks.remove(tile)"
     ],
     "language": "python",
     "metadata": {},
     "outputs": [],
     "prompt_number": 469
    },
    {
     "cell_type": "code",
     "collapsed": false,
     "input": [
      "board = Board(n=5, ships=((1,2), (2,1), (3,1), (4,1)))"
     ],
     "language": "python",
     "metadata": {},
     "outputs": [],
     "prompt_number": 470
    },
    {
     "cell_type": "code",
     "collapsed": false,
     "input": [
      "board.tile_1d(1).fire()\n",
      "assert board.tile_1d(1).i == 0 and board.tile_1d(1).j == 1\n",
      "assert board.idx(board.tile_1d(1)) == 1\n",
      "board.set_tile(board.tile_1d(24))\n",
      "board.tile_1d(24).fire()\n",
      "print(board)"
     ],
     "language": "python",
     "metadata": {},
     "outputs": [
      {
       "output_type": "stream",
       "stream": "stdout",
       "text": [
        "|-----------|\n",
        "| ~ o ~ ~ ~ |\n",
        "| ~ ~ ~ ~ ~ |\n",
        "| ~ ~ ~ ~ ~ |\n",
        "| ~ ~ ~ ~ ~ |\n",
        "| ~ ~ ~ ~ x |\n",
        "|-----------|\n"
       ]
      }
     ],
     "prompt_number": 471
    },
    {
     "cell_type": "code",
     "collapsed": false,
     "input": [
      "board = Board(n=5, ships=((1,2), (2,1), (3,1), (4,1)))\n",
      "board.set_tile(board.tiles[0][1])\n",
      "board.set_tile(board.tiles[1][0])\n",
      "board.set_tile(board.tiles[1][1])\n",
      "board.set_tile(board.tiles[1][2])\n",
      "board.set_tile(board.tiles[1][3])\n",
      "board.set_tile(board.tiles[2][1])\n",
      "board.set_tile(board.tiles[2][4])\n",
      "board.set_tile(board.tiles[3][1])\n",
      "board.set_tile(board.tiles[3][4])\n",
      "board.set_tile(board.tiles[4][0])\n",
      "board.set_tile(board.tiles[4][2])\n",
      "print(board)\n",
      "print(board.detect_ships())"
     ],
     "language": "python",
     "metadata": {},
     "outputs": [
      {
       "output_type": "stream",
       "stream": "stdout",
       "text": [
        "|-----------|\n",
        "| ~ # ~ ~ ~ |\n",
        "| # # # # ~ |\n",
        "| ~ # ~ ~ # |\n",
        "| ~ # ~ ~ # |\n",
        "| # ~ # ~ ~ |\n",
        "|-----------|\n",
        "[[#, #, #, #, #, #, #], [#, #], [#], [#]]\n"
       ]
      }
     ],
     "prompt_number": 477
    },
    {
     "cell_type": "code",
     "collapsed": false,
     "input": [
      "board = Board(n=5, ships=((1,2), (2,1), (3,1), (4,1)))\n",
      "board.set_tile(board.tiles[0][0])\n",
      "board.set_tile(board.tiles[0][1])\n",
      "board.set_tile(board.tiles[0][4])\n",
      "board.set_tile(board.tiles[1][2])\n",
      "board.set_tile(board.tiles[1][4])\n",
      "board.set_tile(board.tiles[2][4])\n",
      "board.set_tile(board.tiles[3][0])\n",
      "board.set_tile(board.tiles[3][1])\n",
      "board.set_tile(board.tiles[3][2])\n",
      "board.set_tile(board.tiles[3][4])\n",
      "board.set_tile(board.tiles[4][3])\n",
      "print(board)\n",
      "for ship in board.detect_ships():\n",
      "    print([(t.i, t.j) for t in ship])"
     ],
     "language": "python",
     "metadata": {},
     "outputs": [
      {
       "output_type": "stream",
       "stream": "stdout",
       "text": [
        "|-----------|\n",
        "| # # ~ ~ # |\n",
        "| ~ ~ # ~ # |\n",
        "| ~ ~ ~ ~ # |\n",
        "| # # # ~ # |\n",
        "| ~ ~ ~ # ~ |\n",
        "|-----------|\n",
        "[(3, 4), (0, 4), (1, 4), (2, 4)]\n",
        "[(3, 2), (3, 0), (3, 1)]\n",
        "[(0, 1), (0, 0)]\n",
        "[(1, 2)]\n",
        "[(4, 3)]\n"
       ]
      }
     ],
     "prompt_number": 483
    },
    {
     "cell_type": "code",
     "collapsed": false,
     "input": [],
     "language": "python",
     "metadata": {},
     "outputs": []
    },
    {
     "cell_type": "heading",
     "level": 3,
     "metadata": {},
     "source": [
      "player"
     ]
    },
    {
     "cell_type": "code",
     "collapsed": false,
     "input": [
      "from pythonosc import osc_message_builder\n",
      "\n",
      "def osc_state_msg(address, idx, state):\n",
      "    mb = osc_message_builder.OscMessageBuilder(address=address)\n",
      "    mb.add_arg(idx)\n",
      "    mb.add_arg(state)\n",
      "    return mb.build()"
     ],
     "language": "python",
     "metadata": {},
     "outputs": [],
     "prompt_number": 254
    },
    {
     "cell_type": "code",
     "collapsed": false,
     "input": [
      "from itertools import chain\n",
      "\n",
      "UI_BOARD   = dict(sea=0, deck=1, miss=2, hit=3)\n",
      "UI_MONITOR = dict(sea=0, deck=0, miss=2, hit=3)\n",
      "\n",
      "def draw(player, address, board, ui_map):\n",
      "    mb = osc_message_builder.OscMessageBuilder(address)\n",
      "    for tile in chain(*board.tiles):\n",
      "        mb.add_arg(ui_map[tile.current])\n",
      "    player.osc_client.send(mb.build())"
     ],
     "language": "python",
     "metadata": {},
     "outputs": [],
     "prompt_number": 255
    },
    {
     "cell_type": "code",
     "collapsed": false,
     "input": [
      "from pythonosc import udp_client\n",
      "from time import sleep"
     ],
     "language": "python",
     "metadata": {},
     "outputs": [],
     "prompt_number": 256
    },
    {
     "cell_type": "code",
     "collapsed": false,
     "input": [
      "class Player(Fysom):\n",
      "    def __init__(self, ui_client_addr, osc_boards):\n",
      "        # osc endpoints\n",
      "        self.osc_board, self.osc_monitor = osc_boards\n",
      "        # os | sleep to let the network prime\n",
      "        self.osc_client = udp_client.UDPClient(*ui_client_addr)\n",
      "        sleep(.2)"
     ],
     "language": "python",
     "metadata": {},
     "outputs": [],
     "prompt_number": 257
    },
    {
     "cell_type": "heading",
     "level": 3,
     "metadata": {},
     "source": [
      "game"
     ]
    },
    {
     "cell_type": "code",
     "collapsed": false,
     "input": [
      "class Game(Fysom):\n",
      "    def __init__(self, player1, player2, board_size, ship_cfg):\n",
      "        self.player1, self.player2 = player1, player2        \n",
      "        # player boards | board of one is a monitor for another\n",
      "        self.p1_board = Board(board_size, ship_cfg)\n",
      "        self.p2_board = Board(board_size, ship_cfg)\n",
      "        # fsm\n",
      "        super().__init__(dict(initial='setup', final='over',\n",
      "                              events=(dict(name='turn',  src='setup',     dst='p1'),\n",
      "                                      dict(name='turn',  src='p1',        dst='p2'),\n",
      "                                      dict(name='turn',  src='p2',        dst='p1'),\n",
      "                                      dict(name='stop', src=('p1', 'p2'), dst='over')),\n",
      "                              callbacks={'onentersetup': self._draw_all,\n",
      "                                         'onleavesetup': self._validate_play_boards,\n",
      "                                         'onstop': self._stop_fx}))\n",
      "\n",
      "    def _draw_all(self, e):\n",
      "        for f in (self.draw_p1_board, self.draw_p1_monitor, self.draw_p2_board, self.draw_p2_monitor):\n",
      "            f()\n",
      "                                         \n",
      "    def _validate_play_boards(self, e):\n",
      "        \"\"\"check each player's play boards\"\"\"\n",
      "        pass\n",
      "    \n",
      "    def _stop_fx(self, e):\n",
      "        \"\"\"stop all sfx + some viz?\"\"\"\n",
      "        pass\n",
      "    \n",
      "    def draw_p1_board(self):\n",
      "        draw(self.player1, self.player1.osc_board, self.p1_board, UI_BOARD)\n",
      "        \n",
      "    def draw_p1_monitor(self):\n",
      "        draw(self.player1, self.player1.osc_monitor, self.p2_board, UI_MONITOR)\n",
      "        \n",
      "    def draw_p2_board(self):\n",
      "        draw(self.player2, self.player2.osc_board, self.p2_board, UI_BOARD)\n",
      "        \n",
      "    def draw_p2_monitor(self):\n",
      "        draw(self.player2, self.player2.osc_monitor, self.p1_board, UI_MONITOR)"
     ],
     "language": "python",
     "metadata": {},
     "outputs": [],
     "prompt_number": 258
    },
    {
     "cell_type": "code",
     "collapsed": false,
     "input": [
      "game = Game(Player(('127.0.0.1', 5005), ('a', 'b')),\n",
      "            Player(('127.0.0.1', 5005), ('a', 'b')),\n",
      "            5, ((1,2), (2,1), (3,1), (4,1)))\n",
      "assert game.current == 'setup', game.current"
     ],
     "language": "python",
     "metadata": {},
     "outputs": [],
     "prompt_number": 259
    },
    {
     "cell_type": "code",
     "collapsed": false,
     "input": [
      "game.turn()\n",
      "assert game.current == 'p1', game.current"
     ],
     "language": "python",
     "metadata": {},
     "outputs": [],
     "prompt_number": 260
    },
    {
     "cell_type": "code",
     "collapsed": false,
     "input": [
      "game.turn()\n",
      "assert game.current == 'p2', game.current"
     ],
     "language": "python",
     "metadata": {},
     "outputs": [],
     "prompt_number": 261
    },
    {
     "cell_type": "code",
     "collapsed": false,
     "input": [
      "game.turn()\n",
      "assert game.current == 'p1', game.current"
     ],
     "language": "python",
     "metadata": {},
     "outputs": [],
     "prompt_number": 262
    },
    {
     "cell_type": "code",
     "collapsed": false,
     "input": [
      "game.stop()"
     ],
     "language": "python",
     "metadata": {},
     "outputs": [],
     "prompt_number": 263
    },
    {
     "cell_type": "code",
     "collapsed": false,
     "input": [
      "game.is_finished()"
     ],
     "language": "python",
     "metadata": {},
     "outputs": [
      {
       "metadata": {},
       "output_type": "pyout",
       "prompt_number": 264,
       "text": [
        "True"
       ]
      }
     ],
     "prompt_number": 264
    },
    {
     "cell_type": "heading",
     "level": 3,
     "metadata": {},
     "source": [
      "game manager"
     ]
    },
    {
     "cell_type": "code",
     "collapsed": false,
     "input": [
      "from pythonosc import dispatcher\n",
      "from pythonosc import osc_server"
     ],
     "language": "python",
     "metadata": {},
     "outputs": [],
     "prompt_number": 265
    },
    {
     "cell_type": "code",
     "collapsed": false,
     "input": [
      "from functools import wraps\n",
      "\n",
      "def norepeat(f, last_args=[None]):\n",
      "    @wraps(f)\n",
      "    def wrapper(*args):\n",
      "        if not args == last_args[0]:\n",
      "            last_args[0] = args\n",
      "            return f(*args)\n",
      "    return wrapper"
     ],
     "language": "python",
     "metadata": {},
     "outputs": [],
     "prompt_number": 266
    },
    {
     "cell_type": "code",
     "collapsed": false,
     "input": [
      "class GameManager:\n",
      "    p1_osc_addr =    ('thrace.local', 8000)\n",
      "    p1_osc_boards =  ('/us/draw', '/them/draw')\n",
      "    p2_osc_addr =    ('192.168.0.11', 8000)\n",
      "    p2_osc_boards =  ('/us2/state', '/them2/state')\n",
      "\n",
      "    osc_server_addr = ('0.0.0.0', 5005)\n",
      "    board_size = 5\n",
      "    ship_cfg = ((1,2), (2,1), (3,1), (4,1))\n",
      "\n",
      "    def __init__(self):\n",
      "        # connect and init players\n",
      "        self.player1 = Player(self.p1_osc_addr, self.p1_osc_boards)\n",
      "        self.player2 = Player(self.p2_osc_addr, self.p2_osc_boards)\n",
      "        \n",
      "        # ui server\n",
      "        disp = dispatcher.Dispatcher()\n",
      "        disp.map('/us/x', self.handle_player1_board)\n",
      "        disp.map('/them/x', self.handle_player1_monitor)\n",
      "        self.ui_server = osc_server.BlockingOSCUDPServer(self.osc_server_addr, disp)\n",
      "        print(\"Bind OSC server on {}\".format(self.ui_server.server_address))\n",
      "        \n",
      "        # auto start new game\n",
      "        self.new_game()\n",
      "\n",
      "    def new_game(self):\n",
      "        self.current_game = Game(self.player1, self.player2,\n",
      "                                 self.board_size, self.ship_cfg)\n",
      "\n",
      "    def start_ui_server(self):\n",
      "        print(\"Starting OSC server on {}\".format(self.ui_server.server_address))\n",
      "        try:\n",
      "            self.ui_server.serve_forever()\n",
      "        except KeyboardInterrupt:\n",
      "            self.ui_server.server_close()\n",
      "\n",
      "    def stop_ui_server(self):\n",
      "        self.ui_server.shutdown()\n",
      "        self.ui_server.server_close()\n",
      "\n",
      "    # ui server handlers\n",
      "    \n",
      "    @norepeat\n",
      "    def handle_player1_board(self, *switches):\n",
      "        # setup\n",
      "        if self.current_game.current == 'setup':\n",
      "            for i, switch in enumerate(switches):\n",
      "                tile = self.current_game.p1_board.tile_1d(i)\n",
      "                if switch:\n",
      "                    self.current_game.p1_board.set_tile(tile)\n",
      "                else:\n",
      "                    self.current_game.p1_board.reset_tile(tile)\n",
      "        self.current_game.draw_p1_board()\n",
      "        print(self.current_game.p1_board)\n",
      "\n",
      "    def handle_player1_monitor(self, *switches):\n",
      "        self.current_game\n",
      "    \n",
      "    def handle_player2_play(self, *switches):\n",
      "        pass\n",
      "    \n",
      "    def handle_player2_monitor(self, *switches):\n",
      "        pass"
     ],
     "language": "python",
     "metadata": {},
     "outputs": [],
     "prompt_number": 310
    },
    {
     "cell_type": "code",
     "collapsed": true,
     "input": [
      "gm = GameManager()\n",
      "gm.start_ui_server()"
     ],
     "language": "python",
     "metadata": {},
     "outputs": [
      {
       "output_type": "stream",
       "stream": "stdout",
       "text": [
        "Bind OSC server on ('0.0.0.0', 5005)\n",
        "Starting OSC server on ('0.0.0.0', 5005)"
       ]
      },
      {
       "output_type": "stream",
       "stream": "stdout",
       "text": [
        "\n",
        "|-----------|\n",
        "| ~ ~ ~ ~ ~ |\n",
        "| ~ ~ ~ ~ ~ |\n",
        "| ~ ~ ~ ~ ~ |\n",
        "| ~ ~ ~ ~ ~ |\n",
        "| ~ ~ ~ ~ ~ |\n",
        "|-----------|\n",
        "|-----------|\n",
        "| ~ ~ ~ ~ # |\n",
        "| ~ ~ ~ ~ ~ |\n",
        "| ~ ~ ~ ~ ~ |\n",
        "| ~ ~ ~ ~ ~ |\n",
        "| ~ ~ ~ ~ ~ |\n",
        "|-----------|"
       ]
      },
      {
       "output_type": "stream",
       "stream": "stdout",
       "text": [
        "\n",
        "|-----------|\n",
        "| ~ ~ ~ ~ # |\n",
        "| ~ ~ ~ ~ # |\n",
        "| ~ ~ ~ ~ ~ |\n",
        "| ~ ~ ~ ~ ~ |\n",
        "| ~ ~ ~ ~ ~ |\n",
        "|-----------|"
       ]
      },
      {
       "output_type": "stream",
       "stream": "stdout",
       "text": [
        "\n",
        "|-----------|\n",
        "| ~ ~ ~ ~ # |\n",
        "| ~ ~ ~ ~ # |\n",
        "| ~ ~ ~ ~ # |\n",
        "| ~ ~ ~ ~ ~ |\n",
        "| ~ ~ ~ ~ ~ |\n",
        "|-----------|"
       ]
      },
      {
       "output_type": "stream",
       "stream": "stdout",
       "text": [
        "\n",
        "|-----------|\n",
        "| ~ ~ ~ ~ # |\n",
        "| ~ ~ ~ ~ # |\n",
        "| ~ ~ ~ ~ # |\n",
        "| ~ ~ ~ ~ # |\n",
        "| ~ ~ ~ ~ ~ |\n",
        "|-----------|"
       ]
      },
      {
       "output_type": "stream",
       "stream": "stdout",
       "text": [
        "\n",
        "|-----------|\n",
        "| ~ ~ ~ ~ # |\n",
        "| ~ ~ ~ ~ # |\n",
        "| ~ ~ ~ ~ # |\n",
        "| ~ ~ ~ ~ # |\n",
        "| ~ ~ ~ ~ # |\n",
        "|-----------|"
       ]
      },
      {
       "output_type": "stream",
       "stream": "stdout",
       "text": [
        "\n",
        "|-----------|\n",
        "| ~ ~ ~ ~ # |\n",
        "| ~ ~ ~ ~ # |\n",
        "| ~ ~ ~ ~ # |\n",
        "| ~ ~ ~ ~ # |\n",
        "| ~ ~ ~ # # |\n",
        "|-----------|"
       ]
      },
      {
       "output_type": "stream",
       "stream": "stdout",
       "text": [
        "\n",
        "|-----------|\n",
        "| ~ ~ ~ ~ # |\n",
        "| ~ ~ ~ ~ # |\n",
        "| ~ ~ ~ ~ # |\n",
        "| ~ ~ ~ ~ # |\n",
        "| ~ ~ # # # |\n",
        "|-----------|"
       ]
      },
      {
       "output_type": "stream",
       "stream": "stdout",
       "text": [
        "\n",
        "|-----------|\n",
        "| ~ ~ ~ ~ # |\n",
        "| ~ ~ ~ ~ # |\n",
        "| ~ ~ ~ ~ # |\n",
        "| ~ ~ ~ ~ # |\n",
        "| ~ # # # # |\n",
        "|-----------|"
       ]
      },
      {
       "output_type": "stream",
       "stream": "stdout",
       "text": [
        "\n",
        "|-----------|\n",
        "| ~ ~ ~ ~ # |\n",
        "| ~ ~ ~ ~ # |\n",
        "| ~ ~ ~ ~ # |\n",
        "| ~ ~ ~ ~ # |\n",
        "| # # # # # |\n",
        "|-----------|"
       ]
      },
      {
       "output_type": "stream",
       "stream": "stdout",
       "text": [
        "\n",
        "|-----------|\n",
        "| ~ ~ ~ ~ # |\n",
        "| ~ ~ ~ ~ # |\n",
        "| ~ ~ ~ ~ # |\n",
        "| # ~ ~ ~ # |\n",
        "| # # # # # |\n",
        "|-----------|"
       ]
      },
      {
       "output_type": "stream",
       "stream": "stdout",
       "text": [
        "\n",
        "|-----------|\n",
        "| ~ ~ ~ ~ # |\n",
        "| ~ ~ ~ ~ # |\n",
        "| # ~ ~ ~ # |\n",
        "| # ~ ~ ~ # |\n",
        "| # # # # # |\n",
        "|-----------|"
       ]
      },
      {
       "output_type": "stream",
       "stream": "stdout",
       "text": [
        "\n",
        "|-----------|\n",
        "| ~ ~ ~ ~ # |\n",
        "| ~ ~ ~ ~ # |\n",
        "| # ~ ~ ~ # |\n",
        "| # ~ ~ ~ # |\n",
        "| # # # # # |\n",
        "|-----------|"
       ]
      },
      {
       "output_type": "stream",
       "stream": "stdout",
       "text": [
        "\n",
        "|-----------|\n",
        "| ~ ~ ~ ~ # |\n",
        "| ~ ~ ~ ~ # |\n",
        "| # ~ ~ ~ # |\n",
        "| # ~ ~ ~ # |\n",
        "| # # # # # |\n",
        "|-----------|\n",
        "|-----------|\n",
        "| ~ ~ ~ ~ # |\n",
        "| ~ ~ ~ ~ # |\n",
        "| # ~ ~ ~ # |\n",
        "| # ~ ~ ~ # |\n",
        "| # # # # # |\n",
        "|-----------|"
       ]
      },
      {
       "output_type": "stream",
       "stream": "stdout",
       "text": [
        "\n",
        "|-----------|\n",
        "| ~ ~ ~ ~ # |\n",
        "| ~ ~ ~ ~ # |\n",
        "| # ~ ~ ~ # |\n",
        "| # ~ ~ ~ # |\n",
        "| # # # # # |\n",
        "|-----------|\n",
        "|-----------|\n",
        "| ~ ~ ~ ~ # |\n",
        "| ~ ~ ~ ~ # |\n",
        "| # ~ ~ ~ # |\n",
        "| # ~ ~ ~ # |\n",
        "| # # # # # |\n",
        "|-----------|"
       ]
      },
      {
       "output_type": "stream",
       "stream": "stdout",
       "text": [
        "\n",
        "|-----------|\n",
        "| ~ ~ ~ ~ # |\n",
        "| ~ ~ ~ ~ # |\n",
        "| # ~ ~ ~ # |\n",
        "| # ~ ~ ~ # |\n",
        "| # # # # # |\n",
        "|-----------|\n",
        "|-----------|\n",
        "| ~ ~ ~ ~ # |\n",
        "| ~ ~ ~ ~ # |\n",
        "| # ~ ~ ~ # |\n",
        "| # ~ ~ ~ # |\n",
        "| # # # # # |\n",
        "|-----------|"
       ]
      },
      {
       "output_type": "stream",
       "stream": "stdout",
       "text": [
        "\n",
        "|-----------|\n",
        "| ~ ~ ~ ~ # |\n",
        "| ~ ~ ~ ~ # |\n",
        "| # ~ ~ ~ # |\n",
        "| # ~ ~ ~ # |\n",
        "| # # # # # |\n",
        "|-----------|\n",
        "|-----------|\n",
        "| ~ ~ ~ ~ # |\n",
        "| ~ ~ ~ ~ # |\n",
        "| # ~ ~ ~ # |\n",
        "| # ~ ~ ~ # |\n",
        "| # # # # # |\n",
        "|-----------|"
       ]
      },
      {
       "output_type": "stream",
       "stream": "stdout",
       "text": [
        "\n",
        "|-----------|\n",
        "| ~ ~ ~ ~ # |\n",
        "| ~ ~ ~ ~ # |\n",
        "| # ~ ~ ~ # |\n",
        "| # ~ ~ ~ # |\n",
        "| # # # # # |\n",
        "|-----------|\n",
        "|-----------|\n",
        "| ~ ~ ~ ~ # |\n",
        "| ~ ~ ~ ~ # |\n",
        "| # ~ ~ ~ # |\n",
        "| # ~ ~ ~ # |\n",
        "| # # # # # |\n",
        "|-----------|"
       ]
      },
      {
       "output_type": "stream",
       "stream": "stdout",
       "text": [
        "\n",
        "|-----------|\n",
        "| ~ ~ ~ ~ # |\n",
        "| ~ ~ ~ ~ # |\n",
        "| # ~ ~ ~ # |\n",
        "| # ~ ~ ~ # |\n",
        "| # # # # # |\n",
        "|-----------|\n",
        "|-----------|\n",
        "| ~ ~ ~ ~ # |\n",
        "| ~ ~ ~ ~ # |\n",
        "| # ~ ~ ~ # |\n",
        "| # ~ ~ ~ # |\n",
        "| # # # # # |\n",
        "|-----------|"
       ]
      },
      {
       "output_type": "stream",
       "stream": "stdout",
       "text": [
        "\n",
        "|-----------|\n",
        "| ~ ~ ~ ~ # |\n",
        "| ~ ~ ~ ~ # |\n",
        "| # ~ ~ ~ # |\n",
        "| # ~ ~ ~ # |\n",
        "| # # # # # |\n",
        "|-----------|\n",
        "|-----------|\n",
        "| ~ ~ ~ ~ # |\n",
        "| ~ ~ ~ ~ # |\n",
        "| # ~ ~ ~ # |\n",
        "| # ~ ~ ~ # |\n",
        "| # # # # # |\n",
        "|-----------|"
       ]
      },
      {
       "output_type": "stream",
       "stream": "stdout",
       "text": [
        "\n",
        "|-----------|\n",
        "| ~ ~ ~ ~ # |\n",
        "| ~ ~ ~ ~ # |\n",
        "| # ~ ~ ~ # |\n",
        "| # ~ ~ ~ # |\n",
        "| # # # # # |\n",
        "|-----------|\n",
        "|-----------|\n",
        "| ~ ~ ~ ~ # |\n",
        "| ~ ~ ~ ~ # |\n",
        "| # ~ ~ ~ # |\n",
        "| # ~ ~ ~ # |\n",
        "| # # # # # |\n",
        "|-----------|"
       ]
      },
      {
       "output_type": "stream",
       "stream": "stdout",
       "text": [
        "\n",
        "|-----------|\n",
        "| ~ ~ ~ ~ # |\n",
        "| ~ ~ ~ ~ # |\n",
        "| # ~ ~ ~ # |\n",
        "| # ~ ~ ~ # |\n",
        "| # # # # # |\n",
        "|-----------|\n",
        "|-----------|\n",
        "| ~ ~ ~ ~ # |\n",
        "| ~ ~ ~ ~ # |\n",
        "| # ~ ~ ~ # |\n",
        "| # ~ ~ ~ # |\n",
        "| # # # # # |\n",
        "|-----------|"
       ]
      },
      {
       "output_type": "stream",
       "stream": "stdout",
       "text": [
        "\n",
        "|-----------|\n",
        "| ~ ~ ~ ~ # |\n",
        "| ~ ~ ~ ~ # |\n",
        "| # ~ ~ ~ # |\n",
        "| # ~ ~ ~ # |\n",
        "| # # # # # |\n",
        "|-----------|\n",
        "|-----------|\n",
        "| ~ ~ ~ ~ # |\n",
        "| ~ ~ ~ ~ # |\n",
        "| # ~ ~ ~ # |\n",
        "| # ~ ~ ~ # |\n",
        "| # # # # # |\n",
        "|-----------|"
       ]
      },
      {
       "output_type": "stream",
       "stream": "stdout",
       "text": [
        "\n",
        "|-----------|\n",
        "| ~ ~ ~ ~ # |\n",
        "| ~ ~ ~ ~ # |\n",
        "| # ~ ~ ~ # |\n",
        "| # ~ ~ ~ # |\n",
        "| # # # # # |\n",
        "|-----------|\n",
        "|-----------|\n",
        "| ~ ~ ~ ~ # |\n",
        "| ~ ~ ~ ~ # |\n",
        "| # ~ ~ ~ # |\n",
        "| # ~ ~ ~ # |\n",
        "| # # # # # |\n",
        "|-----------|"
       ]
      },
      {
       "output_type": "stream",
       "stream": "stdout",
       "text": [
        "\n",
        "|-----------|\n",
        "| ~ ~ ~ ~ # |\n",
        "| ~ ~ ~ ~ # |\n",
        "| # ~ ~ ~ # |\n",
        "| # ~ ~ ~ # |\n",
        "| # # # # # |\n",
        "|-----------|\n",
        "|-----------|\n",
        "| ~ ~ ~ ~ # |\n",
        "| ~ ~ ~ ~ # |\n",
        "| # ~ ~ ~ # |\n",
        "| # ~ ~ ~ # |\n",
        "| # # # # # |\n",
        "|-----------|"
       ]
      },
      {
       "output_type": "stream",
       "stream": "stdout",
       "text": [
        "\n",
        "|-----------|\n",
        "| ~ ~ ~ ~ # |\n",
        "| ~ ~ ~ ~ # |\n",
        "| # ~ ~ ~ # |\n",
        "| # ~ ~ ~ # |\n",
        "| # # # # # |\n",
        "|-----------|\n",
        "|-----------|\n",
        "| ~ ~ ~ ~ # |\n",
        "| ~ ~ ~ ~ # |\n",
        "| # ~ ~ ~ # |\n",
        "| # ~ ~ ~ # |\n",
        "| # # # # # |\n",
        "|-----------|"
       ]
      },
      {
       "output_type": "stream",
       "stream": "stdout",
       "text": [
        "\n",
        "|-----------|\n",
        "| ~ ~ ~ ~ # |\n",
        "| ~ ~ ~ ~ # |\n",
        "| # ~ ~ ~ # |\n",
        "| # ~ ~ ~ # |\n",
        "| # # # # # |\n",
        "|-----------|\n",
        "|-----------|\n",
        "| ~ ~ ~ ~ # |\n",
        "| ~ ~ ~ ~ # |\n",
        "| # ~ ~ ~ # |\n",
        "| # ~ ~ ~ # |\n",
        "| # # # # # |\n",
        "|-----------|"
       ]
      },
      {
       "output_type": "stream",
       "stream": "stdout",
       "text": [
        "\n",
        "|-----------|\n",
        "| ~ ~ ~ ~ # |\n",
        "| ~ ~ ~ ~ # |\n",
        "| # ~ ~ ~ # |\n",
        "| # ~ ~ ~ # |\n",
        "| # # # # # |\n",
        "|-----------|\n"
       ]
      }
     ],
     "prompt_number": 311
    },
    {
     "cell_type": "code",
     "collapsed": false,
     "input": [
      "gm.new_game()"
     ],
     "language": "python",
     "metadata": {},
     "outputs": [],
     "prompt_number": 269
    },
    {
     "cell_type": "code",
     "collapsed": false,
     "input": [
      "gm.current_game.draw_p1_monitor()"
     ],
     "language": "python",
     "metadata": {},
     "outputs": [],
     "prompt_number": 284
    },
    {
     "cell_type": "code",
     "collapsed": false,
     "input": [
      "gm.current_game.p1_board.total_decks"
     ],
     "language": "python",
     "metadata": {},
     "outputs": [
      {
       "metadata": {},
       "output_type": "pyout",
       "prompt_number": 307,
       "text": [
        "11"
       ]
      }
     ],
     "prompt_number": 307
    },
    {
     "cell_type": "code",
     "collapsed": false,
     "input": [
      "gm.current_game.p1_board.tile_1d(8).set()\n",
      "gm.current_game.p1_board.tile_1d(8).fire()\n",
      "gm.current_game.p1_board.tile_1d(5).fire()"
     ],
     "language": "python",
     "metadata": {},
     "outputs": [],
     "prompt_number": 287
    },
    {
     "cell_type": "code",
     "collapsed": false,
     "input": [
      "gm.current_game.draw_p1_board()"
     ],
     "language": "python",
     "metadata": {},
     "outputs": [],
     "prompt_number": 288
    },
    {
     "cell_type": "code",
     "collapsed": false,
     "input": [
      "gm.stop_ui_server()"
     ],
     "language": "python",
     "metadata": {},
     "outputs": [],
     "prompt_number": 289
    },
    {
     "cell_type": "code",
     "collapsed": false,
     "input": [
      "print(gm.current_game.p1_board)"
     ],
     "language": "python",
     "metadata": {},
     "outputs": [
      {
       "output_type": "stream",
       "stream": "stdout",
       "text": [
        "|-----------|\n",
        "| ~ ~ ~ ~ # |\n",
        "| o ~ ~ x ~ |\n",
        "| ~ # ~ ~ ~ |\n",
        "| ~ ~ ~ ~ ~ |\n",
        "| # ~ ~ ~ ~ |\n",
        "|-----------|\n"
       ]
      }
     ],
     "prompt_number": 290
    }
   ],
   "metadata": {}
  }
 ]
}