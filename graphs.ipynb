{
 "metadata": {
  "name": ""
 },
 "nbformat": 3,
 "nbformat_minor": 0,
 "worksheets": [
  {
   "cells": [
    {
     "cell_type": "code",
     "collapsed": false,
     "input": [
      "import networkx as nx"
     ],
     "language": "python",
     "metadata": {},
     "outputs": [],
     "prompt_number": 81
    },
    {
     "cell_type": "code",
     "collapsed": false,
     "input": [
      "g=nx.Graph()"
     ],
     "language": "python",
     "metadata": {},
     "outputs": [],
     "prompt_number": 82
    },
    {
     "cell_type": "code",
     "collapsed": false,
     "input": [
      "g.add_nodes_from([1, 2, 3, 4, 5])"
     ],
     "language": "python",
     "metadata": {},
     "outputs": [],
     "prompt_number": 83
    },
    {
     "cell_type": "code",
     "collapsed": false,
     "input": [
      "g.add_edges_from(([1, 2], [2, 3], [4, 5]))"
     ],
     "language": "python",
     "metadata": {},
     "outputs": [],
     "prompt_number": 87
    },
    {
     "cell_type": "code",
     "collapsed": false,
     "input": [
      "list(nx.dfs_preorder_nodes(g, 2))"
     ],
     "language": "python",
     "metadata": {},
     "outputs": [
      {
       "metadata": {},
       "output_type": "pyout",
       "prompt_number": 85,
       "text": [
        "[2, 1, 3]"
       ]
      }
     ],
     "prompt_number": 85
    },
    {
     "cell_type": "code",
     "collapsed": false,
     "input": [
      "g.edges()"
     ],
     "language": "python",
     "metadata": {},
     "outputs": [
      {
       "metadata": {},
       "output_type": "pyout",
       "prompt_number": 86,
       "text": [
        "[(1, 2), (2, 3), (4, 5)]"
       ]
      }
     ],
     "prompt_number": 86
    },
    {
     "cell_type": "code",
     "collapsed": false,
     "input": [
      "from collections import Counter, OrderedDict"
     ],
     "language": "python",
     "metadata": {},
     "outputs": [],
     "prompt_number": 59
    },
    {
     "cell_type": "code",
     "collapsed": false,
     "input": [
      "class OrderedCounter(Counter, OrderedDict):\n",
      "     \"\"\"Counter that remembers the order elements are first encountered\"\"\"\n",
      "     def __repr__(self):\n",
      "         return '%s(%r)' % (self.__class__.__name__,\n",
      "                            super(OrderedDict).__repr__())\n",
      "\n",
      "     def __reduce__(self):\n",
      "         return self.__class__, (OrderedDict(self),)"
     ],
     "language": "python",
     "metadata": {},
     "outputs": [],
     "prompt_number": 177
    },
    {
     "cell_type": "code",
     "collapsed": false,
     "input": [
      "ship_spec = frozenset(((1,2),(2,1),(3,1),(4,1)))"
     ],
     "language": "python",
     "metadata": {},
     "outputs": [],
     "prompt_number": 3
    },
    {
     "cell_type": "code",
     "collapsed": false,
     "input": [
      "d = OrderedCounter(dict(ship_spec))"
     ],
     "language": "python",
     "metadata": {},
     "outputs": [],
     "prompt_number": 186
    },
    {
     "cell_type": "code",
     "collapsed": false,
     "input": [
      "list(d.elements())"
     ],
     "language": "python",
     "metadata": {},
     "outputs": [
      {
       "metadata": {},
       "output_type": "pyout",
       "prompt_number": 187,
       "text": [
        "[1, 1, 2, 3, 4]"
       ]
      }
     ],
     "prompt_number": 187
    },
    {
     "cell_type": "code",
     "collapsed": false,
     "input": [
      "d"
     ],
     "language": "python",
     "metadata": {},
     "outputs": [
      {
       "metadata": {},
       "output_type": "pyout",
       "prompt_number": 188,
       "text": [
        "OrderedCounter(\"<super: <class 'OrderedDict'>, NULL>\")"
       ]
      }
     ],
     "prompt_number": 188
    },
    {
     "cell_type": "code",
     "collapsed": false,
     "input": [
      "d.most_common(n=1)"
     ],
     "language": "python",
     "metadata": {},
     "outputs": [
      {
       "metadata": {},
       "output_type": "pyout",
       "prompt_number": 189,
       "text": [
        "[(1, 2)]"
       ]
      }
     ],
     "prompt_number": 189
    },
    {
     "cell_type": "code",
     "collapsed": false,
     "input": [
      "d.subtract({1:1})"
     ],
     "language": "python",
     "metadata": {},
     "outputs": [],
     "prompt_number": 192
    },
    {
     "cell_type": "code",
     "collapsed": false,
     "input": [
      "list(d.elements())"
     ],
     "language": "python",
     "metadata": {},
     "outputs": [
      {
       "metadata": {},
       "output_type": "pyout",
       "prompt_number": 193,
       "text": [
        "[2, 3, 4]"
       ]
      }
     ],
     "prompt_number": 193
    },
    {
     "cell_type": "code",
     "collapsed": false,
     "input": [
      "sorted(d.keys())"
     ],
     "language": "python",
     "metadata": {},
     "outputs": [
      {
       "metadata": {},
       "output_type": "pyout",
       "prompt_number": 194,
       "text": [
        "[1, 2, 3, 4]"
       ]
      }
     ],
     "prompt_number": 194
    },
    {
     "cell_type": "code",
     "collapsed": false,
     "input": [
      "sorted(ship_spec)"
     ],
     "language": "python",
     "metadata": {},
     "outputs": [
      {
       "metadata": {},
       "output_type": "pyout",
       "prompt_number": 209,
       "text": [
        "[(1, 2), (2, 1), (3, 1), (4, 1)]"
       ]
      }
     ],
     "prompt_number": 209
    },
    {
     "cell_type": "code",
     "collapsed": false,
     "input": [
      "class IllegalShipPlacement(Exception):\n",
      "    pass"
     ],
     "language": "python",
     "metadata": {},
     "outputs": [],
     "prompt_number": 336
    },
    {
     "cell_type": "code",
     "collapsed": false,
     "input": [
      "class ShipCounter:\n",
      "    def __init__(self, ship_spec):\n",
      "        self.sizes = {}\n",
      "        self.counts = []\n",
      "        for i, (size, count) in enumerate(sorted(ship_spec)):\n",
      "            self.counts.append(count)\n",
      "            self.sizes[size] = i\n",
      "        self.n = len(self.counts)\n",
      "    \n",
      "    def _has_bigger_ships(self, i):\n",
      "        return any(self.counts[k] > 0 for k in range(i + 1, len(self.counts)))\n",
      "    \n",
      "    def add(self, size):\n",
      "        if size in self.sizes:\n",
      "            i = self.sizes[size]\n",
      "            if self.counts[i] > 0 or self._has_bigger_ships(i):\n",
      "                self.counts[i] -= 1\n",
      "                if size - 1 in self.sizes:\n",
      "                    j = self.sizes[size - 1]\n",
      "                    self.counts[j] += 1\n",
      "        else:\n",
      "            if self._has_bigger_ships(\n",
      "                                                   \n",
      "                                                   \n",
      "        try:\n",
      "            i = self.sizes[size]\n",
      "            if self.counts[i] > 0 or self._has_bigger_ships(i):\n",
      "                # decrease (size) count\n",
      "                self.counts[i] -= 1\n",
      "                # increment (size-1) count\n",
      "                self.counts[self.sizes[size-1]] += 1\n",
      "            else:\n",
      "                raise IllegalShipPlacement\n",
      "        except KeyError:\n",
      "            pass\n",
      "                \n",
      "    def remove(self, size):\n",
      "        try:\n",
      "            # increase (size) count\n",
      "            self.counts[self.sizes[size]] += 1\n",
      "            # decrease (size-1) count\n",
      "            self.counts[self.sizes[size-1]] -= 1\n",
      "        except KeyError:\n",
      "            pass\n",
      "        \n",
      "    def is_complete(self):\n",
      "        return all(c == 0 for c in self.counts)"
     ],
     "language": "python",
     "metadata": {},
     "outputs": [],
     "prompt_number": 337
    },
    {
     "cell_type": "code",
     "collapsed": false,
     "input": [
      "ship_counter = ShipCounter(ship_spec) "
     ],
     "language": "python",
     "metadata": {},
     "outputs": [],
     "prompt_number": 331
    },
    {
     "cell_type": "code",
     "collapsed": false,
     "input": [
      "print(ship_counter.counts)\n",
      "print(ship_counter.sizes)"
     ],
     "language": "python",
     "metadata": {},
     "outputs": [
      {
       "output_type": "stream",
       "stream": "stdout",
       "text": [
        "[2, 1, 1, 1]\n",
        "{1: 0, 2: 1, 3: 2, 4: 3}\n"
       ]
      }
     ],
     "prompt_number": 332
    },
    {
     "cell_type": "code",
     "collapsed": false,
     "input": [
      "added = ship_counter.add(6)\n",
      "print(ship_counter.counts, added)"
     ],
     "language": "python",
     "metadata": {},
     "outputs": [
      {
       "output_type": "stream",
       "stream": "stdout",
       "text": [
        "[2, 1, 1, 1] None\n"
       ]
      }
     ],
     "prompt_number": 335
    },
    {
     "cell_type": "code",
     "collapsed": false,
     "input": [
      "ship_counter.is_complete()"
     ],
     "language": "python",
     "metadata": {},
     "outputs": [
      {
       "metadata": {},
       "output_type": "pyout",
       "prompt_number": 321,
       "text": [
        "True"
       ]
      }
     ],
     "prompt_number": 321
    },
    {
     "cell_type": "heading",
     "level": 4,
     "metadata": {},
     "source": [
      "trees"
     ]
    },
    {
     "cell_type": "code",
     "collapsed": false,
     "input": [
      "import bintrees"
     ],
     "language": "python",
     "metadata": {},
     "outputs": [],
     "prompt_number": 134
    },
    {
     "cell_type": "code",
     "collapsed": false,
     "input": [
      "t = bintrees.RBTree(((1,3),(2,0),(4,1)))"
     ],
     "language": "python",
     "metadata": {},
     "outputs": [],
     "prompt_number": 141
    },
    {
     "cell_type": "code",
     "collapsed": false,
     "input": [
      "sum(size * qty for size, qty in t.items())"
     ],
     "language": "python",
     "metadata": {},
     "outputs": [
      {
       "metadata": {},
       "output_type": "pyout",
       "prompt_number": 142,
       "text": [
        "7"
       ]
      }
     ],
     "prompt_number": 142
    },
    {
     "cell_type": "code",
     "collapsed": false,
     "input": [
      "i = t.ceiling_key(2)\n",
      "t[i] -= 1"
     ],
     "language": "python",
     "metadata": {},
     "outputs": [],
     "prompt_number": 36
    },
    {
     "cell_type": "code",
     "collapsed": false,
     "input": [
      "class ImproperShipConfiguration(Exception):\n",
      "    pass\n",
      "\n",
      "\n",
      "class ShipTracker:\n",
      "    def __init__(self, spec):\n",
      "        self.spec = spec\n",
      "        self._size_qty, self._sizes, = bintrees.FastAVLTree(), set()\n",
      "        for size, qty in spec:\n",
      "            assert size not in self._sizes, 'Duplicate ship size in spec'\n",
      "            self._size_qty[size] = qty\n",
      "            self._sizes.add(size)\n",
      "\n",
      "    def _update_qty(self, size, delta):\n",
      "        if size in self._sizes:\n",
      "            self._size_qty[size] += delta\n",
      "                \n",
      "    def _has_bigger_ships(self, size):\n",
      "        bigger_qtys = self._size_qty.value_slice(size + 1, None)\n",
      "        return any(c > 0 for c in bigger_qtys)\n",
      "    \n",
      "    def add(self, size, group_sizes):\n",
      "        # check if all ships have been started\n",
      "        if sum(self._size_qty.values()) + len(group_sizes) < 1:\n",
      "            raise ImproperShipConfiguration()\n",
      "        # check if size is in spec\n",
      "        qty = self._size_qty[size] if size in self._sizes else 0\n",
      "        # deny if qty is exhausted and no bigger ships\n",
      "        if not (qty > 0 or self._has_bigger_ships(size)):\n",
      "            raise ImproperShipConfiguration()\n",
      "        # decrement qty for ship size\n",
      "        self._update_qty(size, -1)\n",
      "        # increment comprising sizes\n",
      "        for group_size in group_sizes:\n",
      "            self._update_qty(group_size, 1)\n",
      "    \n",
      "    def remove(self, size, ungroup_sizes):\n",
      "        # increment qty for ship size\n",
      "        self._update_qty(size, 1)        \n",
      "    \n",
      "    def is_valid(self):\n",
      "        \"\"\"Check if the configuration is valid and complete.\"\"\"\n",
      "        return all(value == 0 for value in self._size_qty.values())"
     ],
     "language": "python",
     "metadata": {},
     "outputs": [],
     "prompt_number": 473
    },
    {
     "cell_type": "code",
     "collapsed": false,
     "input": [
      "tracker = ShipTracker([(1, 2), (4, 1)])"
     ],
     "language": "python",
     "metadata": {},
     "outputs": [],
     "prompt_number": 460
    },
    {
     "cell_type": "code",
     "collapsed": false,
     "input": [
      "tracker.add(1, [])\n",
      "tracker.add(1, [])\n",
      "tracker.add(1, [])\n",
      "\n",
      "# tracker.add(1, [])\n",
      "\n",
      "# tracker.add(2, [1])  # added to 1\n",
      "tracker.add(3, [1,1]) # linked two 1s\n",
      "# tracker.add(4, [3])\n",
      "# tracker.add(1, [])\n",
      "# tracker.add(1, [])"
     ],
     "language": "python",
     "metadata": {},
     "outputs": [
      {
       "output_type": "stream",
       "stream": "stdout",
       "text": [
        "3 0 -1\n",
        "2 0 -1\n",
        "1 0 -1\n",
        "0 2 -1\n"
       ]
      }
     ],
     "prompt_number": 461
    },
    {
     "cell_type": "code",
     "collapsed": false,
     "input": [
      "print(tracker._size_qty)"
     ],
     "language": "python",
     "metadata": {},
     "outputs": [
      {
       "output_type": "stream",
       "stream": "stdout",
       "text": [
        "FastAVLTree({1: 0, 4: 0})\n"
       ]
      }
     ],
     "prompt_number": 471
    },
    {
     "cell_type": "code",
     "collapsed": false,
     "input": [
      "tracker.add(1, [])"
     ],
     "language": "python",
     "metadata": {},
     "outputs": [
      {
       "ename": "ImproperShipConfiguration",
       "evalue": "",
       "output_type": "pyerr",
       "traceback": [
        "\u001b[0;31m---------------------------------------------------------------------------\u001b[0m\n\u001b[0;31mImproperShipConfiguration\u001b[0m                 Traceback (most recent call last)",
        "\u001b[0;32m<ipython-input-472-4a01cbb92b96>\u001b[0m in \u001b[0;36m<module>\u001b[0;34m()\u001b[0m\n\u001b[0;32m----> 1\u001b[0;31m \u001b[0mtracker\u001b[0m\u001b[0;34m.\u001b[0m\u001b[0madd\u001b[0m\u001b[0;34m(\u001b[0m\u001b[0;36m1\u001b[0m\u001b[0;34m,\u001b[0m \u001b[0;34m[\u001b[0m\u001b[0;34m]\u001b[0m\u001b[0;34m)\u001b[0m\u001b[0;34m\u001b[0m\u001b[0m\n\u001b[0m",
        "\u001b[0;32m<ipython-input-459-ce0d55f84f7c>\u001b[0m in \u001b[0;36madd\u001b[0;34m(self, size, group_sizes)\u001b[0m\n\u001b[1;32m     22\u001b[0m         \u001b[0mprint\u001b[0m\u001b[0;34m(\u001b[0m\u001b[0msum\u001b[0m\u001b[0;34m(\u001b[0m\u001b[0mself\u001b[0m\u001b[0;34m.\u001b[0m\u001b[0m_size_qty\u001b[0m\u001b[0;34m.\u001b[0m\u001b[0mvalues\u001b[0m\u001b[0;34m(\u001b[0m\u001b[0;34m)\u001b[0m\u001b[0;34m)\u001b[0m\u001b[0;34m,\u001b[0m \u001b[0mlen\u001b[0m\u001b[0;34m(\u001b[0m\u001b[0mgroup_sizes\u001b[0m\u001b[0;34m)\u001b[0m\u001b[0;34m,\u001b[0m \u001b[0;34m-\u001b[0m\u001b[0;36m1\u001b[0m\u001b[0;34m)\u001b[0m\u001b[0;34m\u001b[0m\u001b[0m\n\u001b[1;32m     23\u001b[0m         \u001b[0;32mif\u001b[0m \u001b[0msum\u001b[0m\u001b[0;34m(\u001b[0m\u001b[0mself\u001b[0m\u001b[0;34m.\u001b[0m\u001b[0m_size_qty\u001b[0m\u001b[0;34m.\u001b[0m\u001b[0mvalues\u001b[0m\u001b[0;34m(\u001b[0m\u001b[0;34m)\u001b[0m\u001b[0;34m)\u001b[0m \u001b[0;34m+\u001b[0m \u001b[0mlen\u001b[0m\u001b[0;34m(\u001b[0m\u001b[0mgroup_sizes\u001b[0m\u001b[0;34m)\u001b[0m \u001b[0;34m<\u001b[0m \u001b[0;36m1\u001b[0m\u001b[0;34m:\u001b[0m\u001b[0;34m\u001b[0m\u001b[0m\n\u001b[0;32m---> 24\u001b[0;31m             \u001b[0;32mraise\u001b[0m \u001b[0mImproperShipConfiguration\u001b[0m\u001b[0;34m(\u001b[0m\u001b[0;34m)\u001b[0m\u001b[0;34m\u001b[0m\u001b[0m\n\u001b[0m\u001b[1;32m     25\u001b[0m         \u001b[0mqty\u001b[0m \u001b[0;34m=\u001b[0m \u001b[0mself\u001b[0m\u001b[0;34m.\u001b[0m\u001b[0m_size_qty\u001b[0m\u001b[0;34m[\u001b[0m\u001b[0msize\u001b[0m\u001b[0;34m]\u001b[0m \u001b[0;32mif\u001b[0m \u001b[0msize\u001b[0m \u001b[0;32min\u001b[0m \u001b[0mself\u001b[0m\u001b[0;34m.\u001b[0m\u001b[0m_sizes\u001b[0m \u001b[0;32melse\u001b[0m \u001b[0;36m0\u001b[0m\u001b[0;34m\u001b[0m\u001b[0m\n\u001b[1;32m     26\u001b[0m         \u001b[0;32mif\u001b[0m \u001b[0;32mnot\u001b[0m \u001b[0;34m(\u001b[0m\u001b[0mqty\u001b[0m \u001b[0;34m>\u001b[0m \u001b[0;36m0\u001b[0m \u001b[0;32mor\u001b[0m \u001b[0mself\u001b[0m\u001b[0;34m.\u001b[0m\u001b[0m_has_bigger_ships\u001b[0m\u001b[0;34m(\u001b[0m\u001b[0msize\u001b[0m\u001b[0;34m)\u001b[0m\u001b[0;34m)\u001b[0m\u001b[0;34m:\u001b[0m\u001b[0;34m\u001b[0m\u001b[0m\n",
        "\u001b[0;31mImproperShipConfiguration\u001b[0m: "
       ]
      },
      {
       "output_type": "stream",
       "stream": "stdout",
       "text": [
        "0 0 -1\n"
       ]
      }
     ],
     "prompt_number": 472
    },
    {
     "cell_type": "code",
     "collapsed": false,
     "input": [],
     "language": "python",
     "metadata": {},
     "outputs": []
    }
   ],
   "metadata": {}
  }
 ]
}