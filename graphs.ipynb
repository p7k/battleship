{
 "metadata": {
  "name": ""
 },
 "nbformat": 3,
 "nbformat_minor": 0,
 "worksheets": [
  {
   "cells": [
    {
     "cell_type": "code",
     "collapsed": false,
     "input": [
      "import networkx as nx"
     ],
     "language": "python",
     "metadata": {},
     "outputs": [],
     "prompt_number": 81
    },
    {
     "cell_type": "code",
     "collapsed": false,
     "input": [
      "g=nx.Graph()"
     ],
     "language": "python",
     "metadata": {},
     "outputs": [],
     "prompt_number": 82
    },
    {
     "cell_type": "code",
     "collapsed": false,
     "input": [
      "g.add_nodes_from([1, 2, 3, 4, 5])"
     ],
     "language": "python",
     "metadata": {},
     "outputs": [],
     "prompt_number": 83
    },
    {
     "cell_type": "code",
     "collapsed": false,
     "input": [
      "g.add_edges_from(([1, 2], [2, 3], [4, 5]))"
     ],
     "language": "python",
     "metadata": {},
     "outputs": [],
     "prompt_number": 87
    },
    {
     "cell_type": "code",
     "collapsed": false,
     "input": [
      "list(nx.dfs_preorder_nodes(g, 2))"
     ],
     "language": "python",
     "metadata": {},
     "outputs": [
      {
       "metadata": {},
       "output_type": "pyout",
       "prompt_number": 85,
       "text": [
        "[2, 1, 3]"
       ]
      }
     ],
     "prompt_number": 85
    },
    {
     "cell_type": "code",
     "collapsed": false,
     "input": [
      "g.edges()"
     ],
     "language": "python",
     "metadata": {},
     "outputs": [
      {
       "metadata": {},
       "output_type": "pyout",
       "prompt_number": 86,
       "text": [
        "[(1, 2), (2, 3), (4, 5)]"
       ]
      }
     ],
     "prompt_number": 86
    },
    {
     "cell_type": "code",
     "collapsed": false,
     "input": [
      "from collections import Counter, OrderedDict"
     ],
     "language": "python",
     "metadata": {},
     "outputs": [],
     "prompt_number": 59
    },
    {
     "cell_type": "code",
     "collapsed": false,
     "input": [
      "class OrderedCounter(Counter, OrderedDict):\n",
      "     \"\"\"Counter that remembers the order elements are first encountered\"\"\"\n",
      "     def __repr__(self):\n",
      "         return '%s(%r)' % (self.__class__.__name__,\n",
      "                            super(OrderedDict).__repr__())\n",
      "\n",
      "     def __reduce__(self):\n",
      "         return self.__class__, (OrderedDict(self),)"
     ],
     "language": "python",
     "metadata": {},
     "outputs": [],
     "prompt_number": 177
    },
    {
     "cell_type": "code",
     "collapsed": false,
     "input": [
      "ship_spec = frozenset(((1,2),(2,1),(3,1),(4,1)))"
     ],
     "language": "python",
     "metadata": {},
     "outputs": [],
     "prompt_number": 3
    },
    {
     "cell_type": "code",
     "collapsed": false,
     "input": [
      "d = OrderedCounter(dict(ship_spec))"
     ],
     "language": "python",
     "metadata": {},
     "outputs": [],
     "prompt_number": 186
    },
    {
     "cell_type": "code",
     "collapsed": false,
     "input": [
      "list(d.elements())"
     ],
     "language": "python",
     "metadata": {},
     "outputs": [
      {
       "metadata": {},
       "output_type": "pyout",
       "prompt_number": 187,
       "text": [
        "[1, 1, 2, 3, 4]"
       ]
      }
     ],
     "prompt_number": 187
    },
    {
     "cell_type": "code",
     "collapsed": false,
     "input": [
      "d"
     ],
     "language": "python",
     "metadata": {},
     "outputs": [
      {
       "metadata": {},
       "output_type": "pyout",
       "prompt_number": 188,
       "text": [
        "OrderedCounter(\"<super: <class 'OrderedDict'>, NULL>\")"
       ]
      }
     ],
     "prompt_number": 188
    },
    {
     "cell_type": "code",
     "collapsed": false,
     "input": [
      "d.most_common(n=1)"
     ],
     "language": "python",
     "metadata": {},
     "outputs": [
      {
       "metadata": {},
       "output_type": "pyout",
       "prompt_number": 189,
       "text": [
        "[(1, 2)]"
       ]
      }
     ],
     "prompt_number": 189
    },
    {
     "cell_type": "code",
     "collapsed": false,
     "input": [
      "d.subtract({1:1})"
     ],
     "language": "python",
     "metadata": {},
     "outputs": [],
     "prompt_number": 192
    },
    {
     "cell_type": "code",
     "collapsed": false,
     "input": [
      "list(d.elements())"
     ],
     "language": "python",
     "metadata": {},
     "outputs": [
      {
       "metadata": {},
       "output_type": "pyout",
       "prompt_number": 193,
       "text": [
        "[2, 3, 4]"
       ]
      }
     ],
     "prompt_number": 193
    },
    {
     "cell_type": "code",
     "collapsed": false,
     "input": [
      "sorted(d.keys())"
     ],
     "language": "python",
     "metadata": {},
     "outputs": [
      {
       "metadata": {},
       "output_type": "pyout",
       "prompt_number": 194,
       "text": [
        "[1, 2, 3, 4]"
       ]
      }
     ],
     "prompt_number": 194
    },
    {
     "cell_type": "code",
     "collapsed": false,
     "input": [
      "sorted(ship_spec)"
     ],
     "language": "python",
     "metadata": {},
     "outputs": [
      {
       "metadata": {},
       "output_type": "pyout",
       "prompt_number": 209,
       "text": [
        "[(1, 2), (2, 1), (3, 1), (4, 1)]"
       ]
      }
     ],
     "prompt_number": 209
    },
    {
     "cell_type": "code",
     "collapsed": false,
     "input": [
      "class IllegalShipPlacement(Exception):\n",
      "    pass"
     ],
     "language": "python",
     "metadata": {},
     "outputs": [],
     "prompt_number": 336
    },
    {
     "cell_type": "code",
     "collapsed": false,
     "input": [
      "class ShipCounter:\n",
      "    def __init__(self, ship_spec):\n",
      "        self.sizes = {}\n",
      "        self.counts = []\n",
      "        for i, (size, count) in enumerate(sorted(ship_spec)):\n",
      "            self.counts.append(count)\n",
      "            self.sizes[size] = i\n",
      "        self.n = len(self.counts)\n",
      "    \n",
      "    def _has_bigger_ships(self, i):\n",
      "        return any(self.counts[k] > 0 for k in range(i + 1, len(self.counts)))\n",
      "    \n",
      "    def add(self, size):\n",
      "        if size in self.sizes:\n",
      "            i = self.sizes[size]\n",
      "            if self.counts[i] > 0 or self._has_bigger_ships(i):\n",
      "                self.counts[i] -= 1\n",
      "                if size - 1 in self.sizes:\n",
      "                    j = self.sizes[size - 1]\n",
      "                    self.counts[j] += 1\n",
      "        else:\n",
      "            if self._has_bigger_ships(\n",
      "                                                   \n",
      "                                                   \n",
      "        try:\n",
      "            i = self.sizes[size]\n",
      "            if self.counts[i] > 0 or self._has_bigger_ships(i):\n",
      "                # decrease (size) count\n",
      "                self.counts[i] -= 1\n",
      "                # increment (size-1) count\n",
      "                self.counts[self.sizes[size-1]] += 1\n",
      "            else:\n",
      "                raise IllegalShipPlacement\n",
      "        except KeyError:\n",
      "            pass\n",
      "                \n",
      "    def remove(self, size):\n",
      "        try:\n",
      "            # increase (size) count\n",
      "            self.counts[self.sizes[size]] += 1\n",
      "            # decrease (size-1) count\n",
      "            self.counts[self.sizes[size-1]] -= 1\n",
      "        except KeyError:\n",
      "            pass\n",
      "        \n",
      "    def is_complete(self):\n",
      "        return all(c == 0 for c in self.counts)"
     ],
     "language": "python",
     "metadata": {},
     "outputs": [],
     "prompt_number": 337
    },
    {
     "cell_type": "code",
     "collapsed": false,
     "input": [
      "ship_counter = ShipCounter(ship_spec) "
     ],
     "language": "python",
     "metadata": {},
     "outputs": [],
     "prompt_number": 331
    },
    {
     "cell_type": "code",
     "collapsed": false,
     "input": [
      "print(ship_counter.counts)\n",
      "print(ship_counter.sizes)"
     ],
     "language": "python",
     "metadata": {},
     "outputs": [
      {
       "output_type": "stream",
       "stream": "stdout",
       "text": [
        "[2, 1, 1, 1]\n",
        "{1: 0, 2: 1, 3: 2, 4: 3}\n"
       ]
      }
     ],
     "prompt_number": 332
    },
    {
     "cell_type": "code",
     "collapsed": false,
     "input": [
      "added = ship_counter.add(6)\n",
      "print(ship_counter.counts, added)"
     ],
     "language": "python",
     "metadata": {},
     "outputs": [
      {
       "output_type": "stream",
       "stream": "stdout",
       "text": [
        "[2, 1, 1, 1] None\n"
       ]
      }
     ],
     "prompt_number": 335
    },
    {
     "cell_type": "code",
     "collapsed": false,
     "input": [
      "ship_counter.is_complete()"
     ],
     "language": "python",
     "metadata": {},
     "outputs": [
      {
       "metadata": {},
       "output_type": "pyout",
       "prompt_number": 321,
       "text": [
        "True"
       ]
      }
     ],
     "prompt_number": 321
    },
    {
     "cell_type": "heading",
     "level": 4,
     "metadata": {},
     "source": [
      "trees"
     ]
    },
    {
     "cell_type": "code",
     "collapsed": false,
     "input": [
      "import bintrees"
     ],
     "language": "python",
     "metadata": {},
     "outputs": [],
     "prompt_number": 134
    },
    {
     "cell_type": "code",
     "collapsed": false,
     "input": [
      "t = bintrees.RBTree(((1,3),(2,0),(4,1)))"
     ],
     "language": "python",
     "metadata": {},
     "outputs": [],
     "prompt_number": 141
    },
    {
     "cell_type": "code",
     "collapsed": false,
     "input": [
      "sum(size * qty for size, qty in t.items())"
     ],
     "language": "python",
     "metadata": {},
     "outputs": [
      {
       "metadata": {},
       "output_type": "pyout",
       "prompt_number": 142,
       "text": [
        "7"
       ]
      }
     ],
     "prompt_number": 142
    },
    {
     "cell_type": "code",
     "collapsed": false,
     "input": [
      "i = t.ceiling_key(2)\n",
      "t[i] -= 1"
     ],
     "language": "python",
     "metadata": {},
     "outputs": [],
     "prompt_number": 36
    },
    {
     "cell_type": "code",
     "collapsed": false,
     "input": [
      "class ImproperShipConfiguration(Exception):\n",
      "    pass\n",
      "\n",
      "class Tracker:\n",
      "    def __init__(self, ship_spec):\n",
      "        self._tree = bintrees.FastAVLTree()\n",
      "        self._total, self._count = 0, 0\n",
      "        for size, qty in ship_spec:\n",
      "            assert size not in self._tree, 'Duplicate ship size in spec'\n",
      "            self._total += size * qty\n",
      "            self._tree[size] = qty\n",
      "        \n",
      "    def _has_bigger_ships(self, size):\n",
      "        bigger_counts = self._tree.value_slice(size + 1, None)\n",
      "        return any(c > 0 for c in bigger_counts)\n",
      "    \n",
      "    def _touch_sizes(self, sizes, n=1):\n",
      "        for size in sizes:\n",
      "            if size in self._tree:\n",
      "                self._tree[size] += n\n",
      "                \n",
      "    def _is_valid(self):\n",
      "        \"\"\"Check if the configuration is valid and complete.\"\"\"\n",
      "        return all(value == 0 for value in self._tree.values())\n",
      "\n",
      "    def add_deck(self, new_ship_size, comprising_ship_sizes):\n",
      "        # check if full\n",
      "        if self._count >= self._total:\n",
      "            raise ImproperShipConfiguration()\n",
      "        # if new_ship_size is spec(ed)\n",
      "        has_bigger_ships = self._has_bigger_ships(new_ship_size)\n",
      "        qty = self._tree.get(new_ship_size)\n",
      "        if qty is not None:\n",
      "            if qty > 0 or has_bigger_ships:\n",
      "                self._tree[new_ship_size] -= 1\n",
      "                self._touch_sizes(comprising_ship_sizes)\n",
      "                self._count += 1\n",
      "            else:\n",
      "                raise ImproperShipConfiguration()\n",
      "        # if new_ship_size is transient\n",
      "        else:\n",
      "            if has_bigger_ships:\n",
      "                self._touch_sizes(comprising_ship_sizes)\n",
      "                self._count += 1\n",
      "            else:\n",
      "                raise ImproperShipConfiguration()\n",
      "    \n",
      "    def remove_deck(self, old_ship_size, comprising_ship_sizes):\n",
      "        # check if empty\n",
      "        if self._count <= 0:\n",
      "            raise ImproperShipConfiguration()\n",
      "        qty = self._tree.get(new_ship_size)\n",
      "        if qty is not None:\n",
      "            if qty > 0 or has_bigger_ships:\n",
      "                self._tree[new_ship_size] -= 1\n",
      "                self._touch_sizes(comprising_ship_sizes)\n",
      "                self._count += 1\n",
      "            else:\n",
      "                raise ImproperShipConfiguration()\n",
      "        else:\n",
      "            if has_bigger_ships:\n",
      "                self._touch_sizes(comprising_ship_sizes)\n",
      "                self._count += 1\n",
      "            else:\n",
      "                raise ImproperShipConfiguration()"
     ],
     "language": "python",
     "metadata": {},
     "outputs": [],
     "prompt_number": 266
    },
    {
     "cell_type": "code",
     "collapsed": false,
     "input": [
      "tracker = Tracker([(1, 2), (4, 1)])"
     ],
     "language": "python",
     "metadata": {},
     "outputs": [],
     "prompt_number": 267
    },
    {
     "cell_type": "code",
     "collapsed": false,
     "input": [
      "tracker.add_deck(1, [])\n",
      "tracker.add_deck(1, [])\n",
      "tracker.add_deck(1, [])\n",
      "tracker.add_deck(2, [1,1])"
     ],
     "language": "python",
     "metadata": {},
     "outputs": [],
     "prompt_number": 268
    },
    {
     "cell_type": "code",
     "collapsed": false,
     "input": [
      "print(tracker._tree)\n",
      "print(tracker._count)"
     ],
     "language": "python",
     "metadata": {},
     "outputs": [
      {
       "output_type": "stream",
       "stream": "stdout",
       "text": [
        "FastAVLTree({1: 1, 4: 1})\n",
        "4\n"
       ]
      }
     ],
     "prompt_number": 270
    },
    {
     "cell_type": "code",
     "collapsed": false,
     "input": [],
     "language": "python",
     "metadata": {},
     "outputs": []
    }
   ],
   "metadata": {}
  }
 ]
}